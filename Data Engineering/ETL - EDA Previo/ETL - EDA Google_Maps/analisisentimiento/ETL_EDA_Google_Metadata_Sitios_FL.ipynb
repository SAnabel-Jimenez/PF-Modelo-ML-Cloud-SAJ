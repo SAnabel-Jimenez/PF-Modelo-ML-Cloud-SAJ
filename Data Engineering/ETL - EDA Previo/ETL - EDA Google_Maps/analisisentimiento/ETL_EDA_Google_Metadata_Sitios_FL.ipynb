{
  "cells": [
    {
      "cell_type": "markdown",
      "metadata": {
        "id": "eSoEzuxW9bm6"
      },
      "source": [
        "\n",
        "\n",
        "---\n",
        "\n",
        "\n",
        "\n",
        "---\n",
        "\n",
        "\n",
        "# **Proyecto Final:**"
      ]
    },
    {
      "cell_type": "markdown",
      "metadata": {
        "id": "BuDUlTag8YPl"
      },
      "source": [
        "\n",
        "\n",
        "---\n",
        "\n",
        "\n",
        "\n",
        "---\n",
        "## **ETL_EDA Google Maps Metadata_Sitios:**\n",
        "\n",
        "\n",
        "---\n",
        "\n",
        "\n",
        "\n",
        "---\n",
        "\n"
      ]
    },
    {
      "cell_type": "markdown",
      "metadata": {
        "id": "nnAV0bnZ8pys"
      },
      "source": [
        "## **Importar Librerias:**"
      ]
    },
    {
      "cell_type": "code",
      "execution_count": 2,
      "metadata": {
        "id": "PaGYtcYT8J09"
      },
      "outputs": [],
      "source": [
        "# Importar librerias necesarias\n",
        "import json\n",
        "import os\n",
        "import pandas as pd\n",
        "import matplotlib.pyplot as plt\n",
        "import numpy as np\n",
        "import seaborn as sns\n",
        "import re\n",
        "from pandas import json_normalize\n",
        "from wordcloud import WordCloud\n",
        "import datetime"
      ]
    },
    {
      "cell_type": "markdown",
      "metadata": {
        "id": "sUxHh06lyrlM"
      },
      "source": [
        "Cargamos e importamos las librerias que concideramos necesarias para el desarrollo del proyecto."
      ]
    },
    {
      "cell_type": "markdown",
      "metadata": {
        "id": "E3vw77Ew80Ku"
      },
      "source": [
        "\n",
        "\n",
        "---\n",
        "## **Cargar los archivos .JSON:**\n"
      ]
    },
    {
      "cell_type": "code",
      "execution_count": 3,
      "metadata": {
        "id": "vgHeI3X687TG"
      },
      "outputs": [],
      "source": [
        "# Crear desde el  archivo JSON en un DataFrarame\n",
        "data_folder = 'C:/Users/flore/OneDrive/Desktop/GRUPAL HENRY/google/metadatos'\n",
        "file_names_to_read = ['1.json', '2.json', '3.json', '4.json']\n",
        "rows = []\n",
        "\n",
        "for filename in file_names_to_read:\n",
        "    file_path = os.path.join(data_folder, filename)\n",
        "    with open(file_path) as f:\n",
        "        for line in f:\n",
        "            try:\n",
        "                data = json.loads(line)\n",
        "                rows.append(data)\n",
        "            except json.JSONDecodeError as e:\n",
        "                print(f\"Error decoding JSON in {filename}: {e}\")\n",
        "\n",
        "google_metada_sitios_1_4 = pd.DataFrame(rows)"
      ]
    },
    {
      "cell_type": "code",
      "execution_count": 4,
      "metadata": {
        "colab": {
          "base_uri": "https://localhost:8080/"
        },
        "id": "qxfyooya-JRD",
        "outputId": "a46ac6dd-627b-4ce6-8701-c2c06d9111f8"
      },
      "outputs": [
        {
          "name": "stdout",
          "output_type": "stream",
          "text": [
            "<class 'pandas.core.frame.DataFrame'>\n",
            "RangeIndex: 1100004 entries, 0 to 1100003\n",
            "Data columns (total 15 columns):\n",
            " #   Column            Non-Null Count    Dtype  \n",
            "---  ------            --------------    -----  \n",
            " 0   name              1099983 non-null  object \n",
            " 1   address           1062401 non-null  object \n",
            " 2   gmap_id           1100004 non-null  object \n",
            " 3   description       59044 non-null    object \n",
            " 4   latitude          1100004 non-null  float64\n",
            " 5   longitude         1100004 non-null  float64\n",
            " 6   category          1091716 non-null  object \n",
            " 7   avg_rating        1100004 non-null  float64\n",
            " 8   num_of_reviews    1100004 non-null  int64  \n",
            " 9   price             60509 non-null    object \n",
            " 10  hours             775726 non-null   object \n",
            " 11  MISC              798733 non-null   object \n",
            " 12  state             790032 non-null   object \n",
            " 13  relative_results  966389 non-null   object \n",
            " 14  url               1100004 non-null  object \n",
            "dtypes: float64(3), int64(1), object(11)\n",
            "memory usage: 125.9+ MB\n"
          ]
        }
      ],
      "source": [
        "# Visualizacion general de las variables y cantidad de entradas\n",
        "google_metada_sitios_1_4.info()"
      ]
    },
    {
      "cell_type": "code",
      "execution_count": 5,
      "metadata": {
        "id": "PnC0a6YG-IMU"
      },
      "outputs": [],
      "source": [
        "# Crear una variable de restaurantes en el estado de 'Florida'\n",
        "restaurantes_fl_1 = google_metada_sitios_1_4[google_metada_sitios_1_4['address'].str.contains('FL', na=False)]"
      ]
    },
    {
      "cell_type": "code",
      "execution_count": 6,
      "metadata": {
        "colab": {
          "base_uri": "https://localhost:8080/"
        },
        "id": "JQ0yhQIb_HRk",
        "outputId": "66b6b79e-8bee-4bdf-dc12-bf264bf4abcf"
      },
      "outputs": [
        {
          "name": "stdout",
          "output_type": "stream",
          "text": [
            "<class 'pandas.core.frame.DataFrame'>\n",
            "Index: 77062 entries, 14 to 1099974\n",
            "Data columns (total 15 columns):\n",
            " #   Column            Non-Null Count  Dtype  \n",
            "---  ------            --------------  -----  \n",
            " 0   name              77062 non-null  object \n",
            " 1   address           77062 non-null  object \n",
            " 2   gmap_id           77062 non-null  object \n",
            " 3   description       4137 non-null   object \n",
            " 4   latitude          77062 non-null  float64\n",
            " 5   longitude         77062 non-null  float64\n",
            " 6   category          76389 non-null  object \n",
            " 7   avg_rating        77062 non-null  float64\n",
            " 8   num_of_reviews    77062 non-null  int64  \n",
            " 9   price             4141 non-null   object \n",
            " 10  hours             56947 non-null  object \n",
            " 11  MISC              59271 non-null  object \n",
            " 12  state             57762 non-null  object \n",
            " 13  relative_results  67414 non-null  object \n",
            " 14  url               77062 non-null  object \n",
            "dtypes: float64(3), int64(1), object(11)\n",
            "memory usage: 9.4+ MB\n"
          ]
        }
      ],
      "source": [
        "restaurantes_fl_1.info()"
      ]
    },
    {
      "cell_type": "code",
      "execution_count": 7,
      "metadata": {
        "id": "-cB5HZkcAxQX"
      },
      "outputs": [],
      "source": [
        "# Eliminar la variable que no se va a utilizar\n",
        "del google_metada_sitios_1_4"
      ]
    },
    {
      "cell_type": "code",
      "execution_count": 8,
      "metadata": {
        "id": "pelqIQHYASNi"
      },
      "outputs": [],
      "source": [
        "# Crear desde el  archivo JSON en un DataFrarame\n",
        "data_folder = 'C:/Users/flore/OneDrive/Desktop/GRUPAL HENRY/google/metadatos'\n",
        "file_names_to_read = ['5.json', '6.json', '7.json', '8.json']\n",
        "rows = []\n",
        "\n",
        "for filename in file_names_to_read:\n",
        "    file_path = os.path.join(data_folder, filename)\n",
        "    with open(file_path) as f:\n",
        "        for line in f:\n",
        "            try:\n",
        "                data = json.loads(line)\n",
        "                rows.append(data)\n",
        "            except json.JSONDecodeError as e:\n",
        "                print(f\"Error decoding JSON in {filename}: {e}\")\n",
        "\n",
        "google_metada_sitios_5_9 = pd.DataFrame(rows)"
      ]
    },
    {
      "cell_type": "code",
      "execution_count": 9,
      "metadata": {
        "colab": {
          "base_uri": "https://localhost:8080/"
        },
        "id": "-6BoZsKIASII",
        "outputId": "8f074ff5-01d0-4d5d-84d5-a3b0af7927dc"
      },
      "outputs": [
        {
          "name": "stdout",
          "output_type": "stream",
          "text": [
            "<class 'pandas.core.frame.DataFrame'>\n",
            "RangeIndex: 1100004 entries, 0 to 1100003\n",
            "Data columns (total 15 columns):\n",
            " #   Column            Non-Null Count    Dtype  \n",
            "---  ------            --------------    -----  \n",
            " 0   name              1099994 non-null  object \n",
            " 1   address           1072629 non-null  object \n",
            " 2   gmap_id           1100004 non-null  object \n",
            " 3   description       97925 non-null    object \n",
            " 4   latitude          1100004 non-null  float64\n",
            " 5   longitude         1100004 non-null  float64\n",
            " 6   category          1094313 non-null  object \n",
            " 7   avg_rating        1100004 non-null  float64\n",
            " 8   num_of_reviews    1100004 non-null  int64  \n",
            " 9   price             104702 non-null   object \n",
            " 10  hours             818930 non-null   object \n",
            " 11  MISC              857095 non-null   object \n",
            " 12  state             834709 non-null   object \n",
            " 13  relative_results  997020 non-null   object \n",
            " 14  url               1100004 non-null  object \n",
            "dtypes: float64(3), int64(1), object(11)\n",
            "memory usage: 125.9+ MB\n"
          ]
        }
      ],
      "source": [
        "# Visualizacion general de las variables y cantidad de entradas\n",
        "google_metada_sitios_5_9.info()"
      ]
    },
    {
      "cell_type": "code",
      "execution_count": 10,
      "metadata": {
        "id": "F8UVGyslASDC"
      },
      "outputs": [],
      "source": [
        "# Crear una variable de restaurantes en el estado de 'Florida'\n",
        "restaurantes_fl_2 = google_metada_sitios_5_9[google_metada_sitios_5_9['address'].str.contains('FL', na=False)]"
      ]
    },
    {
      "cell_type": "code",
      "execution_count": 11,
      "metadata": {
        "colab": {
          "base_uri": "https://localhost:8080/"
        },
        "id": "7fPlAICNBkGY",
        "outputId": "fe02703a-bebe-4e4c-e033-9d3b90d753e8"
      },
      "outputs": [
        {
          "name": "stdout",
          "output_type": "stream",
          "text": [
            "<class 'pandas.core.frame.DataFrame'>\n",
            "Index: 80775 entries, 139 to 1099999\n",
            "Data columns (total 15 columns):\n",
            " #   Column            Non-Null Count  Dtype  \n",
            "---  ------            --------------  -----  \n",
            " 0   name              80775 non-null  object \n",
            " 1   address           80775 non-null  object \n",
            " 2   gmap_id           80775 non-null  object \n",
            " 3   description       7388 non-null   object \n",
            " 4   latitude          80775 non-null  float64\n",
            " 5   longitude         80775 non-null  float64\n",
            " 6   category          80326 non-null  object \n",
            " 7   avg_rating        80775 non-null  float64\n",
            " 8   num_of_reviews    80775 non-null  int64  \n",
            " 9   price             7469 non-null   object \n",
            " 10  hours             62673 non-null  object \n",
            " 11  MISC              65892 non-null  object \n",
            " 12  state             63751 non-null  object \n",
            " 13  relative_results  72923 non-null  object \n",
            " 14  url               80775 non-null  object \n",
            "dtypes: float64(3), int64(1), object(11)\n",
            "memory usage: 9.9+ MB\n"
          ]
        }
      ],
      "source": [
        "restaurantes_fl_2.info()"
      ]
    },
    {
      "cell_type": "code",
      "execution_count": 12,
      "metadata": {
        "id": "jySLzw2qAR8x"
      },
      "outputs": [],
      "source": [
        "del google_metada_sitios_5_9"
      ]
    },
    {
      "cell_type": "code",
      "execution_count": 13,
      "metadata": {
        "id": "55AHo8u1ARzJ"
      },
      "outputs": [],
      "source": [
        "# Crear desde el  archivo JSON en un DataFrarame\n",
        "data_folder = 'C:/Users/flore/OneDrive/Desktop/GRUPAL HENRY/google/metadatos'\n",
        "file_names_to_read = ['9.json','10.json', '11.json']\n",
        "rows = []\n",
        "\n",
        "for filename in file_names_to_read:\n",
        "    file_path = os.path.join(data_folder, filename)\n",
        "    with open(file_path) as f:\n",
        "        for line in f:\n",
        "            try:\n",
        "                data = json.loads(line)\n",
        "                rows.append(data)\n",
        "            except json.JSONDecodeError as e:\n",
        "                print(f\"Error decoding JSON in {filename}: {e}\")\n",
        "\n",
        "google_metada_sitios_9_11 = pd.DataFrame(rows)"
      ]
    },
    {
      "cell_type": "code",
      "execution_count": 14,
      "metadata": {
        "colab": {
          "base_uri": "https://localhost:8080/"
        },
        "id": "JrYGXpMuBgqm",
        "outputId": "cf836dba-2e7f-4613-b94f-1d617bac920f"
      },
      "outputs": [
        {
          "name": "stdout",
          "output_type": "stream",
          "text": [
            "<class 'pandas.core.frame.DataFrame'>\n",
            "RangeIndex: 825003 entries, 0 to 825002\n",
            "Data columns (total 15 columns):\n",
            " #   Column            Non-Null Count   Dtype  \n",
            "---  ------            --------------   -----  \n",
            " 0   name              824997 non-null  object \n",
            " 1   address           809470 non-null  object \n",
            " 2   gmap_id           825003 non-null  object \n",
            " 3   description       97320 non-null   object \n",
            " 4   latitude          825003 non-null  float64\n",
            " 5   longitude         825003 non-null  float64\n",
            " 6   category          821563 non-null  object \n",
            " 7   avg_rating        825003 non-null  float64\n",
            " 8   num_of_reviews    825003 non-null  int64  \n",
            " 9   price             109992 non-null  object \n",
            " 10  hours             642950 non-null  object \n",
            " 11  MISC              678349 non-null  object \n",
            " 12  state             653815 non-null  object \n",
            " 13  relative_results  766544 non-null  object \n",
            " 14  url               825003 non-null  object \n",
            "dtypes: float64(3), int64(1), object(11)\n",
            "memory usage: 94.4+ MB\n"
          ]
        }
      ],
      "source": [
        "# Visualizacion general de las variables y cantidad de entradas\n",
        "google_metada_sitios_9_11.info()"
      ]
    },
    {
      "cell_type": "code",
      "execution_count": 15,
      "metadata": {
        "id": "RMd9ZCpKBgny"
      },
      "outputs": [],
      "source": [
        "# Crear una variable de restaurantes en el estado de 'Florida'\n",
        "restaurantes_fl_3 = google_metada_sitios_9_11[google_metada_sitios_9_11['address'].str.contains('FL', na=False)]"
      ]
    },
    {
      "cell_type": "code",
      "execution_count": 16,
      "metadata": {
        "colab": {
          "base_uri": "https://localhost:8080/"
        },
        "id": "OE5tMH4lCcjN",
        "outputId": "82585ea5-a2db-4451-a0d2-4341713c91f1"
      },
      "outputs": [
        {
          "name": "stdout",
          "output_type": "stream",
          "text": [
            "<class 'pandas.core.frame.DataFrame'>\n",
            "Index: 59726 entries, 5 to 825001\n",
            "Data columns (total 15 columns):\n",
            " #   Column            Non-Null Count  Dtype  \n",
            "---  ------            --------------  -----  \n",
            " 0   name              59726 non-null  object \n",
            " 1   address           59726 non-null  object \n",
            " 2   gmap_id           59726 non-null  object \n",
            " 3   description       6556 non-null   object \n",
            " 4   latitude          59726 non-null  float64\n",
            " 5   longitude         59726 non-null  float64\n",
            " 6   category          59461 non-null  object \n",
            " 7   avg_rating        59726 non-null  float64\n",
            " 8   num_of_reviews    59726 non-null  int64  \n",
            " 9   price             6658 non-null   object \n",
            " 10  hours             48031 non-null  object \n",
            " 11  MISC              50477 non-null  object \n",
            " 12  state             48727 non-null  object \n",
            " 13  relative_results  55225 non-null  object \n",
            " 14  url               59726 non-null  object \n",
            "dtypes: float64(3), int64(1), object(11)\n",
            "memory usage: 7.3+ MB\n"
          ]
        }
      ],
      "source": [
        "restaurantes_fl_3.info()"
      ]
    },
    {
      "cell_type": "code",
      "execution_count": 17,
      "metadata": {
        "id": "gURMqHU7Bgk-"
      },
      "outputs": [],
      "source": [
        "del google_metada_sitios_9_11"
      ]
    },
    {
      "cell_type": "code",
      "execution_count": 18,
      "metadata": {
        "id": "DJJxZvumCr5x"
      },
      "outputs": [],
      "source": [
        "# Crear una variable de restaurantes en el estado de 'Florida'\n",
        "comercios_fl = pd.concat([restaurantes_fl_1, restaurantes_fl_2, restaurantes_fl_3], ignore_index=True)"
      ]
    },
    {
      "cell_type": "code",
      "execution_count": 19,
      "metadata": {
        "id": "mYKugjqpXia9"
      },
      "outputs": [],
      "source": [
        "del restaurantes_fl_1, restaurantes_fl_2, restaurantes_fl_3"
      ]
    },
    {
      "cell_type": "markdown",
      "metadata": {
        "id": "_iQwjrE7U71u"
      },
      "source": [
        " **Observaciones:**\n",
        "\n",
        " - Realizamos las cargas de los archivos .Json que obtuvimos de los dataset brindados de Google Maps Metadata, los cuales era un total de 11.\n",
        "\n",
        " - Se eliminaron todos los registros que no corresponden al Estado de Pennsilvania, porque no seran tenidos en cuenta para el analisis de nuestro objetivo. Dejando un DataFrame mas acotado con los registros necesarios para mejorar la respuesta.\n",
        "\n",
        " - Fueron leidos y guardados por partes en Dataframe, para evitar problemas en el cargado, para luego unirlos con el codigo de concatenacion para que el resultado sea un DataFrame con el total de los datos brindados.\n",
        "\n",
        " - Se creo un DataFrame que contiene el total de comercios de la ciudad de Florida.\n"
      ]
    },
    {
      "cell_type": "markdown",
      "metadata": {
        "id": "Qh6gW6HiW47E"
      },
      "source": [
        "\n",
        "\n",
        "---\n",
        "\n",
        "\n",
        "\n",
        "---\n",
        "## **Visualizacion Genral del DataFrame:**\n"
      ]
    },
    {
      "cell_type": "code",
      "execution_count": 20,
      "metadata": {
        "colab": {
          "base_uri": "https://localhost:8080/"
        },
        "id": "crHY7s3FDZlN",
        "outputId": "a7fa552e-dfc7-438e-9411-b3742aebbac5"
      },
      "outputs": [
        {
          "name": "stdout",
          "output_type": "stream",
          "text": [
            "<class 'pandas.core.frame.DataFrame'>\n",
            "RangeIndex: 217563 entries, 0 to 217562\n",
            "Data columns (total 15 columns):\n",
            " #   Column            Non-Null Count   Dtype  \n",
            "---  ------            --------------   -----  \n",
            " 0   name              217563 non-null  object \n",
            " 1   address           217563 non-null  object \n",
            " 2   gmap_id           217563 non-null  object \n",
            " 3   description       18081 non-null   object \n",
            " 4   latitude          217563 non-null  float64\n",
            " 5   longitude         217563 non-null  float64\n",
            " 6   category          216176 non-null  object \n",
            " 7   avg_rating        217563 non-null  float64\n",
            " 8   num_of_reviews    217563 non-null  int64  \n",
            " 9   price             18268 non-null   object \n",
            " 10  hours             167651 non-null  object \n",
            " 11  MISC              175640 non-null  object \n",
            " 12  state             170240 non-null  object \n",
            " 13  relative_results  195562 non-null  object \n",
            " 14  url               217563 non-null  object \n",
            "dtypes: float64(3), int64(1), object(11)\n",
            "memory usage: 24.9+ MB\n"
          ]
        }
      ],
      "source": [
        "# Observar el tipo de variable y cantidad de entradas\n",
        "comercios_fl.info()"
      ]
    },
    {
      "cell_type": "code",
      "execution_count": 21,
      "metadata": {
        "colab": {
          "base_uri": "https://localhost:8080/",
          "height": 729
        },
        "id": "dBjZv24nXrdi",
        "outputId": "27e54b96-51f6-4108-964d-e1757dbac946"
      },
      "outputs": [
        {
          "data": {
            "text/html": [
              "<div>\n",
              "<style scoped>\n",
              "    .dataframe tbody tr th:only-of-type {\n",
              "        vertical-align: middle;\n",
              "    }\n",
              "\n",
              "    .dataframe tbody tr th {\n",
              "        vertical-align: top;\n",
              "    }\n",
              "\n",
              "    .dataframe thead th {\n",
              "        text-align: right;\n",
              "    }\n",
              "</style>\n",
              "<table border=\"1\" class=\"dataframe\">\n",
              "  <thead>\n",
              "    <tr style=\"text-align: right;\">\n",
              "      <th></th>\n",
              "      <th>name</th>\n",
              "      <th>address</th>\n",
              "      <th>gmap_id</th>\n",
              "      <th>description</th>\n",
              "      <th>latitude</th>\n",
              "      <th>longitude</th>\n",
              "      <th>category</th>\n",
              "      <th>avg_rating</th>\n",
              "      <th>num_of_reviews</th>\n",
              "      <th>price</th>\n",
              "      <th>hours</th>\n",
              "      <th>MISC</th>\n",
              "      <th>state</th>\n",
              "      <th>relative_results</th>\n",
              "      <th>url</th>\n",
              "    </tr>\n",
              "  </thead>\n",
              "  <tbody>\n",
              "    <tr>\n",
              "      <th>0</th>\n",
              "      <td>NTK OUTDOOR</td>\n",
              "      <td>NTK OUTDOOR, 2315 NW 107th Ave #1B18, Miami, F...</td>\n",
              "      <td>0x88d9beb4fe0532c1:0xef0555c169299d6</td>\n",
              "      <td>None</td>\n",
              "      <td>25.795204</td>\n",
              "      <td>-80.366038</td>\n",
              "      <td>[Corporate office]</td>\n",
              "      <td>5.0</td>\n",
              "      <td>35</td>\n",
              "      <td>None</td>\n",
              "      <td>[[Thursday, 9AM–6PM], [Friday, 9AM–6PM], [Satu...</td>\n",
              "      <td>{'Accessibility': ['Wheelchair accessible entr...</td>\n",
              "      <td>Open ⋅ Closes 6PM</td>\n",
              "      <td>[0x88d9bfd49a624c3f:0x280afc17e8164d79, 0x88d9...</td>\n",
              "      <td>https://www.google.com/maps/place//data=!4m2!3...</td>\n",
              "    </tr>\n",
              "    <tr>\n",
              "      <th>1</th>\n",
              "      <td>Cruises Inc. - Connie Stewart</td>\n",
              "      <td>Cruises Inc. - Connie Stewart, 6602 52nd Ln, P...</td>\n",
              "      <td>0x88c2e49b79f06c31:0x4ed8c8ce27e926e0</td>\n",
              "      <td>None</td>\n",
              "      <td>27.832187</td>\n",
              "      <td>-82.704805</td>\n",
              "      <td>[Cruise agency]</td>\n",
              "      <td>5.0</td>\n",
              "      <td>2</td>\n",
              "      <td>None</td>\n",
              "      <td>[[Thursday, 9AM–5PM], [Friday, 9AM–5PM], [Satu...</td>\n",
              "      <td>None</td>\n",
              "      <td>Open ⋅ Closes 5PM</td>\n",
              "      <td>[0x88c2fd3f88a7ab09:0x56dad3c1999b618f, 0x88c2...</td>\n",
              "      <td>https://www.google.com/maps/place//data=!4m2!3...</td>\n",
              "    </tr>\n",
              "    <tr>\n",
              "      <th>2</th>\n",
              "      <td>Seminole Family Restaurant</td>\n",
              "      <td>Seminole Family Restaurant, 6864 Seminole Blvd...</td>\n",
              "      <td>0x88c2fb8614e57ce9:0x40b51628875ad6e9</td>\n",
              "      <td>None</td>\n",
              "      <td>27.834885</td>\n",
              "      <td>-82.787419</td>\n",
              "      <td>None</td>\n",
              "      <td>3.6</td>\n",
              "      <td>8</td>\n",
              "      <td>$$</td>\n",
              "      <td>None</td>\n",
              "      <td>None</td>\n",
              "      <td>None</td>\n",
              "      <td>[0x88c2fc799a3fa1ad:0x2d1a46c8f525bf3e, 0x88c2...</td>\n",
              "      <td>https://www.google.com/maps/place//data=!4m2!3...</td>\n",
              "    </tr>\n",
              "    <tr>\n",
              "      <th>3</th>\n",
              "      <td>First Impressions Barbershop Inc.</td>\n",
              "      <td>First Impressions Barbershop Inc., 577 Deltona...</td>\n",
              "      <td>0x88e711bd2244fe3b:0x8406dd780f0574d1</td>\n",
              "      <td>None</td>\n",
              "      <td>28.877581</td>\n",
              "      <td>-81.281276</td>\n",
              "      <td>[Barber shop]</td>\n",
              "      <td>4.0</td>\n",
              "      <td>8</td>\n",
              "      <td>None</td>\n",
              "      <td>[[Thursday, 8AM–8PM], [Friday, 8AM–8PM], [Satu...</td>\n",
              "      <td>{'Accessibility': ['Wheelchair accessible entr...</td>\n",
              "      <td>Open ⋅ Closes 8PM</td>\n",
              "      <td>[0x88e7139dd918b543:0x2a27a69f19adfc9, 0x88e71...</td>\n",
              "      <td>https://www.google.com/maps/place//data=!4m2!3...</td>\n",
              "    </tr>\n",
              "    <tr>\n",
              "      <th>4</th>\n",
              "      <td>Brian Shaheen, MD</td>\n",
              "      <td>Brian Shaheen, MD, 2421 Thomas Dr, Panama City...</td>\n",
              "      <td>0x8893863ea87bd5dd:0x9383ebf973e74abb</td>\n",
              "      <td>None</td>\n",
              "      <td>30.159982</td>\n",
              "      <td>-85.752277</td>\n",
              "      <td>[Family practice physician, General practitioner]</td>\n",
              "      <td>4.2</td>\n",
              "      <td>18</td>\n",
              "      <td>None</td>\n",
              "      <td>[[Thursday, 8AM–5PM], [Friday, 8AM–5PM], [Satu...</td>\n",
              "      <td>{'Service options': ['Online care'], 'Accessib...</td>\n",
              "      <td>Open ⋅ Closes 5PM</td>\n",
              "      <td>[0x88938ebfbd53f9c5:0xf6e52004f37523c8, 0x8893...</td>\n",
              "      <td>https://www.google.com/maps/place//data=!4m2!3...</td>\n",
              "    </tr>\n",
              "  </tbody>\n",
              "</table>\n",
              "</div>"
            ],
            "text/plain": [
              "                                name  \\\n",
              "0                        NTK OUTDOOR   \n",
              "1      Cruises Inc. - Connie Stewart   \n",
              "2         Seminole Family Restaurant   \n",
              "3  First Impressions Barbershop Inc.   \n",
              "4                  Brian Shaheen, MD   \n",
              "\n",
              "                                             address  \\\n",
              "0  NTK OUTDOOR, 2315 NW 107th Ave #1B18, Miami, F...   \n",
              "1  Cruises Inc. - Connie Stewart, 6602 52nd Ln, P...   \n",
              "2  Seminole Family Restaurant, 6864 Seminole Blvd...   \n",
              "3  First Impressions Barbershop Inc., 577 Deltona...   \n",
              "4  Brian Shaheen, MD, 2421 Thomas Dr, Panama City...   \n",
              "\n",
              "                                 gmap_id description   latitude  longitude  \\\n",
              "0   0x88d9beb4fe0532c1:0xef0555c169299d6        None  25.795204 -80.366038   \n",
              "1  0x88c2e49b79f06c31:0x4ed8c8ce27e926e0        None  27.832187 -82.704805   \n",
              "2  0x88c2fb8614e57ce9:0x40b51628875ad6e9        None  27.834885 -82.787419   \n",
              "3  0x88e711bd2244fe3b:0x8406dd780f0574d1        None  28.877581 -81.281276   \n",
              "4  0x8893863ea87bd5dd:0x9383ebf973e74abb        None  30.159982 -85.752277   \n",
              "\n",
              "                                            category  avg_rating  \\\n",
              "0                                 [Corporate office]         5.0   \n",
              "1                                    [Cruise agency]         5.0   \n",
              "2                                               None         3.6   \n",
              "3                                      [Barber shop]         4.0   \n",
              "4  [Family practice physician, General practitioner]         4.2   \n",
              "\n",
              "   num_of_reviews price                                              hours  \\\n",
              "0              35  None  [[Thursday, 9AM–6PM], [Friday, 9AM–6PM], [Satu...   \n",
              "1               2  None  [[Thursday, 9AM–5PM], [Friday, 9AM–5PM], [Satu...   \n",
              "2               8    $$                                               None   \n",
              "3               8  None  [[Thursday, 8AM–8PM], [Friday, 8AM–8PM], [Satu...   \n",
              "4              18  None  [[Thursday, 8AM–5PM], [Friday, 8AM–5PM], [Satu...   \n",
              "\n",
              "                                                MISC              state  \\\n",
              "0  {'Accessibility': ['Wheelchair accessible entr...  Open ⋅ Closes 6PM   \n",
              "1                                               None  Open ⋅ Closes 5PM   \n",
              "2                                               None               None   \n",
              "3  {'Accessibility': ['Wheelchair accessible entr...  Open ⋅ Closes 8PM   \n",
              "4  {'Service options': ['Online care'], 'Accessib...  Open ⋅ Closes 5PM   \n",
              "\n",
              "                                    relative_results  \\\n",
              "0  [0x88d9bfd49a624c3f:0x280afc17e8164d79, 0x88d9...   \n",
              "1  [0x88c2fd3f88a7ab09:0x56dad3c1999b618f, 0x88c2...   \n",
              "2  [0x88c2fc799a3fa1ad:0x2d1a46c8f525bf3e, 0x88c2...   \n",
              "3  [0x88e7139dd918b543:0x2a27a69f19adfc9, 0x88e71...   \n",
              "4  [0x88938ebfbd53f9c5:0xf6e52004f37523c8, 0x8893...   \n",
              "\n",
              "                                                 url  \n",
              "0  https://www.google.com/maps/place//data=!4m2!3...  \n",
              "1  https://www.google.com/maps/place//data=!4m2!3...  \n",
              "2  https://www.google.com/maps/place//data=!4m2!3...  \n",
              "3  https://www.google.com/maps/place//data=!4m2!3...  \n",
              "4  https://www.google.com/maps/place//data=!4m2!3...  "
            ]
          },
          "execution_count": 21,
          "metadata": {},
          "output_type": "execute_result"
        }
      ],
      "source": [
        "# Visualizar los 5 primeros resgistros\n",
        "comercios_fl.head()"
      ]
    },
    {
      "cell_type": "markdown",
      "metadata": {
        "id": "OhRtdTgh08ew"
      },
      "source": [
        "De esta manera comenzamos con el primer acercamientos a los Datos, observando desde las cantidad de Registros (217563) y con un total 15 columnas. Podemos ver las tipo de variables que forman el DataFrame, de manera que nos orientamos acerca del analisis y los datos que disponemos."
      ]
    },
    {
      "cell_type": "markdown",
      "metadata": {
        "id": "dPXsYOogZAFy"
      },
      "source": [
        "---\n",
        "\n",
        "## **Descripcion de las columnas:**"
      ]
    },
    {
      "cell_type": "code",
      "execution_count": 22,
      "metadata": {
        "colab": {
          "base_uri": "https://localhost:8080/"
        },
        "id": "4xC38GOuXraz",
        "outputId": "5d0aea6a-ec77-442e-c597-c4e69428f300"
      },
      "outputs": [
        {
          "data": {
            "text/plain": [
              "Index(['name', 'address', 'gmap_id', 'description', 'latitude', 'longitude',\n",
              "       'category', 'avg_rating', 'num_of_reviews', 'price', 'hours', 'MISC',\n",
              "       'state', 'relative_results', 'url'],\n",
              "      dtype='object')"
            ]
          },
          "execution_count": 22,
          "metadata": {},
          "output_type": "execute_result"
        }
      ],
      "source": [
        "# Se buscan los nombres de las columnas\n",
        "comercios_fl.columns"
      ]
    },
    {
      "cell_type": "markdown",
      "metadata": {
        "id": "tCTnaCnZZmEB"
      },
      "source": [
        "- name: Nombre del Comercio\n",
        "- gmap_id: Identificador de Google Maps\n",
        "- address: Direccion\n",
        "- description: Detalles de la actividad del comercio\n",
        "- latitude: Latidud\n",
        "- longitude: Longitud\n",
        "- category: Categoria del Comercio\n",
        "- avg_rating: Promedio de Calificacion\n",
        "- num_of_reviews: Numeros de Comentarios\n",
        "- price: Precio\n",
        "- hours: Horario de Apertura y Cierre\n",
        "- MISC: Caracteriscticas opcionales de las instalaciones\n",
        "- state: Estado en el que se encuentra el comercio (ej: Abre en un momento)\n",
        "- relative_results:\n",
        "- url: Direccion de Google Maps del Comercio"
      ]
    },
    {
      "cell_type": "markdown",
      "metadata": {
        "id": "Jr4eGMf718Em"
      },
      "source": [
        "Generamos una Lista con el nombre de las columnas y el informe del contenido de las mismas, para tener de guia en el moento del analisis."
      ]
    },
    {
      "cell_type": "markdown",
      "metadata": {
        "id": "PKAp7UIyZsBA"
      },
      "source": [
        "\n",
        "\n",
        "---\n",
        "## **Cuantificar Valores Nulos:**\n"
      ]
    },
    {
      "cell_type": "markdown",
      "metadata": {
        "id": "BVcsz44G2sqF"
      },
      "source": [
        "Procedemos a identificar la cantidad de valores nulos, como su porcentaje, tanto del total del dataframe como el de cada columna en particular. Esto ayuda para luego tomar una descision sobre los mismos."
      ]
    },
    {
      "cell_type": "code",
      "execution_count": 23,
      "metadata": {
        "colab": {
          "base_uri": "https://localhost:8080/"
        },
        "id": "5rZpKXJdXrXx",
        "outputId": "ef26447d-0736-441a-8343-01a9fa027498"
      },
      "outputs": [
        {
          "name": "stdout",
          "output_type": "stream",
          "text": [
            "Cantidad de Filas con todos Valores Nulos: 0\n"
          ]
        }
      ],
      "source": [
        "# Verificar si cada fila tiene todos los valores nulos\n",
        "filas_con_nulos = comercios_fl.isna().all(axis=1).sum()\n",
        "# Mostrar las filas que tienen todos los valores nulos\n",
        "print(f'Cantidad de Filas con todos Valores Nulos: {filas_con_nulos}')"
      ]
    },
    {
      "cell_type": "code",
      "execution_count": 24,
      "metadata": {
        "colab": {
          "base_uri": "https://localhost:8080/"
        },
        "id": "Plh88iAgXrU7",
        "outputId": "5e672d54-f5df-413f-c426-1393b2ec17f4"
      },
      "outputs": [
        {
          "name": "stdout",
          "output_type": "stream",
          "text": [
            " Total de Valores nulos del DataFrame: 561323\n"
          ]
        }
      ],
      "source": [
        "# Cantidad total de valores nulos en todo el DataFrame\n",
        "total_valores_nulos_dataframe = comercios_fl.isna().sum().sum()\n",
        "print(f' Total de Valores nulos del DataFrame: {total_valores_nulos_dataframe}')"
      ]
    },
    {
      "cell_type": "code",
      "execution_count": 25,
      "metadata": {
        "colab": {
          "base_uri": "https://localhost:8080/"
        },
        "id": "Ao5fuwBNXrRU",
        "outputId": "4368036a-a5ae-4039-8a7e-b0d60f629b73"
      },
      "outputs": [
        {
          "name": "stdout",
          "output_type": "stream",
          "text": [
            " Total de las celdas DataFrame: 3263445\n"
          ]
        }
      ],
      "source": [
        "# Total de celdas en el DataFrame\n",
        "total_celdas = comercios_fl.size\n",
        "print(f' Total de las celdas DataFrame: {total_celdas}')"
      ]
    },
    {
      "cell_type": "code",
      "execution_count": 26,
      "metadata": {
        "colab": {
          "base_uri": "https://localhost:8080/"
        },
        "id": "eQ0LrueVbGYY",
        "outputId": "8269f7af-2081-4a83-95b7-f7c7ffb7502f"
      },
      "outputs": [
        {
          "name": "stdout",
          "output_type": "stream",
          "text": [
            "Porcentaje total de valores nulos en el DataFrame: 17.2%\n"
          ]
        }
      ],
      "source": [
        "# Calcula el porcentaje total de valores nulos\n",
        "porcentaje_total_valores_nulos_dataframe = (total_valores_nulos_dataframe / total_celdas) * 100\n",
        "# Muestra el porcentaje total de valores nulos\n",
        "print(f'Porcentaje total de valores nulos en el DataFrame: {round(porcentaje_total_valores_nulos_dataframe, 2)}%')"
      ]
    },
    {
      "cell_type": "code",
      "execution_count": 27,
      "metadata": {
        "colab": {
          "base_uri": "https://localhost:8080/"
        },
        "id": "BHtPaTQ-cpD0",
        "outputId": "6554c1f1-0542-472b-ca30-461c0d341673"
      },
      "outputs": [
        {
          "data": {
            "text/plain": [
              "name                     0\n",
              "address                  0\n",
              "gmap_id                  0\n",
              "description         199482\n",
              "latitude                 0\n",
              "longitude                0\n",
              "category              1387\n",
              "avg_rating               0\n",
              "num_of_reviews           0\n",
              "price               199295\n",
              "hours                49912\n",
              "MISC                 41923\n",
              "state                47323\n",
              "relative_results     22001\n",
              "url                      0\n",
              "dtype: int64"
            ]
          },
          "execution_count": 27,
          "metadata": {},
          "output_type": "execute_result"
        }
      ],
      "source": [
        "# Cantidad de Valores Nulos por columna\n",
        "total_valores_nulos = comercios_fl.isna().sum()\n",
        "total_valores_nulos"
      ]
    },
    {
      "cell_type": "code",
      "execution_count": 28,
      "metadata": {
        "colab": {
          "base_uri": "https://localhost:8080/"
        },
        "id": "0-dW6HZkcxS3",
        "outputId": "61e02873-4195-4ba0-b5e4-74ace8f149d3"
      },
      "outputs": [
        {
          "name": "stdout",
          "output_type": "stream",
          "text": [
            "name                 0.000000\n",
            "address              0.000000\n",
            "gmap_id              0.000000\n",
            "description         91.689304\n",
            "latitude             0.000000\n",
            "longitude            0.000000\n",
            "category             0.637516\n",
            "avg_rating           0.000000\n",
            "num_of_reviews       0.000000\n",
            "price               91.603352\n",
            "hours               22.941401\n",
            "MISC                19.269361\n",
            "state               21.751401\n",
            "relative_results    10.112473\n",
            "url                  0.000000\n",
            "dtype: float64\n"
          ]
        }
      ],
      "source": [
        "# Cantidad de valores nulos en cada columna\n",
        "total_valores_nulos = comercios_fl.isna().sum()\n",
        "# Porcentaje de valores nulos en cada columna\n",
        "porcentaje_valores_nulos = (total_valores_nulos / len(comercios_fl)) * 100\n",
        "# Mostrar los porcentajes por columnas\n",
        "print(porcentaje_valores_nulos)"
      ]
    },
    {
      "cell_type": "markdown",
      "metadata": {
        "id": "4H4rUNGPdZTz"
      },
      "source": [
        "**Observaciones:**\n",
        "\n",
        "- Se destacan las columnas 'description' y 'price' con un gran porcentaje de valores nulos."
      ]
    },
    {
      "cell_type": "code",
      "execution_count": 29,
      "metadata": {
        "colab": {
          "base_uri": "https://localhost:8080/"
        },
        "id": "O2igNtjlUV_2",
        "outputId": "e2e9fc29-8881-400a-d40a-178bc2a7696a"
      },
      "outputs": [
        {
          "data": {
            "text/plain": [
              "0         NTK OUTDOOR, 2315 NW 107th Ave #1B18, Miami, F...\n",
              "1         Cruises Inc. - Connie Stewart, 6602 52nd Ln, P...\n",
              "2         Seminole Family Restaurant, 6864 Seminole Blvd...\n",
              "3         First Impressions Barbershop Inc., 577 Deltona...\n",
              "4         Brian Shaheen, MD, 2421 Thomas Dr, Panama City...\n",
              "                                ...                        \n",
              "217558    A-Plus Quality Services & Repair, 630 Oak Pl #...\n",
              "217559    COA New Smyrna Beach Neighborhood Activity Cen...\n",
              "217560    Subpreme Grill, 15260 SW 280th St UNIT 111, Ho...\n",
              "217561    Enterprise Rent-A-Car, 33521 S Dixie Hwy, Home...\n",
              "217562    Ok Feed Store, 16300 SW 296th St, Homestead, F...\n",
              "Name: address, Length: 217563, dtype: object"
            ]
          },
          "execution_count": 29,
          "metadata": {},
          "output_type": "execute_result"
        }
      ],
      "source": [
        "comercios_fl['address']"
      ]
    },
    {
      "cell_type": "markdown",
      "metadata": {
        "id": "1rhBC2j2dyNC"
      },
      "source": [
        "\n",
        "\n",
        "---\n",
        "## **Eliminar Columnas:**"
      ]
    },
    {
      "cell_type": "markdown",
      "metadata": {
        "id": "UgKyql6H3NmK"
      },
      "source": [
        "Tomamos la decision de elegir cuales columnas seran necesarias para nuestro analisis, para hacer mas efectivo el trabajo."
      ]
    },
    {
      "cell_type": "code",
      "execution_count": 30,
      "metadata": {
        "id": "W4M7SqLZdaEZ"
      },
      "outputs": [],
      "source": [
        "# Se eliminan las columnas que no seran utilizadas para el analisis\n",
        "comercios_fl = comercios_fl.drop(columns=['description', 'state', 'relative_results', 'url'])"
      ]
    },
    {
      "cell_type": "markdown",
      "metadata": {
        "id": "JJ1zpTy5eEy8"
      },
      "source": [
        "**Observaciones:**\n",
        "\n",
        "- Eliminamos las columnas 'description', 'num_of_reviews', 'state', 'relative_results', 'url' debido a que no proporcionan informacion relevante para el analisis o poseen valores que se encuentran en otras."
      ]
    },
    {
      "cell_type": "markdown",
      "metadata": {
        "id": "4TZey_9beduf"
      },
      "source": [
        "\n",
        "\n",
        "---\n",
        "\n",
        "## **Modificar el contenido de las Columnas:**\n",
        "\n"
      ]
    },
    {
      "cell_type": "markdown",
      "metadata": {
        "id": "AanTCEO53mim"
      },
      "source": [
        "Alteramos los tipos de variables para poder mejorar el procesamiento y las consultas correspondientes."
      ]
    },
    {
      "cell_type": "code",
      "execution_count": 31,
      "metadata": {
        "id": "Ld666HoWeKdY"
      },
      "outputs": [],
      "source": [
        "# Se moifican  las listas en cadenas de str para poder tratar los datos dentro de ellas\n",
        "comercios_fl['category'] = comercios_fl['category'].apply(lambda x: ', '.join(x) if isinstance(x, list) else x)\n"
      ]
    },
    {
      "cell_type": "code",
      "execution_count": 32,
      "metadata": {
        "id": "Tyanu2TMfCCh"
      },
      "outputs": [],
      "source": [
        "# Se transforman a minusculas para que se pueda realizar una busqueda mas precisa por categoria\n",
        "comercios_fl['category'] = comercios_fl['category'].str.lower()"
      ]
    },
    {
      "cell_type": "code",
      "execution_count": 33,
      "metadata": {
        "id": "68NREiwDfE_i"
      },
      "outputs": [],
      "source": [
        "# Rellenar los valores NA con una cadena vacía\n",
        "comercios_fl['category'].fillna('sin categoria', inplace=True)\n",
        "# Seleccionar las filas que contienen la palabra restaurant\n",
        "restaurantes_fl = comercios_fl[comercios_fl['category'].str.contains('restaurant', case=False)]\n"
      ]
    },
    {
      "cell_type": "code",
      "execution_count": 34,
      "metadata": {
        "colab": {
          "base_uri": "https://localhost:8080/"
        },
        "id": "cLueoDAUfE7o",
        "outputId": "37d5d6dd-41c9-412f-d646-641dbd314381"
      },
      "outputs": [
        {
          "name": "stdout",
          "output_type": "stream",
          "text": [
            "5                                                      None\n",
            "6         Thursday 11AM–9PM, Friday 11AM–9PM, Saturday 1...\n",
            "49        Thursday 6:30AM–6PM, Friday 6:30AM–6PM, Saturd...\n",
            "79        Thursday 5–9PM, Friday 5–10PM, Saturday 5–10PM...\n",
            "89        Thursday Open 24 hours, Friday Open 24 hours, ...\n",
            "                                ...                        \n",
            "217538    Monday 10AM–10PM, Tuesday 10AM–10PM, Wednesday...\n",
            "217541    Monday 10AM–10PM, Tuesday 10AM–10PM, Wednesday...\n",
            "217553    Monday 5–11PM, Tuesday 6–11PM, Wednesday 6–11P...\n",
            "217555    Monday 4–9PM, Tuesday 4–9PM, Wednesday 4–9PM, ...\n",
            "217560    Monday 10AM–8PM, Tuesday 10AM–8PM, Wednesday 1...\n",
            "Name: hours, Length: 13896, dtype: object\n"
          ]
        },
        {
          "name": "stderr",
          "output_type": "stream",
          "text": [
            "C:\\Users\\flore\\AppData\\Local\\Temp\\ipykernel_24104\\2094746532.py:9: SettingWithCopyWarning: \n",
            "A value is trying to be set on a copy of a slice from a DataFrame.\n",
            "Try using .loc[row_indexer,col_indexer] = value instead\n",
            "\n",
            "See the caveats in the documentation: https://pandas.pydata.org/pandas-docs/stable/user_guide/indexing.html#returning-a-view-versus-a-copy\n",
            "  restaurantes_fl['hours'] = restaurantes_fl['hours'].apply(convertir_a_cadena)\n"
          ]
        }
      ],
      "source": [
        "# Convertir listas de la columna 'hours' en cadenas de texto\n",
        "def convertir_a_cadena(x):\n",
        "    if x is None:\n",
        "        return None\n",
        "    else:\n",
        "        return ', '.join([day + ' ' + time for day, time in x])\n",
        "\n",
        "# Aplicar la función a la columna 'hours'\n",
        "restaurantes_fl['hours'] = restaurantes_fl['hours'].apply(convertir_a_cadena)\n",
        "\n",
        "# Verificar los cambios\n",
        "print(restaurantes_fl['hours'])\n"
      ]
    },
    {
      "cell_type": "markdown",
      "metadata": {
        "id": "I_XFgM6W4O9-"
      },
      "source": [
        "La modificacoin de la columna 'hours' se encontraba con listas anidadas, por lo que decidimos procesarlas para que queden desanidadas asi poder acceder a los datos de manera mas rapida."
      ]
    },
    {
      "cell_type": "code",
      "execution_count": 35,
      "metadata": {
        "id": "nX9-tpfYfE0w"
      },
      "outputs": [],
      "source": [
        "# Expandir el diccionario en la columna 'MISC' en nuevas columnas\n",
        "misc_expandido = json_normalize(restaurantes_fl['MISC'])"
      ]
    },
    {
      "cell_type": "markdown",
      "metadata": {
        "id": "wOupDbJY4kzz"
      },
      "source": [
        "Creamos un nuevo Dataframe con la columna 'MISC' que estaba en forma de ojeto json, de esta manera se normaliza y la forma clave-valor toma la forma de columnas las claves y el contenido de las celdas el valor."
      ]
    },
    {
      "cell_type": "code",
      "execution_count": 36,
      "metadata": {
        "id": "2GNCp_XafEuz"
      },
      "outputs": [],
      "source": [
        "# Reinicio de indices de ambos DataFrames\n",
        "restaurantes_fl.reset_index(drop=True, inplace=True)\n",
        "misc_expandido.reset_index(drop=True, inplace=True)\n",
        "\n",
        "# Concatenar las nuevas columnas al DataFrame original\n",
        "restaurantes_fl = pd.concat([restaurantes_fl, misc_expandido], axis=1)"
      ]
    },
    {
      "cell_type": "code",
      "execution_count": 37,
      "metadata": {
        "colab": {
          "base_uri": "https://localhost:8080/"
        },
        "id": "U51DXg7qfErI",
        "outputId": "bb971450-be4b-4e51-dd1e-112b471419f8"
      },
      "outputs": [
        {
          "name": "stdout",
          "output_type": "stream",
          "text": [
            "<class 'pandas.core.frame.DataFrame'>\n",
            "RangeIndex: 13896 entries, 0 to 13895\n",
            "Data columns (total 25 columns):\n",
            " #   Column             Non-Null Count  Dtype  \n",
            "---  ------             --------------  -----  \n",
            " 0   name               13896 non-null  object \n",
            " 1   address            13896 non-null  object \n",
            " 2   gmap_id            13896 non-null  object \n",
            " 3   latitude           13896 non-null  float64\n",
            " 4   longitude          13896 non-null  float64\n",
            " 5   category           13896 non-null  object \n",
            " 6   avg_rating         13896 non-null  float64\n",
            " 7   num_of_reviews     13896 non-null  int64  \n",
            " 8   price              6044 non-null   object \n",
            " 9   hours              12290 non-null  object \n",
            " 10  MISC               13831 non-null  object \n",
            " 11  Service options    13512 non-null  object \n",
            " 12  Accessibility      10637 non-null  object \n",
            " 13  Offerings          10593 non-null  object \n",
            " 14  Dining options     8345 non-null   object \n",
            " 15  Amenities          11048 non-null  object \n",
            " 16  Atmosphere         9284 non-null   object \n",
            " 17  Crowd              7777 non-null   object \n",
            " 18  Highlights         4892 non-null   object \n",
            " 19  Planning           2542 non-null   object \n",
            " 20  Payments           5812 non-null   object \n",
            " 21  Popular for        8388 non-null   object \n",
            " 22  Health & safety    2741 non-null   object \n",
            " 23  From the business  591 non-null    object \n",
            " 24  Health and safety  829 non-null    object \n",
            "dtypes: float64(3), int64(1), object(21)\n",
            "memory usage: 2.7+ MB\n"
          ]
        }
      ],
      "source": [
        "restaurantes_fl.info()"
      ]
    },
    {
      "cell_type": "code",
      "execution_count": 38,
      "metadata": {
        "id": "A3qTaQy2gRGc"
      },
      "outputs": [],
      "source": [
        "# Eliminar la columna 'MISC' si ya no la necesitas\n",
        "restaurantes_fl.drop(columns=['MISC'], inplace=True)"
      ]
    },
    {
      "cell_type": "markdown",
      "metadata": {
        "id": "0qL1LRaE5DAp"
      },
      "source": [
        "Reiniciamos los valores de ambos DataFrame, para no tener inconvenientes a la hora de la union a traves del eje de las columnas, para asi contar con las nuevas columnas que estaban anidadas. debido a que contamos con toda la informacion, procedemos a eliminar la columna 'MISC' que ya no sera de utilidad."
      ]
    },
    {
      "cell_type": "code",
      "execution_count": 39,
      "metadata": {
        "colab": {
          "base_uri": "https://localhost:8080/",
          "height": 793
        },
        "id": "5Osq9jg95zmd",
        "outputId": "3f05c914-5247-4c35-8076-1256bbd0978b"
      },
      "outputs": [
        {
          "data": {
            "text/html": [
              "<div>\n",
              "<style scoped>\n",
              "    .dataframe tbody tr th:only-of-type {\n",
              "        vertical-align: middle;\n",
              "    }\n",
              "\n",
              "    .dataframe tbody tr th {\n",
              "        vertical-align: top;\n",
              "    }\n",
              "\n",
              "    .dataframe thead th {\n",
              "        text-align: right;\n",
              "    }\n",
              "</style>\n",
              "<table border=\"1\" class=\"dataframe\">\n",
              "  <thead>\n",
              "    <tr style=\"text-align: right;\">\n",
              "      <th></th>\n",
              "      <th>name</th>\n",
              "      <th>address</th>\n",
              "      <th>gmap_id</th>\n",
              "      <th>latitude</th>\n",
              "      <th>longitude</th>\n",
              "      <th>category</th>\n",
              "      <th>avg_rating</th>\n",
              "      <th>num_of_reviews</th>\n",
              "      <th>price</th>\n",
              "      <th>hours</th>\n",
              "      <th>...</th>\n",
              "      <th>Amenities</th>\n",
              "      <th>Atmosphere</th>\n",
              "      <th>Crowd</th>\n",
              "      <th>Highlights</th>\n",
              "      <th>Planning</th>\n",
              "      <th>Payments</th>\n",
              "      <th>Popular for</th>\n",
              "      <th>Health &amp; safety</th>\n",
              "      <th>From the business</th>\n",
              "      <th>Health and safety</th>\n",
              "    </tr>\n",
              "  </thead>\n",
              "  <tbody>\n",
              "    <tr>\n",
              "      <th>0</th>\n",
              "      <td>Cape Seafood Shack</td>\n",
              "      <td>Cape Seafood Shack, 603 Del Prado Blvd S, Cape...</td>\n",
              "      <td>0x88db4147b1d9e6f3:0x943dbd10a92ba1b1</td>\n",
              "      <td>26.641377</td>\n",
              "      <td>-81.940545</td>\n",
              "      <td>restaurant</td>\n",
              "      <td>5.0</td>\n",
              "      <td>1</td>\n",
              "      <td>$$</td>\n",
              "      <td>None</td>\n",
              "      <td>...</td>\n",
              "      <td>[Good for kids]</td>\n",
              "      <td>[Casual]</td>\n",
              "      <td>NaN</td>\n",
              "      <td>NaN</td>\n",
              "      <td>NaN</td>\n",
              "      <td>NaN</td>\n",
              "      <td>NaN</td>\n",
              "      <td>NaN</td>\n",
              "      <td>NaN</td>\n",
              "      <td>NaN</td>\n",
              "    </tr>\n",
              "    <tr>\n",
              "      <th>1</th>\n",
              "      <td>Fresh Point Country Buffet</td>\n",
              "      <td>Fresh Point Country Buffet, 10525 US-19, Pinel...</td>\n",
              "      <td>0x88c2e4e34f1ed783:0x76c5da381c499d79</td>\n",
              "      <td>27.867489</td>\n",
              "      <td>-82.702971</td>\n",
              "      <td>buffet restaurant</td>\n",
              "      <td>5.0</td>\n",
              "      <td>2</td>\n",
              "      <td>None</td>\n",
              "      <td>Thursday 11AM–9PM, Friday 11AM–9PM, Saturday 1...</td>\n",
              "      <td>...</td>\n",
              "      <td>[Good for kids]</td>\n",
              "      <td>[Casual]</td>\n",
              "      <td>[Groups]</td>\n",
              "      <td>NaN</td>\n",
              "      <td>NaN</td>\n",
              "      <td>NaN</td>\n",
              "      <td>NaN</td>\n",
              "      <td>NaN</td>\n",
              "      <td>NaN</td>\n",
              "      <td>NaN</td>\n",
              "    </tr>\n",
              "    <tr>\n",
              "      <th>2</th>\n",
              "      <td>Hot Box</td>\n",
              "      <td>Hot Box, 1-99 Kinkaid St, Pensacola, FL 32507</td>\n",
              "      <td>0x8890b9241e704667:0x3a1e565c17c00993</td>\n",
              "      <td>30.391411</td>\n",
              "      <td>-87.267220</td>\n",
              "      <td>restaurant</td>\n",
              "      <td>4.2</td>\n",
              "      <td>5</td>\n",
              "      <td>None</td>\n",
              "      <td>Thursday 6:30AM–6PM, Friday 6:30AM–6PM, Saturd...</td>\n",
              "      <td>...</td>\n",
              "      <td>NaN</td>\n",
              "      <td>NaN</td>\n",
              "      <td>NaN</td>\n",
              "      <td>NaN</td>\n",
              "      <td>NaN</td>\n",
              "      <td>NaN</td>\n",
              "      <td>NaN</td>\n",
              "      <td>NaN</td>\n",
              "      <td>NaN</td>\n",
              "      <td>NaN</td>\n",
              "    </tr>\n",
              "    <tr>\n",
              "      <th>3</th>\n",
              "      <td>Gormley's on the river | Modern cuisine in his...</td>\n",
              "      <td>Gormley's on the river | Modern cuisine in his...</td>\n",
              "      <td>0x8894b5a7a7909725:0xe4687299fd288188</td>\n",
              "      <td>29.726949</td>\n",
              "      <td>-84.981535</td>\n",
              "      <td>modern french restaurant, restaurant</td>\n",
              "      <td>4.3</td>\n",
              "      <td>17</td>\n",
              "      <td>None</td>\n",
              "      <td>Thursday 5–9PM, Friday 5–10PM, Saturday 5–10PM...</td>\n",
              "      <td>...</td>\n",
              "      <td>NaN</td>\n",
              "      <td>NaN</td>\n",
              "      <td>NaN</td>\n",
              "      <td>NaN</td>\n",
              "      <td>NaN</td>\n",
              "      <td>NaN</td>\n",
              "      <td>NaN</td>\n",
              "      <td>NaN</td>\n",
              "      <td>NaN</td>\n",
              "      <td>NaN</td>\n",
              "    </tr>\n",
              "    <tr>\n",
              "      <th>4</th>\n",
              "      <td>Shell</td>\n",
              "      <td>Shell, 15877 E, FL-40, Silver Springs, FL 34488</td>\n",
              "      <td>0x88e635378f43352f:0xa1b53c63436fa428</td>\n",
              "      <td>29.183272</td>\n",
              "      <td>-81.889965</td>\n",
              "      <td>gas station, atm, convenience store, restaurant</td>\n",
              "      <td>1.8</td>\n",
              "      <td>5</td>\n",
              "      <td>$$</td>\n",
              "      <td>Thursday Open 24 hours, Friday Open 24 hours, ...</td>\n",
              "      <td>...</td>\n",
              "      <td>NaN</td>\n",
              "      <td>NaN</td>\n",
              "      <td>NaN</td>\n",
              "      <td>NaN</td>\n",
              "      <td>NaN</td>\n",
              "      <td>NaN</td>\n",
              "      <td>NaN</td>\n",
              "      <td>NaN</td>\n",
              "      <td>NaN</td>\n",
              "      <td>NaN</td>\n",
              "    </tr>\n",
              "  </tbody>\n",
              "</table>\n",
              "<p>5 rows × 24 columns</p>\n",
              "</div>"
            ],
            "text/plain": [
              "                                                name  \\\n",
              "0                                 Cape Seafood Shack   \n",
              "1                         Fresh Point Country Buffet   \n",
              "2                                            Hot Box   \n",
              "3  Gormley's on the river | Modern cuisine in his...   \n",
              "4                                              Shell   \n",
              "\n",
              "                                             address  \\\n",
              "0  Cape Seafood Shack, 603 Del Prado Blvd S, Cape...   \n",
              "1  Fresh Point Country Buffet, 10525 US-19, Pinel...   \n",
              "2      Hot Box, 1-99 Kinkaid St, Pensacola, FL 32507   \n",
              "3  Gormley's on the river | Modern cuisine in his...   \n",
              "4    Shell, 15877 E, FL-40, Silver Springs, FL 34488   \n",
              "\n",
              "                                 gmap_id   latitude  longitude  \\\n",
              "0  0x88db4147b1d9e6f3:0x943dbd10a92ba1b1  26.641377 -81.940545   \n",
              "1  0x88c2e4e34f1ed783:0x76c5da381c499d79  27.867489 -82.702971   \n",
              "2  0x8890b9241e704667:0x3a1e565c17c00993  30.391411 -87.267220   \n",
              "3  0x8894b5a7a7909725:0xe4687299fd288188  29.726949 -84.981535   \n",
              "4  0x88e635378f43352f:0xa1b53c63436fa428  29.183272 -81.889965   \n",
              "\n",
              "                                          category  avg_rating  \\\n",
              "0                                       restaurant         5.0   \n",
              "1                                buffet restaurant         5.0   \n",
              "2                                       restaurant         4.2   \n",
              "3             modern french restaurant, restaurant         4.3   \n",
              "4  gas station, atm, convenience store, restaurant         1.8   \n",
              "\n",
              "   num_of_reviews price                                              hours  \\\n",
              "0               1    $$                                               None   \n",
              "1               2  None  Thursday 11AM–9PM, Friday 11AM–9PM, Saturday 1...   \n",
              "2               5  None  Thursday 6:30AM–6PM, Friday 6:30AM–6PM, Saturd...   \n",
              "3              17  None  Thursday 5–9PM, Friday 5–10PM, Saturday 5–10PM...   \n",
              "4               5    $$  Thursday Open 24 hours, Friday Open 24 hours, ...   \n",
              "\n",
              "   ...        Amenities Atmosphere     Crowd Highlights Planning Payments  \\\n",
              "0  ...  [Good for kids]   [Casual]       NaN        NaN      NaN      NaN   \n",
              "1  ...  [Good for kids]   [Casual]  [Groups]        NaN      NaN      NaN   \n",
              "2  ...              NaN        NaN       NaN        NaN      NaN      NaN   \n",
              "3  ...              NaN        NaN       NaN        NaN      NaN      NaN   \n",
              "4  ...              NaN        NaN       NaN        NaN      NaN      NaN   \n",
              "\n",
              "  Popular for Health & safety From the business Health and safety  \n",
              "0         NaN             NaN               NaN               NaN  \n",
              "1         NaN             NaN               NaN               NaN  \n",
              "2         NaN             NaN               NaN               NaN  \n",
              "3         NaN             NaN               NaN               NaN  \n",
              "4         NaN             NaN               NaN               NaN  \n",
              "\n",
              "[5 rows x 24 columns]"
            ]
          },
          "execution_count": 39,
          "metadata": {},
          "output_type": "execute_result"
        }
      ],
      "source": [
        "restaurantes_fl.head()"
      ]
    },
    {
      "cell_type": "code",
      "execution_count": 40,
      "metadata": {
        "colab": {
          "base_uri": "https://localhost:8080/"
        },
        "id": "ySuZ0w296V04",
        "outputId": "d2bf2789-d3c6-4b20-aeab-47f952507ca4"
      },
      "outputs": [
        {
          "data": {
            "text/plain": [
              "Index(['name', 'address', 'gmap_id', 'latitude', 'longitude', 'category',\n",
              "       'avg_rating', 'num_of_reviews', 'price', 'hours', 'Service options',\n",
              "       'Accessibility', 'Offerings', 'Dining options', 'Amenities',\n",
              "       'Atmosphere', 'Crowd', 'Highlights', 'Planning', 'Payments',\n",
              "       'Popular for', 'Health & safety', 'From the business',\n",
              "       'Health and safety'],\n",
              "      dtype='object')"
            ]
          },
          "execution_count": 40,
          "metadata": {},
          "output_type": "execute_result"
        }
      ],
      "source": [
        "restaurantes_fl.columns"
      ]
    },
    {
      "cell_type": "code",
      "execution_count": 41,
      "metadata": {
        "id": "ojjLs3KagRCr"
      },
      "outputs": [],
      "source": [
        "columnas_convertir = ['Service options', 'Highlights', 'Popular for', 'Offerings',\n",
        "                     'Dining options', 'Amenities', 'Atmosphere', 'Crowd',\n",
        "                     'Planning', 'Payments', 'Health & safety', 'Accessibility',\n",
        "                     'From the business', 'Health and safety']\n",
        "\n",
        "# Aplica la función lambda a cada columna individualmente\n",
        "for column in columnas_convertir:\n",
        "    restaurantes_fl[column] = restaurantes_fl[column].apply(lambda x: ', '.join(x) if isinstance(x, list) else x)"
      ]
    },
    {
      "cell_type": "markdown",
      "metadata": {
        "id": "gzT8Xa3U5wTV"
      },
      "source": [
        "A causa que las columnas obtenidas de la columna'MISC' se encuentran dentro de una lista, se procede a extraer los datos que poseen, con la iteracion y funcion generada."
      ]
    },
    {
      "cell_type": "code",
      "execution_count": 42,
      "metadata": {
        "id": "3_D_SS-0iskz"
      },
      "outputs": [],
      "source": [
        "# Se realiza modificacion el opcion de visualizacion de los dataframe\n",
        "pd.set_option('display.max_columns', None)\n"
      ]
    },
    {
      "cell_type": "markdown",
      "metadata": {
        "id": "P9HJTph3gbr6"
      },
      "source": [
        "\n",
        "\n",
        "---\n",
        "## **Valores Duplicados:**\n"
      ]
    },
    {
      "cell_type": "markdown",
      "metadata": {
        "id": "-9AE0RQv6XNF"
      },
      "source": [
        "Constatamos si hay valores duplicados, debido a que estos alteran el resultado final."
      ]
    },
    {
      "cell_type": "code",
      "execution_count": 43,
      "metadata": {
        "colab": {
          "base_uri": "https://localhost:8080/"
        },
        "id": "rsoIe5dugQ9q",
        "outputId": "39e71d2c-23cd-4ed8-c707-3616a5abb1ad"
      },
      "outputs": [
        {
          "name": "stdout",
          "output_type": "stream",
          "text": [
            "Cantidad de Valores duplicados: 66\n"
          ]
        }
      ],
      "source": [
        "# Contarlos los valores duplicados\n",
        "duplicados = restaurantes_fl.duplicated().sum()\n",
        "print(f'Cantidad de Valores duplicados: {duplicados}')"
      ]
    },
    {
      "cell_type": "code",
      "execution_count": 44,
      "metadata": {
        "colab": {
          "base_uri": "https://localhost:8080/",
          "height": 1000
        },
        "id": "9Fy6_HOd82fk",
        "outputId": "0c1cfd2a-9f9b-4247-c48b-58aa3d476433"
      },
      "outputs": [
        {
          "data": {
            "text/html": [
              "<div>\n",
              "<style scoped>\n",
              "    .dataframe tbody tr th:only-of-type {\n",
              "        vertical-align: middle;\n",
              "    }\n",
              "\n",
              "    .dataframe tbody tr th {\n",
              "        vertical-align: top;\n",
              "    }\n",
              "\n",
              "    .dataframe thead th {\n",
              "        text-align: right;\n",
              "    }\n",
              "</style>\n",
              "<table border=\"1\" class=\"dataframe\">\n",
              "  <thead>\n",
              "    <tr style=\"text-align: right;\">\n",
              "      <th></th>\n",
              "      <th>name</th>\n",
              "      <th>address</th>\n",
              "      <th>gmap_id</th>\n",
              "      <th>latitude</th>\n",
              "      <th>longitude</th>\n",
              "      <th>category</th>\n",
              "      <th>avg_rating</th>\n",
              "      <th>num_of_reviews</th>\n",
              "      <th>price</th>\n",
              "      <th>hours</th>\n",
              "      <th>Service options</th>\n",
              "      <th>Accessibility</th>\n",
              "      <th>Offerings</th>\n",
              "      <th>Dining options</th>\n",
              "      <th>Amenities</th>\n",
              "      <th>Atmosphere</th>\n",
              "      <th>Crowd</th>\n",
              "      <th>Highlights</th>\n",
              "      <th>Planning</th>\n",
              "      <th>Payments</th>\n",
              "      <th>Popular for</th>\n",
              "      <th>Health &amp; safety</th>\n",
              "      <th>From the business</th>\n",
              "      <th>Health and safety</th>\n",
              "    </tr>\n",
              "  </thead>\n",
              "  <tbody>\n",
              "    <tr>\n",
              "      <th>34</th>\n",
              "      <td>33 Below Icecream</td>\n",
              "      <td>33 Below Icecream, 12801 W Sunrise Blvd, Sunri...</td>\n",
              "      <td>0x88d90903a8760ad5:0x696fdcc508ebaf7f</td>\n",
              "      <td>26.149197</td>\n",
              "      <td>-80.324787</td>\n",
              "      <td>restaurant</td>\n",
              "      <td>3.4</td>\n",
              "      <td>7</td>\n",
              "      <td>None</td>\n",
              "      <td>Wednesday 10AM–10:30PM, Thursday 10AM–10:30PM,...</td>\n",
              "      <td>Delivery</td>\n",
              "      <td>NaN</td>\n",
              "      <td>NaN</td>\n",
              "      <td>NaN</td>\n",
              "      <td>Good for kids</td>\n",
              "      <td>NaN</td>\n",
              "      <td>NaN</td>\n",
              "      <td>NaN</td>\n",
              "      <td>NaN</td>\n",
              "      <td>NaN</td>\n",
              "      <td>NaN</td>\n",
              "      <td>NaN</td>\n",
              "      <td>NaN</td>\n",
              "      <td>NaN</td>\n",
              "    </tr>\n",
              "    <tr>\n",
              "      <th>100</th>\n",
              "      <td>33 Below Icecream</td>\n",
              "      <td>33 Below Icecream, 12801 W Sunrise Blvd, Sunri...</td>\n",
              "      <td>0x88d90903a8760ad5:0x696fdcc508ebaf7f</td>\n",
              "      <td>26.149197</td>\n",
              "      <td>-80.324787</td>\n",
              "      <td>restaurant</td>\n",
              "      <td>3.4</td>\n",
              "      <td>7</td>\n",
              "      <td>None</td>\n",
              "      <td>Wednesday 10AM–10:30PM, Thursday 10AM–10:30PM,...</td>\n",
              "      <td>Delivery</td>\n",
              "      <td>NaN</td>\n",
              "      <td>NaN</td>\n",
              "      <td>NaN</td>\n",
              "      <td>Good for kids</td>\n",
              "      <td>NaN</td>\n",
              "      <td>NaN</td>\n",
              "      <td>NaN</td>\n",
              "      <td>NaN</td>\n",
              "      <td>NaN</td>\n",
              "      <td>NaN</td>\n",
              "      <td>NaN</td>\n",
              "      <td>NaN</td>\n",
              "      <td>NaN</td>\n",
              "    </tr>\n",
              "    <tr>\n",
              "      <th>22</th>\n",
              "      <td>Antojitos Del Caribe</td>\n",
              "      <td>Antojitos Del Caribe, 5811 W Irlo Bronson Memo...</td>\n",
              "      <td>0x88dd7f02de6ab8af:0xbab9000f15a5c0ef</td>\n",
              "      <td>28.333594</td>\n",
              "      <td>-81.516757</td>\n",
              "      <td>restaurant</td>\n",
              "      <td>3.5</td>\n",
              "      <td>8</td>\n",
              "      <td>None</td>\n",
              "      <td>Wednesday 12PM–10AM, Thursday 12PM–10AM, Frida...</td>\n",
              "      <td>Takeout, Dine-in, Delivery</td>\n",
              "      <td>Wheelchair accessible entrance, Wheelchair acc...</td>\n",
              "      <td>Comfort food, Happy hour food, Kids' menu, Lat...</td>\n",
              "      <td>Lunch, Dinner, Catering, Seating</td>\n",
              "      <td>Good for kids</td>\n",
              "      <td>Casual</td>\n",
              "      <td>Family-friendly, Groups</td>\n",
              "      <td>NaN</td>\n",
              "      <td>NaN</td>\n",
              "      <td>Debit cards, Credit cards</td>\n",
              "      <td>Lunch, Dinner, Solo dining</td>\n",
              "      <td>NaN</td>\n",
              "      <td>NaN</td>\n",
              "      <td>NaN</td>\n",
              "    </tr>\n",
              "    <tr>\n",
              "      <th>88</th>\n",
              "      <td>Antojitos Del Caribe</td>\n",
              "      <td>Antojitos Del Caribe, 5811 W Irlo Bronson Memo...</td>\n",
              "      <td>0x88dd7f02de6ab8af:0xbab9000f15a5c0ef</td>\n",
              "      <td>28.333594</td>\n",
              "      <td>-81.516757</td>\n",
              "      <td>restaurant</td>\n",
              "      <td>3.5</td>\n",
              "      <td>8</td>\n",
              "      <td>None</td>\n",
              "      <td>Wednesday 12PM–10AM, Thursday 12PM–10AM, Frida...</td>\n",
              "      <td>Takeout, Dine-in, Delivery</td>\n",
              "      <td>Wheelchair accessible entrance, Wheelchair acc...</td>\n",
              "      <td>Comfort food, Happy hour food, Kids' menu, Lat...</td>\n",
              "      <td>Lunch, Dinner, Catering, Seating</td>\n",
              "      <td>Good for kids</td>\n",
              "      <td>Casual</td>\n",
              "      <td>Family-friendly, Groups</td>\n",
              "      <td>NaN</td>\n",
              "      <td>NaN</td>\n",
              "      <td>Debit cards, Credit cards</td>\n",
              "      <td>Lunch, Dinner, Solo dining</td>\n",
              "      <td>NaN</td>\n",
              "      <td>NaN</td>\n",
              "      <td>NaN</td>\n",
              "    </tr>\n",
              "    <tr>\n",
              "      <th>6</th>\n",
              "      <td>Baby Food Grill &amp; Bar</td>\n",
              "      <td>Baby Food Grill &amp; Bar, 203 S 21st Ave, Hollywo...</td>\n",
              "      <td>0x88d9ab98b5baad79:0x1a2e3f0642a55246</td>\n",
              "      <td>26.010250</td>\n",
              "      <td>-80.148659</td>\n",
              "      <td>mexican restaurant</td>\n",
              "      <td>3.0</td>\n",
              "      <td>2</td>\n",
              "      <td>None</td>\n",
              "      <td>Thursday 6:30AM–2PM, Friday 5AM–2PM, Saturday ...</td>\n",
              "      <td>Takeout, Dine-in, Delivery</td>\n",
              "      <td>Wheelchair accessible entrance</td>\n",
              "      <td>Comfort food, Quick bite, Small plates</td>\n",
              "      <td>NaN</td>\n",
              "      <td>Good for kids</td>\n",
              "      <td>Casual, Cozy</td>\n",
              "      <td>Groups</td>\n",
              "      <td>NaN</td>\n",
              "      <td>NaN</td>\n",
              "      <td>NaN</td>\n",
              "      <td>Solo dining</td>\n",
              "      <td>NaN</td>\n",
              "      <td>NaN</td>\n",
              "      <td>NaN</td>\n",
              "    </tr>\n",
              "    <tr>\n",
              "      <th>...</th>\n",
              "      <td>...</td>\n",
              "      <td>...</td>\n",
              "      <td>...</td>\n",
              "      <td>...</td>\n",
              "      <td>...</td>\n",
              "      <td>...</td>\n",
              "      <td>...</td>\n",
              "      <td>...</td>\n",
              "      <td>...</td>\n",
              "      <td>...</td>\n",
              "      <td>...</td>\n",
              "      <td>...</td>\n",
              "      <td>...</td>\n",
              "      <td>...</td>\n",
              "      <td>...</td>\n",
              "      <td>...</td>\n",
              "      <td>...</td>\n",
              "      <td>...</td>\n",
              "      <td>...</td>\n",
              "      <td>...</td>\n",
              "      <td>...</td>\n",
              "      <td>...</td>\n",
              "      <td>...</td>\n",
              "      <td>...</td>\n",
              "    </tr>\n",
              "    <tr>\n",
              "      <th>93</th>\n",
              "      <td>Trastes</td>\n",
              "      <td>Trastes, 323 US 17 92 Highway N, Haines City, ...</td>\n",
              "      <td>0x88dd734f09df440d:0x868d00fdf7efd200</td>\n",
              "      <td>28.112577</td>\n",
              "      <td>-81.617701</td>\n",
              "      <td>nuevo latino restaurant, restaurant</td>\n",
              "      <td>5.0</td>\n",
              "      <td>2</td>\n",
              "      <td>None</td>\n",
              "      <td>Wednesday Closed, Thursday 12–6PM, Friday 12–6...</td>\n",
              "      <td>Delivery</td>\n",
              "      <td>NaN</td>\n",
              "      <td>NaN</td>\n",
              "      <td>NaN</td>\n",
              "      <td>NaN</td>\n",
              "      <td>NaN</td>\n",
              "      <td>NaN</td>\n",
              "      <td>NaN</td>\n",
              "      <td>NaN</td>\n",
              "      <td>NaN</td>\n",
              "      <td>NaN</td>\n",
              "      <td>NaN</td>\n",
              "      <td>NaN</td>\n",
              "      <td>NaN</td>\n",
              "    </tr>\n",
              "    <tr>\n",
              "      <th>26</th>\n",
              "      <td>Tu esquina sabrosa</td>\n",
              "      <td>Tu esquina sabrosa, 2255 U.S. Hwy 17-92 N, Hai...</td>\n",
              "      <td>0x88dd738fd4ebbe91:0xe61f34790c936cc0</td>\n",
              "      <td>28.128455</td>\n",
              "      <td>-81.614845</td>\n",
              "      <td>puerto rican restaurant</td>\n",
              "      <td>4.6</td>\n",
              "      <td>15</td>\n",
              "      <td>None</td>\n",
              "      <td>Wednesday 7:30AM–3PM, Thursday 7:30AM–3PM, Fri...</td>\n",
              "      <td>Takeout, Dine-in, Delivery</td>\n",
              "      <td>NaN</td>\n",
              "      <td>Comfort food, Quick bite, Small plates</td>\n",
              "      <td>NaN</td>\n",
              "      <td>Good for kids</td>\n",
              "      <td>Casual</td>\n",
              "      <td>Family-friendly</td>\n",
              "      <td>NaN</td>\n",
              "      <td>NaN</td>\n",
              "      <td>Debit cards, Credit cards</td>\n",
              "      <td>Solo dining</td>\n",
              "      <td>NaN</td>\n",
              "      <td>NaN</td>\n",
              "      <td>NaN</td>\n",
              "    </tr>\n",
              "    <tr>\n",
              "      <th>92</th>\n",
              "      <td>Tu esquina sabrosa</td>\n",
              "      <td>Tu esquina sabrosa, 2255 U.S. Hwy 17-92 N, Hai...</td>\n",
              "      <td>0x88dd738fd4ebbe91:0xe61f34790c936cc0</td>\n",
              "      <td>28.128455</td>\n",
              "      <td>-81.614845</td>\n",
              "      <td>puerto rican restaurant</td>\n",
              "      <td>4.6</td>\n",
              "      <td>15</td>\n",
              "      <td>None</td>\n",
              "      <td>Wednesday 7:30AM–3PM, Thursday 7:30AM–3PM, Fri...</td>\n",
              "      <td>Takeout, Dine-in, Delivery</td>\n",
              "      <td>NaN</td>\n",
              "      <td>Comfort food, Quick bite, Small plates</td>\n",
              "      <td>NaN</td>\n",
              "      <td>Good for kids</td>\n",
              "      <td>Casual</td>\n",
              "      <td>Family-friendly</td>\n",
              "      <td>NaN</td>\n",
              "      <td>NaN</td>\n",
              "      <td>Debit cards, Credit cards</td>\n",
              "      <td>Solo dining</td>\n",
              "      <td>NaN</td>\n",
              "      <td>NaN</td>\n",
              "      <td>NaN</td>\n",
              "    </tr>\n",
              "    <tr>\n",
              "      <th>9</th>\n",
              "      <td>Zampini's Bottega</td>\n",
              "      <td>Zampini's Bottega, 510 SE 5th Ave, Fort Lauder...</td>\n",
              "      <td>0x88d900575f0dd065:0x9b3638d2a80be4d</td>\n",
              "      <td>26.116549</td>\n",
              "      <td>-80.138561</td>\n",
              "      <td>restaurant</td>\n",
              "      <td>4.7</td>\n",
              "      <td>18</td>\n",
              "      <td>None</td>\n",
              "      <td>Thursday 8:30AM–10PM, Friday 7AM–11PM, Saturda...</td>\n",
              "      <td>Outdoor seating, Takeout, Delivery</td>\n",
              "      <td>NaN</td>\n",
              "      <td>Beer, Happy hour drinks, Happy hour food, Smal...</td>\n",
              "      <td>Breakfast, Lunch, Dinner, Seating</td>\n",
              "      <td>NaN</td>\n",
              "      <td>NaN</td>\n",
              "      <td>Family-friendly</td>\n",
              "      <td>Live music</td>\n",
              "      <td>NaN</td>\n",
              "      <td>Cash-only, Debit cards, Credit cards</td>\n",
              "      <td>NaN</td>\n",
              "      <td>NaN</td>\n",
              "      <td>NaN</td>\n",
              "      <td>NaN</td>\n",
              "    </tr>\n",
              "    <tr>\n",
              "      <th>75</th>\n",
              "      <td>Zampini's Bottega</td>\n",
              "      <td>Zampini's Bottega, 510 SE 5th Ave, Fort Lauder...</td>\n",
              "      <td>0x88d900575f0dd065:0x9b3638d2a80be4d</td>\n",
              "      <td>26.116549</td>\n",
              "      <td>-80.138561</td>\n",
              "      <td>restaurant</td>\n",
              "      <td>4.7</td>\n",
              "      <td>18</td>\n",
              "      <td>None</td>\n",
              "      <td>Thursday 8:30AM–10PM, Friday 7AM–11PM, Saturda...</td>\n",
              "      <td>Outdoor seating, Takeout, Delivery</td>\n",
              "      <td>NaN</td>\n",
              "      <td>Beer, Happy hour drinks, Happy hour food, Smal...</td>\n",
              "      <td>Breakfast, Lunch, Dinner, Seating</td>\n",
              "      <td>NaN</td>\n",
              "      <td>NaN</td>\n",
              "      <td>Family-friendly</td>\n",
              "      <td>Live music</td>\n",
              "      <td>NaN</td>\n",
              "      <td>Cash-only, Debit cards, Credit cards</td>\n",
              "      <td>NaN</td>\n",
              "      <td>NaN</td>\n",
              "      <td>NaN</td>\n",
              "      <td>NaN</td>\n",
              "    </tr>\n",
              "  </tbody>\n",
              "</table>\n",
              "<p>132 rows × 24 columns</p>\n",
              "</div>"
            ],
            "text/plain": [
              "                      name                                            address  \\\n",
              "34       33 Below Icecream  33 Below Icecream, 12801 W Sunrise Blvd, Sunri...   \n",
              "100      33 Below Icecream  33 Below Icecream, 12801 W Sunrise Blvd, Sunri...   \n",
              "22    Antojitos Del Caribe  Antojitos Del Caribe, 5811 W Irlo Bronson Memo...   \n",
              "88    Antojitos Del Caribe  Antojitos Del Caribe, 5811 W Irlo Bronson Memo...   \n",
              "6    Baby Food Grill & Bar  Baby Food Grill & Bar, 203 S 21st Ave, Hollywo...   \n",
              "..                     ...                                                ...   \n",
              "93                 Trastes  Trastes, 323 US 17 92 Highway N, Haines City, ...   \n",
              "26      Tu esquina sabrosa  Tu esquina sabrosa, 2255 U.S. Hwy 17-92 N, Hai...   \n",
              "92      Tu esquina sabrosa  Tu esquina sabrosa, 2255 U.S. Hwy 17-92 N, Hai...   \n",
              "9        Zampini's Bottega  Zampini's Bottega, 510 SE 5th Ave, Fort Lauder...   \n",
              "75       Zampini's Bottega  Zampini's Bottega, 510 SE 5th Ave, Fort Lauder...   \n",
              "\n",
              "                                   gmap_id   latitude  longitude  \\\n",
              "34   0x88d90903a8760ad5:0x696fdcc508ebaf7f  26.149197 -80.324787   \n",
              "100  0x88d90903a8760ad5:0x696fdcc508ebaf7f  26.149197 -80.324787   \n",
              "22   0x88dd7f02de6ab8af:0xbab9000f15a5c0ef  28.333594 -81.516757   \n",
              "88   0x88dd7f02de6ab8af:0xbab9000f15a5c0ef  28.333594 -81.516757   \n",
              "6    0x88d9ab98b5baad79:0x1a2e3f0642a55246  26.010250 -80.148659   \n",
              "..                                     ...        ...        ...   \n",
              "93   0x88dd734f09df440d:0x868d00fdf7efd200  28.112577 -81.617701   \n",
              "26   0x88dd738fd4ebbe91:0xe61f34790c936cc0  28.128455 -81.614845   \n",
              "92   0x88dd738fd4ebbe91:0xe61f34790c936cc0  28.128455 -81.614845   \n",
              "9     0x88d900575f0dd065:0x9b3638d2a80be4d  26.116549 -80.138561   \n",
              "75    0x88d900575f0dd065:0x9b3638d2a80be4d  26.116549 -80.138561   \n",
              "\n",
              "                                category  avg_rating  num_of_reviews price  \\\n",
              "34                            restaurant         3.4               7  None   \n",
              "100                           restaurant         3.4               7  None   \n",
              "22                            restaurant         3.5               8  None   \n",
              "88                            restaurant         3.5               8  None   \n",
              "6                     mexican restaurant         3.0               2  None   \n",
              "..                                   ...         ...             ...   ...   \n",
              "93   nuevo latino restaurant, restaurant         5.0               2  None   \n",
              "26               puerto rican restaurant         4.6              15  None   \n",
              "92               puerto rican restaurant         4.6              15  None   \n",
              "9                             restaurant         4.7              18  None   \n",
              "75                            restaurant         4.7              18  None   \n",
              "\n",
              "                                                 hours  \\\n",
              "34   Wednesday 10AM–10:30PM, Thursday 10AM–10:30PM,...   \n",
              "100  Wednesday 10AM–10:30PM, Thursday 10AM–10:30PM,...   \n",
              "22   Wednesday 12PM–10AM, Thursday 12PM–10AM, Frida...   \n",
              "88   Wednesday 12PM–10AM, Thursday 12PM–10AM, Frida...   \n",
              "6    Thursday 6:30AM–2PM, Friday 5AM–2PM, Saturday ...   \n",
              "..                                                 ...   \n",
              "93   Wednesday Closed, Thursday 12–6PM, Friday 12–6...   \n",
              "26   Wednesday 7:30AM–3PM, Thursday 7:30AM–3PM, Fri...   \n",
              "92   Wednesday 7:30AM–3PM, Thursday 7:30AM–3PM, Fri...   \n",
              "9    Thursday 8:30AM–10PM, Friday 7AM–11PM, Saturda...   \n",
              "75   Thursday 8:30AM–10PM, Friday 7AM–11PM, Saturda...   \n",
              "\n",
              "                        Service options  \\\n",
              "34                             Delivery   \n",
              "100                            Delivery   \n",
              "22           Takeout, Dine-in, Delivery   \n",
              "88           Takeout, Dine-in, Delivery   \n",
              "6            Takeout, Dine-in, Delivery   \n",
              "..                                  ...   \n",
              "93                             Delivery   \n",
              "26           Takeout, Dine-in, Delivery   \n",
              "92           Takeout, Dine-in, Delivery   \n",
              "9    Outdoor seating, Takeout, Delivery   \n",
              "75   Outdoor seating, Takeout, Delivery   \n",
              "\n",
              "                                         Accessibility  \\\n",
              "34                                                 NaN   \n",
              "100                                                NaN   \n",
              "22   Wheelchair accessible entrance, Wheelchair acc...   \n",
              "88   Wheelchair accessible entrance, Wheelchair acc...   \n",
              "6                       Wheelchair accessible entrance   \n",
              "..                                                 ...   \n",
              "93                                                 NaN   \n",
              "26                                                 NaN   \n",
              "92                                                 NaN   \n",
              "9                                                  NaN   \n",
              "75                                                 NaN   \n",
              "\n",
              "                                             Offerings  \\\n",
              "34                                                 NaN   \n",
              "100                                                NaN   \n",
              "22   Comfort food, Happy hour food, Kids' menu, Lat...   \n",
              "88   Comfort food, Happy hour food, Kids' menu, Lat...   \n",
              "6               Comfort food, Quick bite, Small plates   \n",
              "..                                                 ...   \n",
              "93                                                 NaN   \n",
              "26              Comfort food, Quick bite, Small plates   \n",
              "92              Comfort food, Quick bite, Small plates   \n",
              "9    Beer, Happy hour drinks, Happy hour food, Smal...   \n",
              "75   Beer, Happy hour drinks, Happy hour food, Smal...   \n",
              "\n",
              "                        Dining options      Amenities    Atmosphere  \\\n",
              "34                                 NaN  Good for kids           NaN   \n",
              "100                                NaN  Good for kids           NaN   \n",
              "22    Lunch, Dinner, Catering, Seating  Good for kids        Casual   \n",
              "88    Lunch, Dinner, Catering, Seating  Good for kids        Casual   \n",
              "6                                  NaN  Good for kids  Casual, Cozy   \n",
              "..                                 ...            ...           ...   \n",
              "93                                 NaN            NaN           NaN   \n",
              "26                                 NaN  Good for kids        Casual   \n",
              "92                                 NaN  Good for kids        Casual   \n",
              "9    Breakfast, Lunch, Dinner, Seating            NaN           NaN   \n",
              "75   Breakfast, Lunch, Dinner, Seating            NaN           NaN   \n",
              "\n",
              "                       Crowd  Highlights Planning  \\\n",
              "34                       NaN         NaN      NaN   \n",
              "100                      NaN         NaN      NaN   \n",
              "22   Family-friendly, Groups         NaN      NaN   \n",
              "88   Family-friendly, Groups         NaN      NaN   \n",
              "6                     Groups         NaN      NaN   \n",
              "..                       ...         ...      ...   \n",
              "93                       NaN         NaN      NaN   \n",
              "26           Family-friendly         NaN      NaN   \n",
              "92           Family-friendly         NaN      NaN   \n",
              "9            Family-friendly  Live music      NaN   \n",
              "75           Family-friendly  Live music      NaN   \n",
              "\n",
              "                                 Payments                 Popular for  \\\n",
              "34                                    NaN                         NaN   \n",
              "100                                   NaN                         NaN   \n",
              "22              Debit cards, Credit cards  Lunch, Dinner, Solo dining   \n",
              "88              Debit cards, Credit cards  Lunch, Dinner, Solo dining   \n",
              "6                                     NaN                 Solo dining   \n",
              "..                                    ...                         ...   \n",
              "93                                    NaN                         NaN   \n",
              "26              Debit cards, Credit cards                 Solo dining   \n",
              "92              Debit cards, Credit cards                 Solo dining   \n",
              "9    Cash-only, Debit cards, Credit cards                         NaN   \n",
              "75   Cash-only, Debit cards, Credit cards                         NaN   \n",
              "\n",
              "    Health & safety From the business Health and safety  \n",
              "34              NaN               NaN               NaN  \n",
              "100             NaN               NaN               NaN  \n",
              "22              NaN               NaN               NaN  \n",
              "88              NaN               NaN               NaN  \n",
              "6               NaN               NaN               NaN  \n",
              "..              ...               ...               ...  \n",
              "93              NaN               NaN               NaN  \n",
              "26              NaN               NaN               NaN  \n",
              "92              NaN               NaN               NaN  \n",
              "9               NaN               NaN               NaN  \n",
              "75              NaN               NaN               NaN  \n",
              "\n",
              "[132 rows x 24 columns]"
            ]
          },
          "execution_count": 44,
          "metadata": {},
          "output_type": "execute_result"
        }
      ],
      "source": [
        "# Encuentra las filas duplicadas en el DataFrame\n",
        "filas_duplicadas = restaurantes_fl[restaurantes_fl.duplicated(keep=False)]\n",
        "\n",
        "# Ordena el DataFrame por todas las columnas para que las filas duplicadas estén juntas\n",
        "filas_duplicadas_ordenadas = filas_duplicadas.sort_values(by=list(filas_duplicadas.columns))\n",
        "\n",
        "# Imprime todas las filas duplicadas ordenadas\n",
        "filas_duplicadas_ordenadas\n"
      ]
    },
    {
      "cell_type": "code",
      "execution_count": 45,
      "metadata": {
        "id": "iI4w4ofL_YRu"
      },
      "outputs": [],
      "source": [
        "# Eliminar los valores duplicados\n",
        "restaurantes_fl = restaurantes_fl.drop_duplicates()"
      ]
    },
    {
      "cell_type": "code",
      "execution_count": 46,
      "metadata": {
        "colab": {
          "base_uri": "https://localhost:8080/",
          "height": 1000
        },
        "id": "9DH72x5oCbmb",
        "outputId": "e0884a28-c5f9-4dbd-b431-c44e80eaa190"
      },
      "outputs": [
        {
          "data": {
            "text/html": [
              "<div>\n",
              "<style scoped>\n",
              "    .dataframe tbody tr th:only-of-type {\n",
              "        vertical-align: middle;\n",
              "    }\n",
              "\n",
              "    .dataframe tbody tr th {\n",
              "        vertical-align: top;\n",
              "    }\n",
              "\n",
              "    .dataframe thead th {\n",
              "        text-align: right;\n",
              "    }\n",
              "</style>\n",
              "<table border=\"1\" class=\"dataframe\">\n",
              "  <thead>\n",
              "    <tr style=\"text-align: right;\">\n",
              "      <th></th>\n",
              "      <th>name</th>\n",
              "      <th>address</th>\n",
              "      <th>gmap_id</th>\n",
              "      <th>latitude</th>\n",
              "      <th>longitude</th>\n",
              "      <th>category</th>\n",
              "      <th>avg_rating</th>\n",
              "      <th>num_of_reviews</th>\n",
              "      <th>price</th>\n",
              "      <th>hours</th>\n",
              "      <th>MISC</th>\n",
              "    </tr>\n",
              "  </thead>\n",
              "  <tbody>\n",
              "    <tr>\n",
              "      <th>1868</th>\n",
              "      <td>NextGen Management</td>\n",
              "      <td>NextGen Management, 1079 Shotgun Rd, Sunrise, ...</td>\n",
              "      <td>0x1412cbb00840265b:0xee12b83536b37aaa</td>\n",
              "      <td>26.108331</td>\n",
              "      <td>-80.352868</td>\n",
              "      <td>property management company</td>\n",
              "      <td>3.1</td>\n",
              "      <td>48</td>\n",
              "      <td>None</td>\n",
              "      <td>[[Thursday, 8:30AM–5:30PM], [Friday, 8:30AM–5:...</td>\n",
              "      <td>{'Accessibility': ['Wheelchair accessible entr...</td>\n",
              "    </tr>\n",
              "    <tr>\n",
              "      <th>130</th>\n",
              "      <td>NextGen Management</td>\n",
              "      <td>NextGen Management, 1079 Shotgun Rd, Sunrise, ...</td>\n",
              "      <td>0x1412cbb00840265b:0xee12b83536b37aaa</td>\n",
              "      <td>26.108331</td>\n",
              "      <td>-80.352868</td>\n",
              "      <td>property management company</td>\n",
              "      <td>3.1</td>\n",
              "      <td>48</td>\n",
              "      <td>None</td>\n",
              "      <td>[[Thursday, 8:30AM–5:30PM], [Friday, 8:30AM–5:...</td>\n",
              "      <td>{'Accessibility': ['Wheelchair accessible entr...</td>\n",
              "    </tr>\n",
              "    <tr>\n",
              "      <th>2081</th>\n",
              "      <td>H &amp; W Fence Company</td>\n",
              "      <td>H &amp; W Fence Company, 6139 Pickettville Rd, Jac...</td>\n",
              "      <td>0x1458b9a7e1e00061:0x27f28718bb115582</td>\n",
              "      <td>30.365893</td>\n",
              "      <td>-81.753337</td>\n",
              "      <td>fence contractor</td>\n",
              "      <td>3.0</td>\n",
              "      <td>27</td>\n",
              "      <td>None</td>\n",
              "      <td>[[Wednesday, 7:30AM–4:30PM], [Thursday, 7:30AM...</td>\n",
              "      <td>None</td>\n",
              "    </tr>\n",
              "    <tr>\n",
              "      <th>343</th>\n",
              "      <td>H &amp; W Fence Company</td>\n",
              "      <td>H &amp; W Fence Company, 6139 Pickettville Rd, Jac...</td>\n",
              "      <td>0x1458b9a7e1e00061:0x27f28718bb115582</td>\n",
              "      <td>30.365893</td>\n",
              "      <td>-81.753337</td>\n",
              "      <td>fence contractor</td>\n",
              "      <td>3.0</td>\n",
              "      <td>27</td>\n",
              "      <td>None</td>\n",
              "      <td>[[Wednesday, 7:30AM–4:30PM], [Thursday, 7:30AM...</td>\n",
              "      <td>None</td>\n",
              "    </tr>\n",
              "    <tr>\n",
              "      <th>2087</th>\n",
              "      <td>Bar 91</td>\n",
              "      <td>Bar 91, 400 Ave of the Champions, Palm Beach G...</td>\n",
              "      <td>0x146c6711a70d7991:0xe478335f760c8ccc</td>\n",
              "      <td>26.828991</td>\n",
              "      <td>-80.141201</td>\n",
              "      <td>bar &amp; grill, bar, restaurant, sports bar</td>\n",
              "      <td>3.9</td>\n",
              "      <td>8</td>\n",
              "      <td>None</td>\n",
              "      <td>[[Wednesday, 6:30AM–9PM], [Thursday, 6:30AM–9P...</td>\n",
              "      <td>{'Service options': ['Outdoor seating', 'Takeo...</td>\n",
              "    </tr>\n",
              "    <tr>\n",
              "      <th>...</th>\n",
              "      <td>...</td>\n",
              "      <td>...</td>\n",
              "      <td>...</td>\n",
              "      <td>...</td>\n",
              "      <td>...</td>\n",
              "      <td>...</td>\n",
              "      <td>...</td>\n",
              "      <td>...</td>\n",
              "      <td>...</td>\n",
              "      <td>...</td>\n",
              "      <td>...</td>\n",
              "    </tr>\n",
              "    <tr>\n",
              "      <th>2357</th>\n",
              "      <td>诺亚方舟剧本杀推理社</td>\n",
              "      <td>诺亚方舟剧本杀推理社, 3064 Whitestone Expy 2 FL, Queens,...</td>\n",
              "      <td>0x89c261e036195025:0x6334440870e49468</td>\n",
              "      <td>40.769553</td>\n",
              "      <td>-73.837235</td>\n",
              "      <td>entertainment agency</td>\n",
              "      <td>4.5</td>\n",
              "      <td>14</td>\n",
              "      <td>None</td>\n",
              "      <td>[[Wednesday, 11AM–10PM], [Thursday, 11AM–10PM]...</td>\n",
              "      <td>{'Service options': ['Onsite services', 'Onlin...</td>\n",
              "    </tr>\n",
              "    <tr>\n",
              "      <th>1384</th>\n",
              "      <td>FLAGSHIP MOTORS - Auto Sales &amp; Auto Repair Ser...</td>\n",
              "      <td>FLAGSHIP MOTORS - Auto Sales &amp; Auto Repair Ser...</td>\n",
              "      <td>0x89e37f4dd84dec5d:0xf9b047e62ca3d971</td>\n",
              "      <td>42.258460</td>\n",
              "      <td>-71.178503</td>\n",
              "      <td>used car dealer, auto body shop, auto broker, ...</td>\n",
              "      <td>4.7</td>\n",
              "      <td>8</td>\n",
              "      <td>None</td>\n",
              "      <td>[[Wednesday, 12–6PM], [Thursday, 12–6PM], [Fri...</td>\n",
              "      <td>{'Offerings': ['Oil change', 'Repair services']}</td>\n",
              "    </tr>\n",
              "    <tr>\n",
              "      <th>3122</th>\n",
              "      <td>FLAGSHIP MOTORS - Auto Sales &amp; Auto Repair Ser...</td>\n",
              "      <td>FLAGSHIP MOTORS - Auto Sales &amp; Auto Repair Ser...</td>\n",
              "      <td>0x89e37f4dd84dec5d:0xf9b047e62ca3d971</td>\n",
              "      <td>42.258460</td>\n",
              "      <td>-71.178503</td>\n",
              "      <td>used car dealer, auto body shop, auto broker, ...</td>\n",
              "      <td>4.7</td>\n",
              "      <td>8</td>\n",
              "      <td>None</td>\n",
              "      <td>[[Wednesday, 12–6PM], [Thursday, 12–6PM], [Fri...</td>\n",
              "      <td>{'Offerings': ['Oil change', 'Repair services']}</td>\n",
              "    </tr>\n",
              "    <tr>\n",
              "      <th>2754</th>\n",
              "      <td>Tampa Community Center</td>\n",
              "      <td>Tampa Community Center, 1725 E Fowler Ave, Tam...</td>\n",
              "      <td>0xa0db5dee6874eb19:0xbb543375f75a3ab3</td>\n",
              "      <td>28.053401</td>\n",
              "      <td>-82.439005</td>\n",
              "      <td>summer camp, after school program, teacher col...</td>\n",
              "      <td>4.7</td>\n",
              "      <td>18</td>\n",
              "      <td>None</td>\n",
              "      <td>[[Wednesday, 6:30AM–6:30PM], [Thursday, 6:30AM...</td>\n",
              "      <td>{'Accessibility': ['Wheelchair accessible entr...</td>\n",
              "    </tr>\n",
              "    <tr>\n",
              "      <th>1016</th>\n",
              "      <td>Tampa Community Center</td>\n",
              "      <td>Tampa Community Center, 1725 E Fowler Ave, Tam...</td>\n",
              "      <td>0xa0db5dee6874eb19:0xbb543375f75a3ab3</td>\n",
              "      <td>28.053401</td>\n",
              "      <td>-82.439005</td>\n",
              "      <td>summer camp, after school program, teacher col...</td>\n",
              "      <td>4.7</td>\n",
              "      <td>18</td>\n",
              "      <td>None</td>\n",
              "      <td>[[Wednesday, 6:30AM–6:30PM], [Thursday, 6:30AM...</td>\n",
              "      <td>{'Accessibility': ['Wheelchair accessible entr...</td>\n",
              "    </tr>\n",
              "  </tbody>\n",
              "</table>\n",
              "<p>3476 rows × 11 columns</p>\n",
              "</div>"
            ],
            "text/plain": [
              "                                                   name  \\\n",
              "1868                                 NextGen Management   \n",
              "130                                  NextGen Management   \n",
              "2081                                H & W Fence Company   \n",
              "343                                 H & W Fence Company   \n",
              "2087                                             Bar 91   \n",
              "...                                                 ...   \n",
              "2357                                         诺亚方舟剧本杀推理社   \n",
              "1384  FLAGSHIP MOTORS - Auto Sales & Auto Repair Ser...   \n",
              "3122  FLAGSHIP MOTORS - Auto Sales & Auto Repair Ser...   \n",
              "2754                             Tampa Community Center   \n",
              "1016                             Tampa Community Center   \n",
              "\n",
              "                                                address  \\\n",
              "1868  NextGen Management, 1079 Shotgun Rd, Sunrise, ...   \n",
              "130   NextGen Management, 1079 Shotgun Rd, Sunrise, ...   \n",
              "2081  H & W Fence Company, 6139 Pickettville Rd, Jac...   \n",
              "343   H & W Fence Company, 6139 Pickettville Rd, Jac...   \n",
              "2087  Bar 91, 400 Ave of the Champions, Palm Beach G...   \n",
              "...                                                 ...   \n",
              "2357  诺亚方舟剧本杀推理社, 3064 Whitestone Expy 2 FL, Queens,...   \n",
              "1384  FLAGSHIP MOTORS - Auto Sales & Auto Repair Ser...   \n",
              "3122  FLAGSHIP MOTORS - Auto Sales & Auto Repair Ser...   \n",
              "2754  Tampa Community Center, 1725 E Fowler Ave, Tam...   \n",
              "1016  Tampa Community Center, 1725 E Fowler Ave, Tam...   \n",
              "\n",
              "                                    gmap_id   latitude  longitude  \\\n",
              "1868  0x1412cbb00840265b:0xee12b83536b37aaa  26.108331 -80.352868   \n",
              "130   0x1412cbb00840265b:0xee12b83536b37aaa  26.108331 -80.352868   \n",
              "2081  0x1458b9a7e1e00061:0x27f28718bb115582  30.365893 -81.753337   \n",
              "343   0x1458b9a7e1e00061:0x27f28718bb115582  30.365893 -81.753337   \n",
              "2087  0x146c6711a70d7991:0xe478335f760c8ccc  26.828991 -80.141201   \n",
              "...                                     ...        ...        ...   \n",
              "2357  0x89c261e036195025:0x6334440870e49468  40.769553 -73.837235   \n",
              "1384  0x89e37f4dd84dec5d:0xf9b047e62ca3d971  42.258460 -71.178503   \n",
              "3122  0x89e37f4dd84dec5d:0xf9b047e62ca3d971  42.258460 -71.178503   \n",
              "2754  0xa0db5dee6874eb19:0xbb543375f75a3ab3  28.053401 -82.439005   \n",
              "1016  0xa0db5dee6874eb19:0xbb543375f75a3ab3  28.053401 -82.439005   \n",
              "\n",
              "                                               category  avg_rating  \\\n",
              "1868                        property management company         3.1   \n",
              "130                         property management company         3.1   \n",
              "2081                                   fence contractor         3.0   \n",
              "343                                    fence contractor         3.0   \n",
              "2087           bar & grill, bar, restaurant, sports bar         3.9   \n",
              "...                                                 ...         ...   \n",
              "2357                               entertainment agency         4.5   \n",
              "1384  used car dealer, auto body shop, auto broker, ...         4.7   \n",
              "3122  used car dealer, auto body shop, auto broker, ...         4.7   \n",
              "2754  summer camp, after school program, teacher col...         4.7   \n",
              "1016  summer camp, after school program, teacher col...         4.7   \n",
              "\n",
              "      num_of_reviews price                                              hours  \\\n",
              "1868              48  None  [[Thursday, 8:30AM–5:30PM], [Friday, 8:30AM–5:...   \n",
              "130               48  None  [[Thursday, 8:30AM–5:30PM], [Friday, 8:30AM–5:...   \n",
              "2081              27  None  [[Wednesday, 7:30AM–4:30PM], [Thursday, 7:30AM...   \n",
              "343               27  None  [[Wednesday, 7:30AM–4:30PM], [Thursday, 7:30AM...   \n",
              "2087               8  None  [[Wednesday, 6:30AM–9PM], [Thursday, 6:30AM–9P...   \n",
              "...              ...   ...                                                ...   \n",
              "2357              14  None  [[Wednesday, 11AM–10PM], [Thursday, 11AM–10PM]...   \n",
              "1384               8  None  [[Wednesday, 12–6PM], [Thursday, 12–6PM], [Fri...   \n",
              "3122               8  None  [[Wednesday, 12–6PM], [Thursday, 12–6PM], [Fri...   \n",
              "2754              18  None  [[Wednesday, 6:30AM–6:30PM], [Thursday, 6:30AM...   \n",
              "1016              18  None  [[Wednesday, 6:30AM–6:30PM], [Thursday, 6:30AM...   \n",
              "\n",
              "                                                   MISC  \n",
              "1868  {'Accessibility': ['Wheelchair accessible entr...  \n",
              "130   {'Accessibility': ['Wheelchair accessible entr...  \n",
              "2081                                               None  \n",
              "343                                                None  \n",
              "2087  {'Service options': ['Outdoor seating', 'Takeo...  \n",
              "...                                                 ...  \n",
              "2357  {'Service options': ['Onsite services', 'Onlin...  \n",
              "1384   {'Offerings': ['Oil change', 'Repair services']}  \n",
              "3122   {'Offerings': ['Oil change', 'Repair services']}  \n",
              "2754  {'Accessibility': ['Wheelchair accessible entr...  \n",
              "1016  {'Accessibility': ['Wheelchair accessible entr...  \n",
              "\n",
              "[3476 rows x 11 columns]"
            ]
          },
          "execution_count": 46,
          "metadata": {},
          "output_type": "execute_result"
        }
      ],
      "source": [
        "# Encuentra las filas duplicadas en la columna 'gmap_id' del DataFrame 'comercios_fl'\n",
        "filas_duplicadas = comercios_fl[comercios_fl.duplicated(subset=['gmap_id'], keep=False)]\n",
        "\n",
        "# Ordena el DataFrame por todas las columnas para que las filas duplicadas estén juntas\n",
        "filas_duplicadas_ordenadas = filas_duplicadas.sort_values(by='gmap_id')\n",
        "\n",
        "# Imprime todas las filas duplicadas ordenadas\n",
        "filas_duplicadas_ordenadas\n"
      ]
    },
    {
      "cell_type": "code",
      "execution_count": 47,
      "metadata": {
        "id": "CRRbWY1RBe45"
      },
      "outputs": [],
      "source": [
        "# Eliminar las filas duplicadas basadas en la columna 'gmap_id'\n",
        "comercios_fl = comercios_fl.drop_duplicates(subset=['gmap_id'])"
      ]
    },
    {
      "cell_type": "markdown",
      "metadata": {
        "id": "Yo6ojaCA_ByR"
      },
      "source": [
        "**Observaciones:**\n",
        "- Luego de la comprobacion de 66 valores duplicados y de la verificaion que sean repetidos en todas sus columnas, se decide eliminarlos para que no alteren el analisis."
      ]
    },
    {
      "cell_type": "markdown",
      "metadata": {
        "id": "wwADPnnlAZBd"
      },
      "source": [
        "\n",
        "\n",
        "---\n",
        "\n",
        "## **Analisis General de los DataFrame:**"
      ]
    },
    {
      "cell_type": "markdown",
      "metadata": {
        "id": "W2zIHX9-HSp7"
      },
      "source": [
        "\n",
        "\n",
        "---\n",
        "\n",
        "\n",
        "### **Comercios en el Estado de Nueva york:**"
      ]
    },
    {
      "cell_type": "code",
      "execution_count": 48,
      "metadata": {
        "colab": {
          "base_uri": "https://localhost:8080/"
        },
        "id": "e3evG_5xC8rq",
        "outputId": "0a13e3c3-091a-4bec-9e7c-2f702555ea3f"
      },
      "outputs": [
        {
          "name": "stdout",
          "output_type": "stream",
          "text": [
            "<class 'pandas.core.frame.DataFrame'>\n",
            "Index: 215825 entries, 0 to 217562\n",
            "Data columns (total 11 columns):\n",
            " #   Column          Non-Null Count   Dtype  \n",
            "---  ------          --------------   -----  \n",
            " 0   name            215825 non-null  object \n",
            " 1   address         215825 non-null  object \n",
            " 2   gmap_id         215825 non-null  object \n",
            " 3   latitude        215825 non-null  float64\n",
            " 4   longitude       215825 non-null  float64\n",
            " 5   category        215825 non-null  object \n",
            " 6   avg_rating      215825 non-null  float64\n",
            " 7   num_of_reviews  215825 non-null  int64  \n",
            " 8   price           18185 non-null   object \n",
            " 9   hours           166379 non-null  object \n",
            " 10  MISC            174328 non-null  object \n",
            "dtypes: float64(3), int64(1), object(7)\n",
            "memory usage: 19.8+ MB\n"
          ]
        }
      ],
      "source": [
        "# Viasualizacion General de DataFrame\n",
        "comercios_fl.info()"
      ]
    },
    {
      "cell_type": "markdown",
      "metadata": {
        "id": "RCb_pz4s7MJ9"
      },
      "source": [
        "\n",
        "\n",
        "---\n",
        "### **Grafico de Nube de palabras:**\n"
      ]
    },
    {
      "cell_type": "code",
      "execution_count": 49,
      "metadata": {
        "colab": {
          "base_uri": "https://localhost:8080/",
          "height": 327
        },
        "id": "LOqsaf3S3cVZ",
        "outputId": "4d042cc8-d6ae-417e-c880-dc0caf7e5deb"
      },
      "outputs": [
        {
          "data": {
            "image/png": "[encoded data removed]",
            "text/plain": [
              "<Figure size 1000x500 with 1 Axes>"
            ]
          },
          "metadata": {},
          "output_type": "display_data"
        }
      ],
      "source": [
        "# Cuenta la frecuencia de cada género\n",
        "frecuencia_genero = comercios_fl['category'].value_counts()\n",
        "top_10_genero = frecuencia_genero.head(10)\n",
        "\n",
        "# Crea la nube de palabras\n",
        "wordcloud = WordCloud(width=800, height=300, background_color='black').generate_from_frequencies(frecuencia_genero)\n",
        "\n",
        "# Muestra la nube de palabras\n",
        "plt.figure(figsize=(10, 5))\n",
        "plt.imshow(wordcloud, interpolation='bilinear')\n",
        "plt.axis('off')\n",
        "plt.show()"
      ]
    },
    {
      "cell_type": "markdown",
      "metadata": {
        "id": "AUW7XlX6AxDs"
      },
      "source": [
        "**Oservaciones:**\n",
        "- El grafico 'Wordcloud' nos permite ver de manera rapida cuales son las categorias con  mas frecuencia resaltando en tamaño, como por ejemplo:'restaurant', 'church', 'barber shop', 'nail salon', etc..."
      ]
    },
    {
      "cell_type": "markdown",
      "metadata": {
        "id": "W5cp0QUJ7ZbJ"
      },
      "source": [
        "\n",
        "\n",
        "---\n",
        "### **Grafico de barras Top 10 Categorías más Comunes:**\n"
      ]
    },
    {
      "cell_type": "code",
      "execution_count": 50,
      "metadata": {
        "colab": {
          "base_uri": "https://localhost:8080/",
          "height": 833
        },
        "id": "LWYAnmMlE7hC",
        "outputId": "50c13ecf-a5f8-40b2-99fb-b2cff2220a44"
      },
      "outputs": [
        {
          "name": "stderr",
          "output_type": "stream",
          "text": [
            "C:\\Users\\flore\\AppData\\Local\\Temp\\ipykernel_24104\\954699447.py:12: UserWarning: The figure layout has changed to tight\n",
            "  plt.tight_layout()\n"
          ]
        },
        {
          "data": {
            "image/png": "[encoded data removed]",
            "text/plain": [
              "<Figure size 1000x600 with 1 Axes>"
            ]
          },
          "metadata": {},
          "output_type": "display_data"
        },
        {
          "name": "stdout",
          "output_type": "stream",
          "text": [
            "\n",
            "top_10_categorias:\n",
            "category\n",
            "restaurant             2909\n",
            "church                 2270\n",
            "nail salon             2095\n",
            "barber shop            2090\n",
            "condominium complex    2071\n",
            "auto repair shop       2057\n",
            "doctor                 1885\n",
            "beauty salon           1696\n",
            "gas station            1573\n",
            "park                   1557\n",
            "Name: count, dtype: int64\n"
          ]
        }
      ],
      "source": [
        "# Obtener las 10 categorías más comunes y contar sus ocurrencias\n",
        "top_10_categorias = comercios_fl['category'].value_counts().head(10)\n",
        "\n",
        "# Crear el gráfico de barras\n",
        "plt.figure(figsize=(10, 6))\n",
        "top_10_categorias.plot(kind='bar', color='skyblue')\n",
        "plt.title('Top 10 Categorías más Comunes')\n",
        "plt.xlabel('Categoría')\n",
        "plt.ylabel('Número de Comercios')\n",
        "plt.xticks(rotation=45, ha='right')\n",
        "plt.tight_layout()\n",
        "plt.tight_layout()\n",
        "plt.show()\n",
        "print(f'\\ntop_10_categorias:\\n{top_10_categorias}')"
      ]
    },
    {
      "cell_type": "markdown",
      "metadata": {
        "id": "xqYHg22bGIGr"
      },
      "source": [
        "**Observaciones:**\n",
        "- Se genera un grafico con las 10 categorias mas importantes de comercios en el Estado de Florida, en el cual se puede observar que la categoria 'restaurant' es la N° 1.\n",
        "\n"
      ]
    },
    {
      "cell_type": "markdown",
      "metadata": {
        "id": "PdVOITNa7-3g"
      },
      "source": [
        "\n",
        "\n",
        "---\n",
        "\n",
        "### **Porcentaje de Categorías con \"restaurant\" vs Otras Categorías**"
      ]
    },
    {
      "cell_type": "code",
      "execution_count": 51,
      "metadata": {
        "colab": {
          "base_uri": "https://localhost:8080/",
          "height": 476
        },
        "id": "sSq7kOfNBK42",
        "outputId": "5d52909f-6e60-4857-9822-1cad6acc167b"
      },
      "outputs": [
        {
          "data": {
            "image/png": "[encoded data removed]",
            "text/plain": [
              "<Figure size 600x400 with 1 Axes>"
            ]
          },
          "metadata": {},
          "output_type": "display_data"
        },
        {
          "name": "stdout",
          "output_type": "stream",
          "text": [
            "\n",
            "La cantidad de Categorias: 215825\n",
            "La cantidad de Categorias \"Restaurant\": 13830\n",
            "La cantidad de Categorias \"No_Restaurant\": 201995\n"
          ]
        }
      ],
      "source": [
        "# Filtrar el DataFrame para obtener las filas donde la columna 'category' contiene la palabra 'restaurant'\n",
        "restaurantes = comercios_fl[comercios_fl['category'].str.contains('restaurant', case=False, na=False)]\n",
        "\n",
        "# Contar las ocurrencias de cada categoría y calcular los porcentajes\n",
        "total_categorias = len(comercios_fl['category'])\n",
        "categorias_restaurant = len(restaurantes)\n",
        "categorias_no_restaurant = total_categorias - categorias_restaurant\n",
        "\n",
        "porcentaje_restaurant = (categorias_restaurant / total_categorias) * 100\n",
        "porcentaje_no_restaurant = (categorias_no_restaurant / total_categorias) * 100\n",
        "\n",
        "# Crear la figura de torta\n",
        "labels = ['Categorías con \"restaurant\"', 'Otras categorías']\n",
        "sizes = [porcentaje_restaurant, porcentaje_no_restaurant]\n",
        "colors = ['lightblue', 'lightgreen']\n",
        "explode = (0.1, 0)  # explode 1st slice\n",
        "\n",
        "plt.figure(figsize=(6, 4))\n",
        "plt.pie(sizes, explode=explode, labels=labels, colors=colors, autopct='%1.1f%%', shadow=True, startangle=140)\n",
        "plt.axis('equal')\n",
        "plt.title('Porcentaje de Categorías con \"restaurant\" vs Otras Categorías')\n",
        "plt.tight_layout()\n",
        "plt.show()\n",
        "print(f'\\nLa cantidad de Categorias: {total_categorias}')\n",
        "print(f'La cantidad de Categorias \"Restaurant\": {categorias_restaurant}')\n",
        "print(f'La cantidad de Categorias \"No_Restaurant\": {categorias_no_restaurant}')"
      ]
    },
    {
      "cell_type": "markdown",
      "metadata": {
        "id": "wIEu9P2ABnjU"
      },
      "source": [
        "**Observaciones:**\n",
        "- Las categorias 'restaurant' es la mas frecuente y representa un 7% del total de las actividades de comercios, siendo un gran porcentaje, debido a la cantidad de categorias que hay en el estado de Florida."
      ]
    },
    {
      "cell_type": "markdown",
      "metadata": {
        "id": "5fwRpfE6HlL-"
      },
      "source": [
        "\n",
        "\n",
        "---\n",
        "\n",
        "\n",
        "### **Restaurantes en el Estado de Florida:**"
      ]
    },
    {
      "cell_type": "code",
      "execution_count": 52,
      "metadata": {
        "colab": {
          "base_uri": "https://localhost:8080/"
        },
        "id": "irdCz9muHF4I",
        "outputId": "b0b57077-26ff-4442-8656-e867af9a9cec"
      },
      "outputs": [
        {
          "name": "stdout",
          "output_type": "stream",
          "text": [
            "<class 'pandas.core.frame.DataFrame'>\n",
            "Index: 13830 entries, 0 to 13895\n",
            "Data columns (total 24 columns):\n",
            " #   Column             Non-Null Count  Dtype  \n",
            "---  ------             --------------  -----  \n",
            " 0   name               13830 non-null  object \n",
            " 1   address            13830 non-null  object \n",
            " 2   gmap_id            13830 non-null  object \n",
            " 3   latitude           13830 non-null  float64\n",
            " 4   longitude          13830 non-null  float64\n",
            " 5   category           13830 non-null  object \n",
            " 6   avg_rating         13830 non-null  float64\n",
            " 7   num_of_reviews     13830 non-null  int64  \n",
            " 8   price              6030 non-null   object \n",
            " 9   hours              12234 non-null  object \n",
            " 10  Service options    13449 non-null  object \n",
            " 11  Accessibility      10590 non-null  object \n",
            " 12  Offerings          10550 non-null  object \n",
            " 13  Dining options     8315 non-null   object \n",
            " 14  Amenities          11002 non-null  object \n",
            " 15  Atmosphere         9240 non-null   object \n",
            " 16  Crowd              7739 non-null   object \n",
            " 17  Highlights         4875 non-null   object \n",
            " 18  Planning           2538 non-null   object \n",
            " 19  Payments           5796 non-null   object \n",
            " 20  Popular for        8355 non-null   object \n",
            " 21  Health & safety    2737 non-null   object \n",
            " 22  From the business  591 non-null    object \n",
            " 23  Health and safety  829 non-null    object \n",
            "dtypes: float64(3), int64(1), object(20)\n",
            "memory usage: 2.6+ MB\n"
          ]
        }
      ],
      "source": [
        "# VIsualizacion General del DataFrame\n",
        "restaurantes_fl.info()"
      ]
    },
    {
      "cell_type": "markdown",
      "metadata": {
        "id": "-HkD5Eye8TaF"
      },
      "source": [
        "\n",
        "\n",
        "---\n",
        "### **Top 10 Restaurantes más Comunes**\n"
      ]
    },
    {
      "cell_type": "code",
      "execution_count": 53,
      "metadata": {
        "colab": {
          "base_uri": "https://localhost:8080/",
          "height": 833
        },
        "id": "EW13Juc-Hvf8",
        "outputId": "e0bdbd55-5c55-4384-936c-818e26d939a4"
      },
      "outputs": [
        {
          "name": "stderr",
          "output_type": "stream",
          "text": [
            "C:\\Users\\flore\\AppData\\Local\\Temp\\ipykernel_24104\\3702749993.py:12: UserWarning: The figure layout has changed to tight\n",
            "  plt.tight_layout()\n"
          ]
        },
        {
          "data": {
            "image/png": "[encoded data removed]",
            "text/plain": [
              "<Figure size 1000x600 with 1 Axes>"
            ]
          },
          "metadata": {},
          "output_type": "display_data"
        },
        {
          "name": "stdout",
          "output_type": "stream",
          "text": [
            "\n",
            "top_10_restaurantes:\n",
            "name\n",
            "Subway               430\n",
            "Shell                100\n",
            "McDonald's            96\n",
            "Dunkin'               89\n",
            "Domino's Pizza        86\n",
            "Papa John's Pizza     63\n",
            "Pizza Hut             55\n",
            "Starbucks             52\n",
            "Wendy's               52\n",
            "Pizza Hut Express     51\n",
            "Name: count, dtype: int64\n"
          ]
        }
      ],
      "source": [
        "# Obtener las 10 categorías más comunes y contar sus ocurrencias\n",
        "top_10_restaurantes = restaurantes_fl['name'].value_counts().head(10)\n",
        "\n",
        "# Crear el gráfico de barras\n",
        "plt.figure(figsize=(10, 6))\n",
        "top_10_restaurantes.plot(kind='bar', color='skyblue')\n",
        "plt.title('Top 10 Restaurantes más Comunes')\n",
        "plt.xlabel('Categoría')\n",
        "plt.ylabel('Número de Comercios')\n",
        "plt.xticks(rotation=45, ha='right')\n",
        "plt.tight_layout()\n",
        "plt.tight_layout()\n",
        "plt.show()\n",
        "print(f'\\ntop_10_restaurantes:\\n{top_10_restaurantes}')"
      ]
    },
    {
      "cell_type": "markdown",
      "metadata": {
        "id": "6K47MXhJCRKw"
      },
      "source": [
        "**Observaciones:**\n",
        "- En el ranking de los 10 de mayor frecuencia hay un predominio de los 'restaurant' de modalidad 'Fast Food'.\n",
        "- Decidimos a eligir a Subway debido a su mayor frecuencia entre todos los restaurantes."
      ]
    },
    {
      "cell_type": "markdown",
      "metadata": {
        "id": "BO6CwcGq8vy0"
      },
      "source": [
        "\n",
        "\n",
        "---\n",
        "\n",
        "\n",
        "### **Restaurant Fast Food\"  vs \"Restaurant No Fast Food**"
      ]
    },
    {
      "cell_type": "code",
      "execution_count": 54,
      "metadata": {
        "colab": {
          "base_uri": "https://localhost:8080/",
          "height": 685
        },
        "id": "89GAqL4otXTu",
        "outputId": "988d8308-8549-48b6-a63b-c68ce89c836a"
      },
      "outputs": [
        {
          "data": {
            "image/png": "[encoded data removed]",
            "text/plain": [
              "<Figure size 600x400 with 1 Axes>"
            ]
          },
          "metadata": {},
          "output_type": "display_data"
        },
        {
          "name": "stdout",
          "output_type": "stream",
          "text": [
            "\n",
            "La cantidad de \"Restaurant\": 13830\n",
            "La cantidad de \"Restaurant\" \"Fast Food\": 1688\n",
            "La cantidad de \"Restaurant\" \"No Fast Food\": 12142\n",
            "\n",
            "Porcentaje del TOP 10 de Restaurantes Fast Food:\n",
            "Subway: 427 (25.30%)\n",
            "McDonald's: 96 (5.69%)\n",
            "Dunkin': 88 (5.21%)\n",
            "Wendy's: 52 (3.08%)\n",
            "Wawa: 51 (3.02%)\n",
            "Smoothie King: 49 (2.90%)\n",
            "Burger King: 47 (2.78%)\n",
            "Jimmy John's: 39 (2.31%)\n",
            "Taco Bell: 37 (2.19%)\n",
            "Chick-fil-A: 36 (2.13%)\n"
          ]
        }
      ],
      "source": [
        "# Filtrar el DataFrame para obtener las filas donde la columna 'category' contiene la palabra 'fast food'\n",
        "fastfood_restaurants = restaurantes_fl[restaurantes_fl['category'].str.contains('fast food', case=False)]\n",
        "\n",
        "# Contar las ocurrencias de cada categoría y calcular los porcentajes\n",
        "total_categorias_restaurant = categorias_restaurant\n",
        "categorias_restaurant_fastfood = len(fastfood_restaurants)\n",
        "categorias_no_restaurant_fastfood = total_categorias_restaurant - categorias_restaurant_fastfood\n",
        "\n",
        "porcentaje_restaurant_fastfood = (categorias_restaurant_fastfood / total_categorias_restaurant) * 100\n",
        "porcentaje_no_restaurant_fastfood = (categorias_no_restaurant_fastfood / total_categorias_restaurant) * 100\n",
        "\n",
        "# Crear la figura de torta\n",
        "labels = ['Restaurant \"Fast Food\"', 'Restaurant \"No Fast Food\"']\n",
        "sizes = [porcentaje_restaurant_fastfood, porcentaje_no_restaurant_fastfood]\n",
        "colors = ['lightblue', 'lightgreen']\n",
        "explode = (0.1, 0)  # explode 1st slice\n",
        "\n",
        "plt.figure(figsize=(6, 4))\n",
        "plt.pie(sizes, explode=explode, labels=labels, colors=colors, autopct='%1.1f%%', shadow=True, startangle=140)\n",
        "plt.axis('equal')\n",
        "plt.title('Porcentaje de \"Restaurant Fast Food\"  vs \"Restaurant No Fast Food\" ')\n",
        "plt.tight_layout()\n",
        "plt.show()\n",
        "print(f'\\nLa cantidad de \"Restaurant\": {total_categorias_restaurant}')\n",
        "print(f'La cantidad de \"Restaurant\" \"Fast Food\": {categorias_restaurant_fastfood}')\n",
        "print(f'La cantidad de \"Restaurant\" \"No Fast Food\": {categorias_no_restaurant_fastfood}')\n",
        "print(f'\\nPorcentaje del TOP 10 de Restaurantes Fast Food:')\n",
        "\n",
        "# Contar el número total de restaurantes de comida rápida\n",
        "total_fastfood = fastfood_restaurants['name'].value_counts().sum()\n",
        "\n",
        "# Calcular el porcentaje para cada restaurante de comida rápida\n",
        "porcentaje_por_restaurante = (fastfood_restaurants['name'].value_counts() / total_fastfood) * 100\n",
        "\n",
        "# Mostrar los 10 primeros restaurantes de comida rápida junto con sus porcentajes\n",
        "top_10_fastfood = fastfood_restaurants['name'].value_counts().head(10)\n",
        "for nombre_restaurante, cantidad in top_10_fastfood.items():\n",
        "    porcentaje = porcentaje_por_restaurante[nombre_restaurante]\n",
        "    print(f\"{nombre_restaurante}: {cantidad} ({porcentaje:.2f}%)\")"
      ]
    },
    {
      "cell_type": "markdown",
      "metadata": {
        "id": "m0HROXJuCw12"
      },
      "source": [
        "**Observaciones:**\n",
        "- El porcentaje de 'restaurant' de tipo 'Fast Food' tienen un gran numero de frecuencia, similar al que presenta la categoria 'restaurant' con respecto a otras, siendo un porcentaje alto.\n",
        "- Haciendo un Ranking entre los 'restaurant' de tipo 'Fast Food', 'Subway' predomina en Florida, con gran diferencia con respectos a otros teniendo el alto porcentaje aproximadamente de un 26%."
      ]
    },
    {
      "cell_type": "markdown",
      "metadata": {
        "id": "iHCdTXQZE5U8"
      },
      "source": [
        "\n",
        "\n",
        "---\n",
        "\n",
        "\n",
        "## **Guardar el DataFrame:**"
      ]
    },
    {
      "cell_type": "code",
      "execution_count": 55,
      "metadata": {
        "id": "J0ELpVYwE4bi"
      },
      "outputs": [],
      "source": [
        "# Guardar el DataFrame comprimido en Parquet\n",
        "#restaurantes_fl.to_parquet('restaurantes_ny.parquet')"
      ]
    },
    {
      "cell_type": "code",
      "execution_count": 56,
      "metadata": {
        "id": "9JdMx32dAHd4"
      },
      "outputs": [],
      "source": [
        "# Guardar el DataFrame comprimido en Parquet\n",
        "\n",
        "#restaurantes_fl.to_parquet('comercios_ny.parquet')"
      ]
    },
    {
      "cell_type": "markdown",
      "metadata": {
        "id": "UrTgxx1zFsLK"
      },
      "source": [
        "\n",
        "\n",
        "---\n",
        "\n",
        "\n",
        "\n",
        "---\n",
        "\n",
        "## **Google Maps Review Estados:**"
      ]
    },
    {
      "cell_type": "markdown",
      "metadata": {
        "id": "jeHnr0p8GJL3"
      },
      "source": [
        "## **Cargar los archivos:**"
      ]
    },
    {
      "cell_type": "code",
      "execution_count": 57,
      "metadata": {
        "id": "gIZVWKwQF5_x"
      },
      "outputs": [],
      "source": [
        "# Crear desde el  archivo JSON en un DataFrarame\n",
        "data_folder = 'C:/Users/flore/OneDrive/Desktop/GRUPAL HENRY/google/reviewestados/review-Florida'\n",
        "file_names_to_read = ['1.json', '2.json', '3.json', '4.json', '5.json', '6.json', '7.json', '8.json', '9.json', '10.json', '11.json', '12.json', '13.json', '14.json', '15.json', '16.json', '17.json', '18.json', '19.json']\n",
        "rows = []\n",
        "\n",
        "for filename in file_names_to_read:\n",
        "    file_path = os.path.join(data_folder, filename)\n",
        "    with open(file_path) as f:\n",
        "        for line in f:\n",
        "            try:\n",
        "                data = json.loads(line)\n",
        "                rows.append(data)\n",
        "            except json.JSONDecodeError as e:\n",
        "                print(f\"Error decoding JSON in {filename}: {e}\")\n",
        "\n",
        "google_review_estados = pd.DataFrame(rows)"
      ]
    },
    {
      "cell_type": "markdown",
      "metadata": {
        "id": "xpZZrEMS89i2"
      },
      "source": [
        "Cargamos los datos del Estado de Nueva York, lugar elegido para realizar el analisis.\n",
        "Lo guardamos en una variable en forma de DataFrame."
      ]
    },
    {
      "cell_type": "markdown",
      "metadata": {
        "id": "PzLzxkluHT3j"
      },
      "source": [
        "\n",
        "\n",
        "---\n",
        "## **Visualizacion General del DataFrame:**\n"
      ]
    },
    {
      "cell_type": "code",
      "execution_count": 58,
      "metadata": {
        "colab": {
          "base_uri": "https://localhost:8080/"
        },
        "id": "qqYW5SnKHZYe",
        "outputId": "30700932-cd22-4a24-bac3-f71c73e14522"
      },
      "outputs": [
        {
          "name": "stdout",
          "output_type": "stream",
          "text": [
            "<class 'pandas.core.frame.DataFrame'>\n",
            "RangeIndex: 2850000 entries, 0 to 2849999\n",
            "Data columns (total 8 columns):\n",
            " #   Column   Dtype \n",
            "---  ------   ----- \n",
            " 0   user_id  object\n",
            " 1   name     object\n",
            " 2   time     int64 \n",
            " 3   rating   int64 \n",
            " 4   text     object\n",
            " 5   pics     object\n",
            " 6   resp     object\n",
            " 7   gmap_id  object\n",
            "dtypes: int64(2), object(6)\n",
            "memory usage: 174.0+ MB\n"
          ]
        }
      ],
      "source": [
        "# Observar el tipo de variable y cantidad de entradas\n",
        "google_review_estados.info()"
      ]
    },
    {
      "cell_type": "code",
      "execution_count": 59,
      "metadata": {
        "colab": {
          "base_uri": "https://localhost:8080/",
          "height": 379
        },
        "id": "7nUbYPLvHe7H",
        "outputId": "abab31ff-cdc7-4508-e367-c410abd0da1c"
      },
      "outputs": [
        {
          "data": {
            "text/html": [
              "<div>\n",
              "<style scoped>\n",
              "    .dataframe tbody tr th:only-of-type {\n",
              "        vertical-align: middle;\n",
              "    }\n",
              "\n",
              "    .dataframe tbody tr th {\n",
              "        vertical-align: top;\n",
              "    }\n",
              "\n",
              "    .dataframe thead th {\n",
              "        text-align: right;\n",
              "    }\n",
              "</style>\n",
              "<table border=\"1\" class=\"dataframe\">\n",
              "  <thead>\n",
              "    <tr style=\"text-align: right;\">\n",
              "      <th></th>\n",
              "      <th>user_id</th>\n",
              "      <th>name</th>\n",
              "      <th>time</th>\n",
              "      <th>rating</th>\n",
              "      <th>text</th>\n",
              "      <th>pics</th>\n",
              "      <th>resp</th>\n",
              "      <th>gmap_id</th>\n",
              "    </tr>\n",
              "  </thead>\n",
              "  <tbody>\n",
              "    <tr>\n",
              "      <th>0</th>\n",
              "      <td>101471856155148729010</td>\n",
              "      <td>Julie A. Gerber</td>\n",
              "      <td>1628003250740</td>\n",
              "      <td>1</td>\n",
              "      <td>Update: Their “reply” to my review amounted to...</td>\n",
              "      <td>None</td>\n",
              "      <td>{'time': 1627042799532, 'text': 'Thank you for...</td>\n",
              "      <td>0x8893863ea87bd5dd:0x9383ebf973e74abb</td>\n",
              "    </tr>\n",
              "    <tr>\n",
              "      <th>1</th>\n",
              "      <td>115477234789038326051</td>\n",
              "      <td>Martin Sheffield</td>\n",
              "      <td>1595031217005</td>\n",
              "      <td>5</td>\n",
              "      <td>He's a knowledgeable doctor but the way he run...</td>\n",
              "      <td>None</td>\n",
              "      <td>{'time': 1582464056733, 'text': 'Thank you for...</td>\n",
              "      <td>0x8893863ea87bd5dd:0x9383ebf973e74abb</td>\n",
              "    </tr>\n",
              "    <tr>\n",
              "      <th>2</th>\n",
              "      <td>101805010244892834381</td>\n",
              "      <td>Brian Truett</td>\n",
              "      <td>1522924253567</td>\n",
              "      <td>5</td>\n",
              "      <td>Best doctor I've ever had, I never wait to be ...</td>\n",
              "      <td>None</td>\n",
              "      <td>None</td>\n",
              "      <td>0x8893863ea87bd5dd:0x9383ebf973e74abb</td>\n",
              "    </tr>\n",
              "    <tr>\n",
              "      <th>3</th>\n",
              "      <td>106344422881493743981</td>\n",
              "      <td>Tina Sun</td>\n",
              "      <td>1467907819586</td>\n",
              "      <td>1</td>\n",
              "      <td>I was told he is a good doctor. I was trying t...</td>\n",
              "      <td>None</td>\n",
              "      <td>None</td>\n",
              "      <td>0x8893863ea87bd5dd:0x9383ebf973e74abb</td>\n",
              "    </tr>\n",
              "    <tr>\n",
              "      <th>4</th>\n",
              "      <td>100875113069561776529</td>\n",
              "      <td>James Haynes</td>\n",
              "      <td>1480683415081</td>\n",
              "      <td>5</td>\n",
              "      <td>Takes the time to actually get to know his pat...</td>\n",
              "      <td>None</td>\n",
              "      <td>None</td>\n",
              "      <td>0x8893863ea87bd5dd:0x9383ebf973e74abb</td>\n",
              "    </tr>\n",
              "  </tbody>\n",
              "</table>\n",
              "</div>"
            ],
            "text/plain": [
              "                 user_id              name           time  rating  \\\n",
              "0  101471856155148729010   Julie A. Gerber  1628003250740       1   \n",
              "1  115477234789038326051  Martin Sheffield  1595031217005       5   \n",
              "2  101805010244892834381      Brian Truett  1522924253567       5   \n",
              "3  106344422881493743981          Tina Sun  1467907819586       1   \n",
              "4  100875113069561776529      James Haynes  1480683415081       5   \n",
              "\n",
              "                                                text  pics  \\\n",
              "0  Update: Their “reply” to my review amounted to...  None   \n",
              "1  He's a knowledgeable doctor but the way he run...  None   \n",
              "2  Best doctor I've ever had, I never wait to be ...  None   \n",
              "3  I was told he is a good doctor. I was trying t...  None   \n",
              "4  Takes the time to actually get to know his pat...  None   \n",
              "\n",
              "                                                resp  \\\n",
              "0  {'time': 1627042799532, 'text': 'Thank you for...   \n",
              "1  {'time': 1582464056733, 'text': 'Thank you for...   \n",
              "2                                               None   \n",
              "3                                               None   \n",
              "4                                               None   \n",
              "\n",
              "                                 gmap_id  \n",
              "0  0x8893863ea87bd5dd:0x9383ebf973e74abb  \n",
              "1  0x8893863ea87bd5dd:0x9383ebf973e74abb  \n",
              "2  0x8893863ea87bd5dd:0x9383ebf973e74abb  \n",
              "3  0x8893863ea87bd5dd:0x9383ebf973e74abb  \n",
              "4  0x8893863ea87bd5dd:0x9383ebf973e74abb  "
            ]
          },
          "execution_count": 59,
          "metadata": {},
          "output_type": "execute_result"
        }
      ],
      "source": [
        "# Visualizar los 5 primeros resgistros\n",
        "google_review_estados.head()"
      ]
    },
    {
      "cell_type": "markdown",
      "metadata": {
        "id": "u-Zg7NXWIDEP"
      },
      "source": [
        "\n",
        "\n",
        "---\n",
        "\n",
        "## **Descripcion de las Columnas:**"
      ]
    },
    {
      "cell_type": "markdown",
      "metadata": {
        "id": "c592S-7cIL0i"
      },
      "source": [
        "- user_id: Identidficador de Usuario unico.\n",
        "- name: Nombre del usuario.\n",
        "- time: Tiempo en la App.\n",
        "- rating: Clasificacion que el Usuario ingresa.\n",
        "- text: Comentario que realiza el Usuario.\n",
        "- pics: Foto que sube el Usuario.\n",
        "- resp: Respuesta al Comentario realizado-\n",
        "- gmap_id: Identificador Unico del Comercio."
      ]
    },
    {
      "cell_type": "markdown",
      "metadata": {
        "id": "60_grU9rJSle"
      },
      "source": [
        "\n",
        "\n",
        "---\n",
        "\n",
        "## **Cuantificar Valores Nulos:**"
      ]
    },
    {
      "cell_type": "code",
      "execution_count": 60,
      "metadata": {
        "colab": {
          "base_uri": "https://localhost:8080/"
        },
        "id": "pLCR5SgcJ0qR",
        "outputId": "35bbd719-d96e-4390-a008-78cb50752c4b"
      },
      "outputs": [
        {
          "name": "stdout",
          "output_type": "stream",
          "text": [
            "Cantidad total de valores Nulos: 6219921\n"
          ]
        }
      ],
      "source": [
        "# Cantidad total de nulos\n",
        "total_valores_nulos = google_review_estados.isna().sum().sum()\n",
        "print(f'Cantidad total de valores Nulos: {total_valores_nulos}')"
      ]
    },
    {
      "cell_type": "code",
      "execution_count": 61,
      "metadata": {
        "colab": {
          "base_uri": "https://localhost:8080/"
        },
        "id": "GntuuUi-M0l7",
        "outputId": "bcd44b44-3e59-4c19-a5c3-08bcd5d1e639"
      },
      "outputs": [
        {
          "name": "stdout",
          "output_type": "stream",
          "text": [
            "Porcentaje de valores Nulos: 27.28%\n"
          ]
        }
      ],
      "source": [
        "# Cantidad total de valores en el DataFrame\n",
        "total_valores = google_review_estados.size\n",
        "\n",
        "# Calcular el porcentaje de valores nulos\n",
        "porcentaje_valores_nulos = (total_valores_nulos / total_valores) * 100\n",
        "\n",
        "print(f'Porcentaje de valores Nulos: {porcentaje_valores_nulos:.2f}%')\n"
      ]
    },
    {
      "cell_type": "code",
      "execution_count": 62,
      "metadata": {
        "colab": {
          "base_uri": "https://localhost:8080/"
        },
        "id": "RhosMwRPIK31",
        "outputId": "7053eadb-333c-40fa-957d-601e4a486c1e"
      },
      "outputs": [
        {
          "name": "stdout",
          "output_type": "stream",
          "text": [
            "Cantidad total de valores Nulos por Columna:\n",
            "user_id          0\n",
            "name             0\n",
            "time             0\n",
            "rating           0\n",
            "text       1079510\n",
            "pics       2745810\n",
            "resp       2394601\n",
            "gmap_id          0\n",
            "dtype: int64\n"
          ]
        }
      ],
      "source": [
        "# Valores Nulos por variable\n",
        "valores_nulos = google_review_estados.isna().sum()\n",
        "print(f'Cantidad total de valores Nulos por Columna:\\n{valores_nulos}')"
      ]
    },
    {
      "cell_type": "code",
      "execution_count": 63,
      "metadata": {
        "colab": {
          "base_uri": "https://localhost:8080/"
        },
        "id": "r3OgMQBsJlE3",
        "outputId": "e40ea445-6e14-4fca-a915-4b335a76c87b"
      },
      "outputs": [
        {
          "name": "stdout",
          "output_type": "stream",
          "text": [
            "user_id     0.000000\n",
            "name        0.000000\n",
            "time        0.000000\n",
            "rating      0.000000\n",
            "text       37.877544\n",
            "pics       96.344211\n",
            "resp       84.021088\n",
            "gmap_id     0.000000\n",
            "dtype: float64\n"
          ]
        }
      ],
      "source": [
        "# Cantidad de valores nulos en cada columna\n",
        "total_valores_nulos = google_review_estados.isna().sum()\n",
        "# Porcentaje de valores nulos en cada columna\n",
        "porcentaje_valores_nulos = (total_valores_nulos / len(google_review_estados)) * 100\n",
        "# Mostrar los porcentajes por columnas\n",
        "print(porcentaje_valores_nulos)\n"
      ]
    },
    {
      "cell_type": "markdown",
      "metadata": {
        "id": "RQcrTnlbO7fV"
      },
      "source": [
        "## **Observaciones:**\n",
        "- El DataFrame Presenta un 27.28%, es un alto porcentaje, siendo las variables que mas afectan al total son las de : 'pics', 'resp' superando un 90%, 80% y 'text' mayor al 35%.\n",
        "- Estos porcentajes indican que las personas que ingresan a la aplicacion suben muy pocas Fotos, comentan menos de la mitad y hay una baja interaccion de los 'restaurant' en responder a las criticas de los Usuarios."
      ]
    },
    {
      "cell_type": "markdown",
      "metadata": {
        "id": "qrPxoro2Uglf"
      },
      "source": [
        "\n",
        "\n",
        "---\n",
        "\n",
        "\n",
        "## **Eliminar Columnas:**"
      ]
    },
    {
      "cell_type": "code",
      "execution_count": 64,
      "metadata": {
        "id": "VY4U-3g6rAjn"
      },
      "outputs": [],
      "source": [
        "# Se modifoca el nombre de las columnas\n",
        "google_review_estados = google_review_estados.rename(columns={'text': 'text_usuario', 'time': 'time_usuario'})"
      ]
    },
    {
      "cell_type": "code",
      "execution_count": 65,
      "metadata": {
        "id": "wRQDYmSeUpUM"
      },
      "outputs": [],
      "source": [
        "# Se eliminan las columnas que no seran utilizadas para el analisis\n",
        "google_review_estados = google_review_estados.drop(columns=['pics'])"
      ]
    },
    {
      "cell_type": "markdown",
      "metadata": {
        "id": "ZTSua-XrU6Ks"
      },
      "source": [
        "**Observaciones:**\n",
        "\n",
        "- Eliminamos la columna 'pics' y 'time' debido a que no proporcionan informacion relevante para el analisis y poseen valores nulos en la mayoria de sus celdas."
      ]
    },
    {
      "cell_type": "markdown",
      "metadata": {
        "id": "hQH8pmGSV2AN"
      },
      "source": [
        "## **Modificacion de las Columnas:**"
      ]
    },
    {
      "cell_type": "code",
      "execution_count": 66,
      "metadata": {
        "id": "J70fvcU5V8s5"
      },
      "outputs": [],
      "source": [
        "# Expandir el diccionario en la columna 'MISC' en nuevas columnas\n",
        "misc_expandido = json_normalize(google_review_estados['resp'])"
      ]
    },
    {
      "cell_type": "code",
      "execution_count": 67,
      "metadata": {
        "id": "JmiuTs5FWFkZ"
      },
      "outputs": [],
      "source": [
        "# Reinicio de indices de ambos DataFrames\n",
        "google_review_estados.reset_index(drop=True, inplace=True)\n",
        "misc_expandido.reset_index(drop=True, inplace=True)\n",
        "\n",
        "# Concatenar las nuevas columnas al DataFrame original\n",
        "google_review_estados = pd.concat([google_review_estados, misc_expandido], axis=1)"
      ]
    },
    {
      "cell_type": "code",
      "execution_count": 68,
      "metadata": {
        "id": "baqZzrc1WNXy"
      },
      "outputs": [],
      "source": [
        "# Eliminar las columnas 'resp', 'time' si ya no la necesitas\n",
        "google_review_estados.drop(columns=['resp'], inplace=True)"
      ]
    },
    {
      "cell_type": "markdown",
      "metadata": {
        "id": "oyP_l62_9xHn"
      },
      "source": [
        "Al igual que la columna 'MISC' del dataframe anterior, la columna 'resp' se encuentra de forma json anidad, por lo que se decide a realizar el mismo tratamiento.\n",
        "Generar un nuevo dadtaframe, para luego unir por el eje de las columnas y eliminar la columna 'resp' que ya no se de uso."
      ]
    },
    {
      "cell_type": "code",
      "execution_count": 69,
      "metadata": {
        "colab": {
          "base_uri": "https://localhost:8080/",
          "height": 414
        },
        "id": "Su4JEa3LswoQ",
        "outputId": "9d9d2862-5a84-42a8-aac1-a891ba516ee8"
      },
      "outputs": [
        {
          "data": {
            "text/html": [
              "<div>\n",
              "<style scoped>\n",
              "    .dataframe tbody tr th:only-of-type {\n",
              "        vertical-align: middle;\n",
              "    }\n",
              "\n",
              "    .dataframe tbody tr th {\n",
              "        vertical-align: top;\n",
              "    }\n",
              "\n",
              "    .dataframe thead th {\n",
              "        text-align: right;\n",
              "    }\n",
              "</style>\n",
              "<table border=\"1\" class=\"dataframe\">\n",
              "  <thead>\n",
              "    <tr style=\"text-align: right;\">\n",
              "      <th></th>\n",
              "      <th>user_id</th>\n",
              "      <th>name</th>\n",
              "      <th>time_usuario</th>\n",
              "      <th>rating</th>\n",
              "      <th>text_usuario</th>\n",
              "      <th>gmap_id</th>\n",
              "      <th>time</th>\n",
              "      <th>text</th>\n",
              "    </tr>\n",
              "  </thead>\n",
              "  <tbody>\n",
              "    <tr>\n",
              "      <th>0</th>\n",
              "      <td>101471856155148729010</td>\n",
              "      <td>Julie A. Gerber</td>\n",
              "      <td>1628003250740</td>\n",
              "      <td>1</td>\n",
              "      <td>Update: Their “reply” to my review amounted to...</td>\n",
              "      <td>0x8893863ea87bd5dd:0x9383ebf973e74abb</td>\n",
              "      <td>1.627043e+12</td>\n",
              "      <td>Thank you for the feedback. We would like to w...</td>\n",
              "    </tr>\n",
              "    <tr>\n",
              "      <th>1</th>\n",
              "      <td>115477234789038326051</td>\n",
              "      <td>Martin Sheffield</td>\n",
              "      <td>1595031217005</td>\n",
              "      <td>5</td>\n",
              "      <td>He's a knowledgeable doctor but the way he run...</td>\n",
              "      <td>0x8893863ea87bd5dd:0x9383ebf973e74abb</td>\n",
              "      <td>1.582464e+12</td>\n",
              "      <td>Thank you for reaching out. I’m forwarding you...</td>\n",
              "    </tr>\n",
              "    <tr>\n",
              "      <th>2</th>\n",
              "      <td>101805010244892834381</td>\n",
              "      <td>Brian Truett</td>\n",
              "      <td>1522924253567</td>\n",
              "      <td>5</td>\n",
              "      <td>Best doctor I've ever had, I never wait to be ...</td>\n",
              "      <td>0x8893863ea87bd5dd:0x9383ebf973e74abb</td>\n",
              "      <td>NaN</td>\n",
              "      <td>NaN</td>\n",
              "    </tr>\n",
              "    <tr>\n",
              "      <th>3</th>\n",
              "      <td>106344422881493743981</td>\n",
              "      <td>Tina Sun</td>\n",
              "      <td>1467907819586</td>\n",
              "      <td>1</td>\n",
              "      <td>I was told he is a good doctor. I was trying t...</td>\n",
              "      <td>0x8893863ea87bd5dd:0x9383ebf973e74abb</td>\n",
              "      <td>NaN</td>\n",
              "      <td>NaN</td>\n",
              "    </tr>\n",
              "    <tr>\n",
              "      <th>4</th>\n",
              "      <td>100875113069561776529</td>\n",
              "      <td>James Haynes</td>\n",
              "      <td>1480683415081</td>\n",
              "      <td>5</td>\n",
              "      <td>Takes the time to actually get to know his pat...</td>\n",
              "      <td>0x8893863ea87bd5dd:0x9383ebf973e74abb</td>\n",
              "      <td>NaN</td>\n",
              "      <td>NaN</td>\n",
              "    </tr>\n",
              "  </tbody>\n",
              "</table>\n",
              "</div>"
            ],
            "text/plain": [
              "                 user_id              name   time_usuario  rating  \\\n",
              "0  101471856155148729010   Julie A. Gerber  1628003250740       1   \n",
              "1  115477234789038326051  Martin Sheffield  1595031217005       5   \n",
              "2  101805010244892834381      Brian Truett  1522924253567       5   \n",
              "3  106344422881493743981          Tina Sun  1467907819586       1   \n",
              "4  100875113069561776529      James Haynes  1480683415081       5   \n",
              "\n",
              "                                        text_usuario  \\\n",
              "0  Update: Their “reply” to my review amounted to...   \n",
              "1  He's a knowledgeable doctor but the way he run...   \n",
              "2  Best doctor I've ever had, I never wait to be ...   \n",
              "3  I was told he is a good doctor. I was trying t...   \n",
              "4  Takes the time to actually get to know his pat...   \n",
              "\n",
              "                                 gmap_id          time  \\\n",
              "0  0x8893863ea87bd5dd:0x9383ebf973e74abb  1.627043e+12   \n",
              "1  0x8893863ea87bd5dd:0x9383ebf973e74abb  1.582464e+12   \n",
              "2  0x8893863ea87bd5dd:0x9383ebf973e74abb           NaN   \n",
              "3  0x8893863ea87bd5dd:0x9383ebf973e74abb           NaN   \n",
              "4  0x8893863ea87bd5dd:0x9383ebf973e74abb           NaN   \n",
              "\n",
              "                                                text  \n",
              "0  Thank you for the feedback. We would like to w...  \n",
              "1  Thank you for reaching out. I’m forwarding you...  \n",
              "2                                                NaN  \n",
              "3                                                NaN  \n",
              "4                                                NaN  "
            ]
          },
          "execution_count": 69,
          "metadata": {},
          "output_type": "execute_result"
        }
      ],
      "source": [
        "google_review_estados.head()"
      ]
    },
    {
      "cell_type": "markdown",
      "metadata": {
        "id": "hQ19A_F2QVvC"
      },
      "source": [
        "\n",
        "\n",
        "---\n",
        "\n",
        "## **Valores Duplicados:**"
      ]
    },
    {
      "cell_type": "code",
      "execution_count": 70,
      "metadata": {
        "colab": {
          "base_uri": "https://localhost:8080/"
        },
        "id": "QJ9cT3VlQIwU",
        "outputId": "5796ef4a-ef0c-4df9-9592-ceab80283092"
      },
      "outputs": [
        {
          "name": "stdout",
          "output_type": "stream",
          "text": [
            "Cantidad de Valores duplicados: 119396\n"
          ]
        }
      ],
      "source": [
        "# Contarlos los valores duplicados\n",
        "duplicados = google_review_estados.duplicated().sum()\n",
        "print(f'Cantidad de Valores duplicados: {duplicados}')"
      ]
    },
    {
      "cell_type": "code",
      "execution_count": 71,
      "metadata": {
        "colab": {
          "base_uri": "https://localhost:8080/",
          "height": 379
        },
        "id": "H2tjz30cZdRD",
        "outputId": "e578aa56-41a5-473a-93cf-1666dff80fe7"
      },
      "outputs": [
        {
          "data": {
            "text/html": [
              "<div>\n",
              "<style scoped>\n",
              "    .dataframe tbody tr th:only-of-type {\n",
              "        vertical-align: middle;\n",
              "    }\n",
              "\n",
              "    .dataframe tbody tr th {\n",
              "        vertical-align: top;\n",
              "    }\n",
              "\n",
              "    .dataframe thead th {\n",
              "        text-align: right;\n",
              "    }\n",
              "</style>\n",
              "<table border=\"1\" class=\"dataframe\">\n",
              "  <thead>\n",
              "    <tr style=\"text-align: right;\">\n",
              "      <th></th>\n",
              "      <th>user_id</th>\n",
              "      <th>name</th>\n",
              "      <th>time_usuario</th>\n",
              "      <th>rating</th>\n",
              "      <th>text_usuario</th>\n",
              "      <th>gmap_id</th>\n",
              "      <th>time</th>\n",
              "      <th>text</th>\n",
              "    </tr>\n",
              "  </thead>\n",
              "  <tbody>\n",
              "    <tr>\n",
              "      <th>2784449</th>\n",
              "      <td>100000292877416466159</td>\n",
              "      <td>Vaclav Zabransky</td>\n",
              "      <td>1505851160025</td>\n",
              "      <td>2</td>\n",
              "      <td>The place is very nice. But. Very bad food and...</td>\n",
              "      <td>0x88d9b6b280d37c49:0x51db4e7ff6550840</td>\n",
              "      <td>NaN</td>\n",
              "      <td>NaN</td>\n",
              "    </tr>\n",
              "    <tr>\n",
              "      <th>2784455</th>\n",
              "      <td>100000292877416466159</td>\n",
              "      <td>Vaclav Zabransky</td>\n",
              "      <td>1505851160025</td>\n",
              "      <td>2</td>\n",
              "      <td>The place is very nice. But. Very bad food and...</td>\n",
              "      <td>0x88d9b6b280d37c49:0x51db4e7ff6550840</td>\n",
              "      <td>NaN</td>\n",
              "      <td>NaN</td>\n",
              "    </tr>\n",
              "    <tr>\n",
              "      <th>913148</th>\n",
              "      <td>100000358518969521024</td>\n",
              "      <td>Lora Showers</td>\n",
              "      <td>1478030494174</td>\n",
              "      <td>5</td>\n",
              "      <td>I love the service here.some of the customers ...</td>\n",
              "      <td>0x88c2c380f3b89691:0x182cb2786f085da2</td>\n",
              "      <td>NaN</td>\n",
              "      <td>NaN</td>\n",
              "    </tr>\n",
              "    <tr>\n",
              "      <th>913149</th>\n",
              "      <td>100000358518969521024</td>\n",
              "      <td>Lora Showers</td>\n",
              "      <td>1478030494174</td>\n",
              "      <td>5</td>\n",
              "      <td>I love the service here.some of the customers ...</td>\n",
              "      <td>0x88c2c380f3b89691:0x182cb2786f085da2</td>\n",
              "      <td>NaN</td>\n",
              "      <td>NaN</td>\n",
              "    </tr>\n",
              "    <tr>\n",
              "      <th>1733412</th>\n",
              "      <td>100000394986243622831</td>\n",
              "      <td>Teri Ramos</td>\n",
              "      <td>1569769294797</td>\n",
              "      <td>5</td>\n",
              "      <td>If you're downtown Fort Myers hands down best ...</td>\n",
              "      <td>0x88db41e30603a449:0xed1156ab764b9ff6</td>\n",
              "      <td>1.570096e+12</td>\n",
              "      <td>Thank you so much!</td>\n",
              "    </tr>\n",
              "  </tbody>\n",
              "</table>\n",
              "</div>"
            ],
            "text/plain": [
              "                       user_id              name   time_usuario  rating  \\\n",
              "2784449  100000292877416466159  Vaclav Zabransky  1505851160025       2   \n",
              "2784455  100000292877416466159  Vaclav Zabransky  1505851160025       2   \n",
              "913148   100000358518969521024      Lora Showers  1478030494174       5   \n",
              "913149   100000358518969521024      Lora Showers  1478030494174       5   \n",
              "1733412  100000394986243622831        Teri Ramos  1569769294797       5   \n",
              "\n",
              "                                              text_usuario  \\\n",
              "2784449  The place is very nice. But. Very bad food and...   \n",
              "2784455  The place is very nice. But. Very bad food and...   \n",
              "913148   I love the service here.some of the customers ...   \n",
              "913149   I love the service here.some of the customers ...   \n",
              "1733412  If you're downtown Fort Myers hands down best ...   \n",
              "\n",
              "                                       gmap_id          time  \\\n",
              "2784449  0x88d9b6b280d37c49:0x51db4e7ff6550840           NaN   \n",
              "2784455  0x88d9b6b280d37c49:0x51db4e7ff6550840           NaN   \n",
              "913148   0x88c2c380f3b89691:0x182cb2786f085da2           NaN   \n",
              "913149   0x88c2c380f3b89691:0x182cb2786f085da2           NaN   \n",
              "1733412  0x88db41e30603a449:0xed1156ab764b9ff6  1.570096e+12   \n",
              "\n",
              "                       text  \n",
              "2784449                 NaN  \n",
              "2784455                 NaN  \n",
              "913148                  NaN  \n",
              "913149                  NaN  \n",
              "1733412  Thank you so much!  "
            ]
          },
          "execution_count": 71,
          "metadata": {},
          "output_type": "execute_result"
        }
      ],
      "source": [
        "# Encuentra las filas duplicadas en el DataFrame\n",
        "filas_duplicadas = google_review_estados[google_review_estados.duplicated(keep=False)]\n",
        "\n",
        "# Ordena el DataFrame por todas las columnas para que las filas duplicadas estén juntas\n",
        "filas_duplicadas_ordenadas = filas_duplicadas.sort_values(by=list(filas_duplicadas.columns))\n",
        "\n",
        "# Imprime todas las filas duplicadas ordenadas\n",
        "filas_duplicadas_ordenadas.head()"
      ]
    },
    {
      "cell_type": "code",
      "execution_count": 72,
      "metadata": {
        "id": "TIs43oKpcHoa"
      },
      "outputs": [],
      "source": [
        "# Eliminar los valores duplicados\n",
        "google_review_estados = google_review_estados.drop_duplicates()"
      ]
    },
    {
      "cell_type": "markdown",
      "metadata": {
        "id": "_uGMGx9f-IYw"
      },
      "source": [
        "Observamos una gran cantidad de valores duplicados, los cuales fueron analisasdos con exhustividad para luego proceder a eliminarlos."
      ]
    },
    {
      "cell_type": "markdown",
      "metadata": {
        "id": "6G8QDJmEansC"
      },
      "source": [
        "\n",
        "\n",
        "---\n",
        "\n",
        "## **Unificar los Dataframes:**"
      ]
    },
    {
      "cell_type": "code",
      "execution_count": 73,
      "metadata": {
        "id": "4vXf0dv5atFa"
      },
      "outputs": [],
      "source": [
        "# Se realiza un Merge por las variables en comun\n",
        "restaurantes_fl = pd.merge(restaurantes_fl, google_review_estados, on='gmap_id', how='inner')"
      ]
    },
    {
      "cell_type": "code",
      "execution_count": 74,
      "metadata": {
        "id": "s5jg2KvQuF7w"
      },
      "outputs": [],
      "source": [
        "# Eliminar los valores duplicados\n",
        "restaurantes_fl = restaurantes_fl.drop_duplicates()"
      ]
    },
    {
      "cell_type": "markdown",
      "metadata": {
        "id": "5JC4BNV--Xw0"
      },
      "source": [
        "Realizamos la union de ambos DataFrame (restaurantes_ny y google_review_estados) por que de esta manera podemos usar las columnas de ambos y aprovechar al maximo la data para generar un informe mas preciso y de mayor contenido."
      ]
    },
    {
      "cell_type": "markdown",
      "metadata": {
        "id": "x-Sqkq72t0zD"
      },
      "source": [
        "\n",
        "\n",
        "---\n",
        "\n",
        "\n",
        "## **Convertir variable de tiempo:**"
      ]
    },
    {
      "cell_type": "code",
      "execution_count": 75,
      "metadata": {
        "colab": {
          "base_uri": "https://localhost:8080/"
        },
        "id": "e5ps6ytKtnf1",
        "outputId": "cbc4409f-e301-415a-cc00-40e32e238470"
      },
      "outputs": [
        {
          "name": "stdout",
          "output_type": "stream",
          "text": [
            "             time_usuario time\n",
            "0 2018-09-17 14:51:08.022  NaT\n",
            "1 2018-09-20 00:12:47.631  NaT\n",
            "2 2018-08-22 11:13:16.392  NaT\n",
            "3 2019-04-17 01:25:32.274  NaT\n",
            "4 2019-05-20 22:42:50.993  NaT\n"
          ]
        }
      ],
      "source": [
        "# Convertir la columna 'time_usuario' de marcas de tiempo a formato legible\n",
        "restaurantes_fl['time_usuario'] = pd.to_datetime(restaurantes_fl['time_usuario'], unit='ms')\n",
        "\n",
        "# Convertir la columna 'time' de marcas de tiempo a formato legible\n",
        "restaurantes_fl['time'] = pd.to_datetime(restaurantes_fl['time'], unit='ms')\n",
        "\n",
        "# Imprimir las primeras filas para verificar los cambios\n",
        "print(restaurantes_fl[['time_usuario', 'time']].head())\n"
      ]
    },
    {
      "cell_type": "markdown",
      "metadata": {
        "id": "lh3uNrhcAz3N"
      },
      "source": [
        "**Observaciones:**\n",
        "- El valor de 'time_usuario'y 'time' es una marca de tiempo en milisegundos. Las marcas de tiempo, en su forma más común, representan la cantidad de tiempo transcurrido desde un punto de referencia específico, generalmente la \"época\" o \"epoch\".\n",
        "\n",
        "- La \"época\" es un momento específico en el tiempo que se utiliza como punto de referencia para las marcas de tiempo. En muchos sistemas informáticos y bases de datos, la \"época\" se define como el comienzo del 1 de enero de 1970 (UTC), conocido como \"época Unix\". Las marcas de tiempo se cuentan en segundos o milisegundos desde este punto.\n"
      ]
    },
    {
      "cell_type": "markdown",
      "metadata": {
        "id": "uSwRXI2VBlJO"
      },
      "source": [
        "\n",
        "\n",
        "---\n",
        "## **Analisis General de los DataFrame combinados:**\n"
      ]
    },
    {
      "cell_type": "code",
      "execution_count": 76,
      "metadata": {
        "id": "CPKCrIG0E_Fa"
      },
      "outputs": [],
      "source": [
        "# Reiniciar el indice\n",
        "restaurantes_fl = restaurantes_fl.reset_index(drop=True)"
      ]
    },
    {
      "cell_type": "code",
      "execution_count": 77,
      "metadata": {
        "colab": {
          "base_uri": "https://localhost:8080/"
        },
        "id": "5tTbO-0UuIDM",
        "outputId": "0ceff04b-4bb3-4326-db06-8af367d3a422"
      },
      "outputs": [
        {
          "name": "stdout",
          "output_type": "stream",
          "text": [
            "<class 'pandas.core.frame.DataFrame'>\n",
            "RangeIndex: 952622 entries, 0 to 952621\n",
            "Data columns (total 31 columns):\n",
            " #   Column             Non-Null Count   Dtype         \n",
            "---  ------             --------------   -----         \n",
            " 0   name_x             952622 non-null  object        \n",
            " 1   address            952622 non-null  object        \n",
            " 2   gmap_id            952622 non-null  object        \n",
            " 3   latitude           952622 non-null  float64       \n",
            " 4   longitude          952622 non-null  float64       \n",
            " 5   category           952622 non-null  object        \n",
            " 6   avg_rating         952622 non-null  float64       \n",
            " 7   num_of_reviews     952622 non-null  int64         \n",
            " 8   price              873204 non-null  object        \n",
            " 9   hours              938737 non-null  object        \n",
            " 10  Service options    940097 non-null  object        \n",
            " 11  Accessibility      913704 non-null  object        \n",
            " 12  Offerings          898597 non-null  object        \n",
            " 13  Dining options     862849 non-null  object        \n",
            " 14  Amenities          902613 non-null  object        \n",
            " 15  Atmosphere         863065 non-null  object        \n",
            " 16  Crowd              857946 non-null  object        \n",
            " 17  Highlights         783920 non-null  object        \n",
            " 18  Planning           329116 non-null  object        \n",
            " 19  Payments           739458 non-null  object        \n",
            " 20  Popular for        847955 non-null  object        \n",
            " 21  Health & safety    130675 non-null  object        \n",
            " 22  From the business  41967 non-null   object        \n",
            " 23  Health and safety  515138 non-null  object        \n",
            " 24  user_id            952622 non-null  object        \n",
            " 25  name_y             952622 non-null  object        \n",
            " 26  time_usuario       952622 non-null  datetime64[ns]\n",
            " 27  rating             952622 non-null  int64         \n",
            " 28  text_usuario       565784 non-null  object        \n",
            " 29  time               124948 non-null  datetime64[ns]\n",
            " 30  text               124948 non-null  object        \n",
            "dtypes: datetime64[ns](2), float64(3), int64(2), object(24)\n",
            "memory usage: 225.3+ MB\n"
          ]
        }
      ],
      "source": [
        "# Observar el tipo de variable y cantidad de entradas\n",
        "restaurantes_fl.info()"
      ]
    },
    {
      "cell_type": "code",
      "execution_count": 78,
      "metadata": {
        "colab": {
          "base_uri": "https://localhost:8080/",
          "height": 781
        },
        "id": "SvzAX_XVvLO0",
        "outputId": "da49b83c-c2d5-43ad-dc11-7112ad721aa8"
      },
      "outputs": [
        {
          "data": {
            "text/html": [
              "<div>\n",
              "<style scoped>\n",
              "    .dataframe tbody tr th:only-of-type {\n",
              "        vertical-align: middle;\n",
              "    }\n",
              "\n",
              "    .dataframe tbody tr th {\n",
              "        vertical-align: top;\n",
              "    }\n",
              "\n",
              "    .dataframe thead th {\n",
              "        text-align: right;\n",
              "    }\n",
              "</style>\n",
              "<table border=\"1\" class=\"dataframe\">\n",
              "  <thead>\n",
              "    <tr style=\"text-align: right;\">\n",
              "      <th></th>\n",
              "      <th>name_x</th>\n",
              "      <th>address</th>\n",
              "      <th>gmap_id</th>\n",
              "      <th>latitude</th>\n",
              "      <th>longitude</th>\n",
              "      <th>category</th>\n",
              "      <th>avg_rating</th>\n",
              "      <th>num_of_reviews</th>\n",
              "      <th>price</th>\n",
              "      <th>hours</th>\n",
              "      <th>Service options</th>\n",
              "      <th>Accessibility</th>\n",
              "      <th>Offerings</th>\n",
              "      <th>Dining options</th>\n",
              "      <th>Amenities</th>\n",
              "      <th>Atmosphere</th>\n",
              "      <th>Crowd</th>\n",
              "      <th>Highlights</th>\n",
              "      <th>Planning</th>\n",
              "      <th>Payments</th>\n",
              "      <th>Popular for</th>\n",
              "      <th>Health &amp; safety</th>\n",
              "      <th>From the business</th>\n",
              "      <th>Health and safety</th>\n",
              "      <th>user_id</th>\n",
              "      <th>name_y</th>\n",
              "      <th>time_usuario</th>\n",
              "      <th>rating</th>\n",
              "      <th>text_usuario</th>\n",
              "      <th>time</th>\n",
              "      <th>text</th>\n",
              "    </tr>\n",
              "  </thead>\n",
              "  <tbody>\n",
              "    <tr>\n",
              "      <th>0</th>\n",
              "      <td>Gormley's on the river | Modern cuisine in his...</td>\n",
              "      <td>Gormley's on the river | Modern cuisine in his...</td>\n",
              "      <td>0x8894b5a7a7909725:0xe4687299fd288188</td>\n",
              "      <td>29.726949</td>\n",
              "      <td>-84.981535</td>\n",
              "      <td>modern french restaurant, restaurant</td>\n",
              "      <td>4.3</td>\n",
              "      <td>17</td>\n",
              "      <td>None</td>\n",
              "      <td>Thursday 5–9PM, Friday 5–10PM, Saturday 5–10PM...</td>\n",
              "      <td>Delivery</td>\n",
              "      <td>NaN</td>\n",
              "      <td>NaN</td>\n",
              "      <td>NaN</td>\n",
              "      <td>NaN</td>\n",
              "      <td>NaN</td>\n",
              "      <td>NaN</td>\n",
              "      <td>NaN</td>\n",
              "      <td>NaN</td>\n",
              "      <td>NaN</td>\n",
              "      <td>NaN</td>\n",
              "      <td>NaN</td>\n",
              "      <td>NaN</td>\n",
              "      <td>NaN</td>\n",
              "      <td>113068308323231430437</td>\n",
              "      <td>Edwin Ashurst</td>\n",
              "      <td>2018-09-17 14:51:08.022</td>\n",
              "      <td>5</td>\n",
              "      <td>The salads were lackluster though with well wr...</td>\n",
              "      <td>NaT</td>\n",
              "      <td>NaN</td>\n",
              "    </tr>\n",
              "    <tr>\n",
              "      <th>1</th>\n",
              "      <td>Gormley's on the river | Modern cuisine in his...</td>\n",
              "      <td>Gormley's on the river | Modern cuisine in his...</td>\n",
              "      <td>0x8894b5a7a7909725:0xe4687299fd288188</td>\n",
              "      <td>29.726949</td>\n",
              "      <td>-84.981535</td>\n",
              "      <td>modern french restaurant, restaurant</td>\n",
              "      <td>4.3</td>\n",
              "      <td>17</td>\n",
              "      <td>None</td>\n",
              "      <td>Thursday 5–9PM, Friday 5–10PM, Saturday 5–10PM...</td>\n",
              "      <td>Delivery</td>\n",
              "      <td>NaN</td>\n",
              "      <td>NaN</td>\n",
              "      <td>NaN</td>\n",
              "      <td>NaN</td>\n",
              "      <td>NaN</td>\n",
              "      <td>NaN</td>\n",
              "      <td>NaN</td>\n",
              "      <td>NaN</td>\n",
              "      <td>NaN</td>\n",
              "      <td>NaN</td>\n",
              "      <td>NaN</td>\n",
              "      <td>NaN</td>\n",
              "      <td>NaN</td>\n",
              "      <td>105941553219163737304</td>\n",
              "      <td>Douglas Gummere</td>\n",
              "      <td>2018-09-20 00:12:47.631</td>\n",
              "      <td>1</td>\n",
              "      <td>Love this place. Great little restaurant, with...</td>\n",
              "      <td>NaT</td>\n",
              "      <td>NaN</td>\n",
              "    </tr>\n",
              "    <tr>\n",
              "      <th>2</th>\n",
              "      <td>Gormley's on the river | Modern cuisine in his...</td>\n",
              "      <td>Gormley's on the river | Modern cuisine in his...</td>\n",
              "      <td>0x8894b5a7a7909725:0xe4687299fd288188</td>\n",
              "      <td>29.726949</td>\n",
              "      <td>-84.981535</td>\n",
              "      <td>modern french restaurant, restaurant</td>\n",
              "      <td>4.3</td>\n",
              "      <td>17</td>\n",
              "      <td>None</td>\n",
              "      <td>Thursday 5–9PM, Friday 5–10PM, Saturday 5–10PM...</td>\n",
              "      <td>Delivery</td>\n",
              "      <td>NaN</td>\n",
              "      <td>NaN</td>\n",
              "      <td>NaN</td>\n",
              "      <td>NaN</td>\n",
              "      <td>NaN</td>\n",
              "      <td>NaN</td>\n",
              "      <td>NaN</td>\n",
              "      <td>NaN</td>\n",
              "      <td>NaN</td>\n",
              "      <td>NaN</td>\n",
              "      <td>NaN</td>\n",
              "      <td>NaN</td>\n",
              "      <td>NaN</td>\n",
              "      <td>109857700811373231502</td>\n",
              "      <td>David Powell</td>\n",
              "      <td>2018-08-22 11:13:16.392</td>\n",
              "      <td>5</td>\n",
              "      <td>A classy restaurant to match the charm of the ...</td>\n",
              "      <td>NaT</td>\n",
              "      <td>NaN</td>\n",
              "    </tr>\n",
              "    <tr>\n",
              "      <th>3</th>\n",
              "      <td>Gormley's on the river | Modern cuisine in his...</td>\n",
              "      <td>Gormley's on the river | Modern cuisine in his...</td>\n",
              "      <td>0x8894b5a7a7909725:0xe4687299fd288188</td>\n",
              "      <td>29.726949</td>\n",
              "      <td>-84.981535</td>\n",
              "      <td>modern french restaurant, restaurant</td>\n",
              "      <td>4.3</td>\n",
              "      <td>17</td>\n",
              "      <td>None</td>\n",
              "      <td>Thursday 5–9PM, Friday 5–10PM, Saturday 5–10PM...</td>\n",
              "      <td>Delivery</td>\n",
              "      <td>NaN</td>\n",
              "      <td>NaN</td>\n",
              "      <td>NaN</td>\n",
              "      <td>NaN</td>\n",
              "      <td>NaN</td>\n",
              "      <td>NaN</td>\n",
              "      <td>NaN</td>\n",
              "      <td>NaN</td>\n",
              "      <td>NaN</td>\n",
              "      <td>NaN</td>\n",
              "      <td>NaN</td>\n",
              "      <td>NaN</td>\n",
              "      <td>NaN</td>\n",
              "      <td>114737748503783343160</td>\n",
              "      <td>Hillary Hutchins</td>\n",
              "      <td>2019-04-17 01:25:32.274</td>\n",
              "      <td>5</td>\n",
              "      <td>Great atmosphere and good food</td>\n",
              "      <td>NaT</td>\n",
              "      <td>NaN</td>\n",
              "    </tr>\n",
              "    <tr>\n",
              "      <th>4</th>\n",
              "      <td>Gormley's on the river | Modern cuisine in his...</td>\n",
              "      <td>Gormley's on the river | Modern cuisine in his...</td>\n",
              "      <td>0x8894b5a7a7909725:0xe4687299fd288188</td>\n",
              "      <td>29.726949</td>\n",
              "      <td>-84.981535</td>\n",
              "      <td>modern french restaurant, restaurant</td>\n",
              "      <td>4.3</td>\n",
              "      <td>17</td>\n",
              "      <td>None</td>\n",
              "      <td>Thursday 5–9PM, Friday 5–10PM, Saturday 5–10PM...</td>\n",
              "      <td>Delivery</td>\n",
              "      <td>NaN</td>\n",
              "      <td>NaN</td>\n",
              "      <td>NaN</td>\n",
              "      <td>NaN</td>\n",
              "      <td>NaN</td>\n",
              "      <td>NaN</td>\n",
              "      <td>NaN</td>\n",
              "      <td>NaN</td>\n",
              "      <td>NaN</td>\n",
              "      <td>NaN</td>\n",
              "      <td>NaN</td>\n",
              "      <td>NaN</td>\n",
              "      <td>NaN</td>\n",
              "      <td>108987048547659250890</td>\n",
              "      <td>Ajay patel</td>\n",
              "      <td>2019-05-20 22:42:50.993</td>\n",
              "      <td>5</td>\n",
              "      <td>Good food</td>\n",
              "      <td>NaT</td>\n",
              "      <td>NaN</td>\n",
              "    </tr>\n",
              "  </tbody>\n",
              "</table>\n",
              "</div>"
            ],
            "text/plain": [
              "                                              name_x  \\\n",
              "0  Gormley's on the river | Modern cuisine in his...   \n",
              "1  Gormley's on the river | Modern cuisine in his...   \n",
              "2  Gormley's on the river | Modern cuisine in his...   \n",
              "3  Gormley's on the river | Modern cuisine in his...   \n",
              "4  Gormley's on the river | Modern cuisine in his...   \n",
              "\n",
              "                                             address  \\\n",
              "0  Gormley's on the river | Modern cuisine in his...   \n",
              "1  Gormley's on the river | Modern cuisine in his...   \n",
              "2  Gormley's on the river | Modern cuisine in his...   \n",
              "3  Gormley's on the river | Modern cuisine in his...   \n",
              "4  Gormley's on the river | Modern cuisine in his...   \n",
              "\n",
              "                                 gmap_id   latitude  longitude  \\\n",
              "0  0x8894b5a7a7909725:0xe4687299fd288188  29.726949 -84.981535   \n",
              "1  0x8894b5a7a7909725:0xe4687299fd288188  29.726949 -84.981535   \n",
              "2  0x8894b5a7a7909725:0xe4687299fd288188  29.726949 -84.981535   \n",
              "3  0x8894b5a7a7909725:0xe4687299fd288188  29.726949 -84.981535   \n",
              "4  0x8894b5a7a7909725:0xe4687299fd288188  29.726949 -84.981535   \n",
              "\n",
              "                               category  avg_rating  num_of_reviews price  \\\n",
              "0  modern french restaurant, restaurant         4.3              17  None   \n",
              "1  modern french restaurant, restaurant         4.3              17  None   \n",
              "2  modern french restaurant, restaurant         4.3              17  None   \n",
              "3  modern french restaurant, restaurant         4.3              17  None   \n",
              "4  modern french restaurant, restaurant         4.3              17  None   \n",
              "\n",
              "                                               hours Service options  \\\n",
              "0  Thursday 5–9PM, Friday 5–10PM, Saturday 5–10PM...        Delivery   \n",
              "1  Thursday 5–9PM, Friday 5–10PM, Saturday 5–10PM...        Delivery   \n",
              "2  Thursday 5–9PM, Friday 5–10PM, Saturday 5–10PM...        Delivery   \n",
              "3  Thursday 5–9PM, Friday 5–10PM, Saturday 5–10PM...        Delivery   \n",
              "4  Thursday 5–9PM, Friday 5–10PM, Saturday 5–10PM...        Delivery   \n",
              "\n",
              "  Accessibility Offerings Dining options Amenities Atmosphere Crowd  \\\n",
              "0           NaN       NaN            NaN       NaN        NaN   NaN   \n",
              "1           NaN       NaN            NaN       NaN        NaN   NaN   \n",
              "2           NaN       NaN            NaN       NaN        NaN   NaN   \n",
              "3           NaN       NaN            NaN       NaN        NaN   NaN   \n",
              "4           NaN       NaN            NaN       NaN        NaN   NaN   \n",
              "\n",
              "  Highlights Planning Payments Popular for Health & safety From the business  \\\n",
              "0        NaN      NaN      NaN         NaN             NaN               NaN   \n",
              "1        NaN      NaN      NaN         NaN             NaN               NaN   \n",
              "2        NaN      NaN      NaN         NaN             NaN               NaN   \n",
              "3        NaN      NaN      NaN         NaN             NaN               NaN   \n",
              "4        NaN      NaN      NaN         NaN             NaN               NaN   \n",
              "\n",
              "  Health and safety                user_id            name_y  \\\n",
              "0               NaN  113068308323231430437     Edwin Ashurst   \n",
              "1               NaN  105941553219163737304   Douglas Gummere   \n",
              "2               NaN  109857700811373231502      David Powell   \n",
              "3               NaN  114737748503783343160  Hillary Hutchins   \n",
              "4               NaN  108987048547659250890        Ajay patel   \n",
              "\n",
              "             time_usuario  rating  \\\n",
              "0 2018-09-17 14:51:08.022       5   \n",
              "1 2018-09-20 00:12:47.631       1   \n",
              "2 2018-08-22 11:13:16.392       5   \n",
              "3 2019-04-17 01:25:32.274       5   \n",
              "4 2019-05-20 22:42:50.993       5   \n",
              "\n",
              "                                        text_usuario time text  \n",
              "0  The salads were lackluster though with well wr...  NaT  NaN  \n",
              "1  Love this place. Great little restaurant, with...  NaT  NaN  \n",
              "2  A classy restaurant to match the charm of the ...  NaT  NaN  \n",
              "3                     Great atmosphere and good food  NaT  NaN  \n",
              "4                                          Good food  NaT  NaN  "
            ]
          },
          "execution_count": 78,
          "metadata": {},
          "output_type": "execute_result"
        }
      ],
      "source": [
        "# Visualizar los 5 primeros resgistros\n",
        "restaurantes_fl.head()"
      ]
    },
    {
      "cell_type": "markdown",
      "metadata": {
        "id": "fqQxusS_CAha"
      },
      "source": [
        "\n",
        "\n",
        "---\n",
        "\n",
        "## **Periodo de los Comentarios:**"
      ]
    },
    {
      "cell_type": "markdown",
      "metadata": {
        "id": "VegJf6Aa-_I-"
      },
      "source": [
        "Al generar un periodo de tiempo nos permite ubicarnos y ponernos en contexto de los datos que poseemos."
      ]
    },
    {
      "cell_type": "code",
      "execution_count": 79,
      "metadata": {
        "colab": {
          "base_uri": "https://localhost:8080/",
          "height": 206
        },
        "id": "IxLd2LHpvPfj",
        "outputId": "4bd4de9b-2678-4395-b132-fe2beeccbb85"
      },
      "outputs": [
        {
          "data": {
            "text/html": [
              "<div>\n",
              "<style scoped>\n",
              "    .dataframe tbody tr th:only-of-type {\n",
              "        vertical-align: middle;\n",
              "    }\n",
              "\n",
              "    .dataframe tbody tr th {\n",
              "        vertical-align: top;\n",
              "    }\n",
              "\n",
              "    .dataframe thead th {\n",
              "        text-align: right;\n",
              "    }\n",
              "</style>\n",
              "<table border=\"1\" class=\"dataframe\">\n",
              "  <thead>\n",
              "    <tr style=\"text-align: right;\">\n",
              "      <th></th>\n",
              "      <th>time_usuario</th>\n",
              "      <th>year</th>\n",
              "    </tr>\n",
              "  </thead>\n",
              "  <tbody>\n",
              "    <tr>\n",
              "      <th>0</th>\n",
              "      <td>2018-09-17 14:51:08.022</td>\n",
              "      <td>2018</td>\n",
              "    </tr>\n",
              "    <tr>\n",
              "      <th>1</th>\n",
              "      <td>2018-09-20 00:12:47.631</td>\n",
              "      <td>2018</td>\n",
              "    </tr>\n",
              "    <tr>\n",
              "      <th>2</th>\n",
              "      <td>2018-08-22 11:13:16.392</td>\n",
              "      <td>2018</td>\n",
              "    </tr>\n",
              "    <tr>\n",
              "      <th>3</th>\n",
              "      <td>2019-04-17 01:25:32.274</td>\n",
              "      <td>2019</td>\n",
              "    </tr>\n",
              "    <tr>\n",
              "      <th>4</th>\n",
              "      <td>2019-05-20 22:42:50.993</td>\n",
              "      <td>2019</td>\n",
              "    </tr>\n",
              "  </tbody>\n",
              "</table>\n",
              "</div>"
            ],
            "text/plain": [
              "             time_usuario  year\n",
              "0 2018-09-17 14:51:08.022  2018\n",
              "1 2018-09-20 00:12:47.631  2018\n",
              "2 2018-08-22 11:13:16.392  2018\n",
              "3 2019-04-17 01:25:32.274  2019\n",
              "4 2019-05-20 22:42:50.993  2019"
            ]
          },
          "execution_count": 79,
          "metadata": {},
          "output_type": "execute_result"
        }
      ],
      "source": [
        "# Extraer el año de la columna 'time' en el DataFrame 'restaurantes_ny'\n",
        "restaurantes_fl['year'] = restaurantes_fl['time_usuario'].dt.year\n",
        "# Imprimir el DataFrame con la nueva columna 'year'\n",
        "restaurantes_fl[['time_usuario', 'year']].head()"
      ]
    },
    {
      "cell_type": "code",
      "execution_count": 80,
      "metadata": {
        "id": "spheVosfC9X0"
      },
      "outputs": [],
      "source": [
        "# Convertir la columna 'Year' en INT\n",
        "restaurantes_fl['year'] = restaurantes_fl['year'].astype('Int64')"
      ]
    },
    {
      "cell_type": "code",
      "execution_count": 81,
      "metadata": {
        "colab": {
          "base_uri": "https://localhost:8080/"
        },
        "id": "GdP3ZtwoCRH3",
        "outputId": "45e61b01-12da-4d03-ea03-f05f13e596a3"
      },
      "outputs": [
        {
          "name": "stdout",
          "output_type": "stream",
          "text": [
            "\"Año_maximo\" 2021\n",
            "\"Año_Minimo\": 2003\n",
            "El periodo que en que se realizaron los comentarios corresponde entre : 2003 y 2021\n"
          ]
        }
      ],
      "source": [
        "# Calcular el valor mínimo en la Serie\n",
        "año_maximo = restaurantes_fl['year'].max()\n",
        "# Calcular el valor mínimo en la Serie\n",
        "año_minimo = restaurantes_fl['year'].min()\n",
        "\n",
        "print(f'\"Año_maximo\" {año_maximo}')\n",
        "print(f'\"Año_Minimo\": {año_minimo}')\n",
        "print(f'El periodo que en que se realizaron los comentarios corresponde entre : {año_minimo} y {año_maximo}')"
      ]
    },
    {
      "cell_type": "markdown",
      "metadata": {
        "id": "C-9o_oRU_mD0"
      },
      "source": [
        "Podemos ver que a traves de los datos , tenemos un periodo prolongado, de 31 años. lo cual nos puede brindar informacion valiosa en cueanto al comportamiento de los interactuantes."
      ]
    },
    {
      "cell_type": "code",
      "execution_count": 82,
      "metadata": {
        "colab": {
          "base_uri": "https://localhost:8080/"
        },
        "id": "tiC7bnqYDYBL",
        "outputId": "86da451b-7578-43d8-b99d-e2cc992b907c"
      },
      "outputs": [
        {
          "name": "stdout",
          "output_type": "stream",
          "text": [
            "<class 'pandas.core.frame.DataFrame'>\n",
            "RangeIndex: 952622 entries, 0 to 952621\n",
            "Data columns (total 32 columns):\n",
            " #   Column             Non-Null Count   Dtype         \n",
            "---  ------             --------------   -----         \n",
            " 0   name_x             952622 non-null  object        \n",
            " 1   address            952622 non-null  object        \n",
            " 2   gmap_id            952622 non-null  object        \n",
            " 3   latitude           952622 non-null  float64       \n",
            " 4   longitude          952622 non-null  float64       \n",
            " 5   category           952622 non-null  object        \n",
            " 6   avg_rating         952622 non-null  float64       \n",
            " 7   num_of_reviews     952622 non-null  int64         \n",
            " 8   price              873204 non-null  object        \n",
            " 9   hours              938737 non-null  object        \n",
            " 10  Service options    940097 non-null  object        \n",
            " 11  Accessibility      913704 non-null  object        \n",
            " 12  Offerings          898597 non-null  object        \n",
            " 13  Dining options     862849 non-null  object        \n",
            " 14  Amenities          902613 non-null  object        \n",
            " 15  Atmosphere         863065 non-null  object        \n",
            " 16  Crowd              857946 non-null  object        \n",
            " 17  Highlights         783920 non-null  object        \n",
            " 18  Planning           329116 non-null  object        \n",
            " 19  Payments           739458 non-null  object        \n",
            " 20  Popular for        847955 non-null  object        \n",
            " 21  Health & safety    130675 non-null  object        \n",
            " 22  From the business  41967 non-null   object        \n",
            " 23  Health and safety  515138 non-null  object        \n",
            " 24  user_id            952622 non-null  object        \n",
            " 25  name_y             952622 non-null  object        \n",
            " 26  time_usuario       952622 non-null  datetime64[ns]\n",
            " 27  rating             952622 non-null  int64         \n",
            " 28  text_usuario       565784 non-null  object        \n",
            " 29  time               124948 non-null  datetime64[ns]\n",
            " 30  text               124948 non-null  object        \n",
            " 31  year               952622 non-null  Int64         \n",
            "dtypes: Int64(1), datetime64[ns](2), float64(3), int64(2), object(24)\n",
            "memory usage: 233.5+ MB\n"
          ]
        }
      ],
      "source": [
        "restaurantes_fl.info()"
      ]
    },
    {
      "cell_type": "markdown",
      "metadata": {
        "id": "pnstauakH0ha"
      },
      "source": [
        "\n",
        "\n",
        "---\n",
        "### **Reseñas y Comentarios realizados por Usuarios en Nueva York:**\n"
      ]
    },
    {
      "cell_type": "markdown",
      "metadata": {
        "id": "QxT_QUh8AHjP"
      },
      "source": [
        "Decidimos generar tres variables: una destinada al total de restaurantes, otra con el total de datos correspondientes a 'restaurantes Fast Food', que son la compentecia del que eligimos como objeto de analisis y nos brinda informacion importante. Por ultimo la variable 'restaurante Subway', el elegido para el analisis."
      ]
    },
    {
      "cell_type": "markdown",
      "metadata": {
        "id": "FWfgP6Lj9GA-"
      },
      "source": [
        "### **Total de Reseñas del Total de Restaurantes:**"
      ]
    },
    {
      "cell_type": "code",
      "execution_count": 83,
      "metadata": {
        "id": "t0Hr6UjhIaQm"
      },
      "outputs": [],
      "source": [
        "# Crea una variable con el total de personas que dejaron una calificacion del local\n",
        "total_reseñas = restaurantes_fl['text_usuario'].count()\n",
        "\n",
        "# Se crea variable con clientes que no inresaron comentarios\n",
        "total_reseñas_sin_comentarios = restaurantes_fl['text_usuario'].isna().sum()\n",
        "\n",
        "# Se crea variable con clientes que inresaron comentarios\n",
        "total_reseñas_con_comentarios = total_reseñas - total_reseñas_sin_comentarios\n"
      ]
    },
    {
      "cell_type": "markdown",
      "metadata": {
        "id": "q3f8-yZf9No1"
      },
      "source": [
        "### **Total de Reseñas del Total de Restaurantes Fast Food:**"
      ]
    },
    {
      "cell_type": "code",
      "execution_count": 84,
      "metadata": {
        "id": "D_2-NgEpFmTK"
      },
      "outputs": [],
      "source": [
        "# Filtrar el DataFrame para obtener las filas donde la columna 'category' contiene la palabra 'fast food'\n",
        "fastfood_restaurants_reseñas = restaurantes_fl[restaurantes_fl['category'].str.contains('fast food', case=False)]\n",
        "total_fastfood_restaurants_reseñas = fastfood_restaurants_reseñas[fastfood_restaurants_reseñas['category'].str.contains('fast food', case=False)].shape[0]\n",
        "\n",
        "# Se crea variable con clientes que no inresaron comentarios\n",
        "total_fastfood_restaurants_sin_comentarios = fastfood_restaurants_reseñas['text_usuario'].isna().sum()\n",
        "\n",
        "# Se crea variable con clientes que inresaron comentarios\n",
        "total_fastfood_restaurants_con_comentarios = total_reseñas - total_reseñas_sin_comentarios\n"
      ]
    },
    {
      "cell_type": "markdown",
      "metadata": {
        "id": "-LdJkwIP9Rrm"
      },
      "source": [
        "### **Total de Reseñas de Subway:**"
      ]
    },
    {
      "cell_type": "code",
      "execution_count": 85,
      "metadata": {
        "id": "FnVe-fo5FMJo"
      },
      "outputs": [],
      "source": [
        "# Filtrar el DataFrame para obtener las filas donde la columna 'name_x' contiene la palabra 'subway'\n",
        "subway_reseñas = restaurantes_fl[restaurantes_fl['name_x'].str.contains('subway', case=False)]\n",
        "total_subway_reseñas = subway_reseñas[subway_reseñas['name_x'].str.contains('subway', case=False)].shape[0]\n",
        "\n",
        "# Se crea variable con clientes que no inresaron comentarios\n",
        "total_total_subway_reseñas_sin_comentarios = subway_reseñas['text_usuario'].isna().sum()\n",
        "\n",
        "# Se crea variable con clientes que inresaron comentarios\n",
        "total_total_subway_reseñas_con_comentarios = total_reseñas - total_reseñas_sin_comentarios\n"
      ]
    },
    {
      "cell_type": "markdown",
      "metadata": {
        "id": "2604aS2BL1fG"
      },
      "source": [
        "\n",
        "\n",
        "---\n",
        "\n",
        "\n",
        "\n",
        "---\n",
        "\n"
      ]
    },
    {
      "cell_type": "markdown",
      "metadata": {
        "id": "I9G53Z9WBtak"
      },
      "source": [
        "### **Porcentaje de Comentarios de Fast Food y Subway con respecto al total de Reseñas**"
      ]
    },
    {
      "cell_type": "code",
      "execution_count": 86,
      "metadata": {
        "colab": {
          "base_uri": "https://localhost:8080/",
          "height": 507
        },
        "id": "271LJL2OEKiw",
        "outputId": "205234b0-6b58-412a-ac3d-20ed8d098303"
      },
      "outputs": [
        {
          "data": {
            "image/png": "[encoded data removed]",
            "text/plain": [
              "<Figure size 1500x500 with 3 Axes>"
            ]
          },
          "metadata": {},
          "output_type": "display_data"
        }
      ],
      "source": [
        "# Calcular porcentajes\n",
        "porcentaje_reseñas_fastfood = total_fastfood_restaurants_reseñas / total_reseñas * 100\n",
        "porcentaje_reseñas_subway = total_subway_reseñas / total_reseñas * 100\n",
        "\n",
        "# Crear datos para los subgráficos\n",
        "categorias = ['Total', 'Fast Food', 'Subway']\n",
        "porcentajes = [100, porcentaje_reseñas_fastfood, porcentaje_reseñas_subway]\n",
        "\n",
        "# Crear subgráficos\n",
        "fig, axs = plt.subplots(1, 3, figsize=(15, 5))\n",
        "\n",
        "# Gráfico para Total\n",
        "axs[0].bar('Total', 100, color='lightblue')\n",
        "axs[0].set_ylabel('Porcentaje de Reseñas')\n",
        "axs[0].set_title('Total')\n",
        "axs[0].set_ylim(0, 100)\n",
        "axs[0].grid(axis='y', linestyle='--', alpha=0.7)\n",
        "\n",
        "\n",
        "# Gráfico para Fast Food\n",
        "axs[1].bar('Fast Food', porcentaje_reseñas_fastfood, color='lightgreen')\n",
        "axs[1].set_title('Fast Food')\n",
        "axs[1].set_ylim(0, 100)\n",
        "axs[1].grid(axis='y', linestyle='--', alpha=0.7)\n",
        "axs[1].text(1, porcentaje_reseñas_fastfood + 1, f'{porcentaje_reseñas_fastfood:.2f}%', ha='center', va='bottom')\n",
        "axs[0].text(0, 100, '100%', ha='center', va='bottom')\n",
        "\n",
        "# Gráfico para Subway\n",
        "axs[2].bar('Subway', porcentaje_reseñas_subway, color='lightcoral')\n",
        "axs[2].set_title('Subway')\n",
        "axs[2].set_ylim(0, 100)\n",
        "axs[2].grid(axis='y', linestyle='--', alpha=0.7)\n",
        "axs[2].text(2, porcentaje_reseñas_subway + 1, f'{porcentaje_reseñas_subway:.2f}%', ha='center', va='bottom')\n",
        "\n",
        "plt.tight_layout()\n",
        "plt.show()\n",
        "\n"
      ]
    },
    {
      "cell_type": "markdown",
      "metadata": {
        "id": "jO0Z5aOxCDbq"
      },
      "source": [
        "**Observaciones:**\n",
        "- Teniendo en cuenta la gran cantidad de categorias, los Fast Food generan una buena proporcion de comentarios.\n",
        "\n",
        "- Esto nos da una idea del comportamiento de los clientes en estos establecimientos, debido a la cantidad que hay se podria mejorar el la cantidad de interaccion del cliente."
      ]
    },
    {
      "cell_type": "code",
      "execution_count": 87,
      "metadata": {
        "colab": {
          "base_uri": "https://localhost:8080/",
          "height": 639
        },
        "id": "tCXQl-XqJxTQ",
        "outputId": "f9de9168-8505-4703-bead-0ab0df9e0c36"
      },
      "outputs": [
        {
          "data": {
            "image/png": "[encoded data removed]",
            "text/plain": [
              "<Figure size 1500x500 with 3 Axes>"
            ]
          },
          "metadata": {},
          "output_type": "display_data"
        },
        {
          "name": "stdout",
          "output_type": "stream",
          "text": [
            "\n",
            "Restaurantes\n",
            "Cantidad de Reseñas: 565784\n",
            "Cantidad de Reseñas sin comentarios: 386838\n",
            "Cantidad de Reseñas con comentarios: 178946\n",
            "\n",
            "Fast Food\n",
            "Cantidad de Reseñas: 234209\n",
            "Cantidad de Reseñas sin comentarios: 112797\n",
            "Cantidad de Reseñas con comentarios: 178946\n",
            "\n",
            "Subway\n",
            "Cantidad de Reseñas: 8381\n",
            "Cantidad de Reseñas sin comentarios: 4109\n",
            "Cantidad de Reseñas con comentarios: 178946\n"
          ]
        }
      ],
      "source": [
        "# Crear subgráficos\n",
        "fig, axs = plt.subplots(1, 3, figsize=(15, 5))\n",
        "\n",
        "# Gráfico para Restaurantes\n",
        "labels = ['Con Comentarios', 'Sin Comentarios']\n",
        "sizes = [total_reseñas_con_comentarios, total_reseñas_sin_comentarios]\n",
        "colors = ['lightblue', 'lightcoral']\n",
        "explode = (0.1, 0)  # Separación de las secciones\n",
        "\n",
        "axs[0].pie(sizes, explode=explode, labels=labels, colors=colors, autopct='%1.1f%%', shadow=True, startangle=140)\n",
        "axs[0].axis('equal')  # Asegurar que la torta sea circular\n",
        "axs[0].set_title('Restaurantes')\n",
        "\n",
        "# Gráfico para Restaurantes Fast Food\n",
        "labels = ['Con Comentarios', 'Sin Comentarios']\n",
        "sizes = [total_fastfood_restaurants_con_comentarios, total_fastfood_restaurants_sin_comentarios]\n",
        "colors = ['lightblue', 'lightcoral']\n",
        "explode = (0.1, 0)  # Separación de las secciones\n",
        "\n",
        "axs[1].pie(sizes, explode=explode, labels=labels, colors=colors, autopct='%1.1f%%', shadow=True, startangle=140)\n",
        "axs[1].axis('equal')  # Asegurar que la torta sea circular\n",
        "axs[1].set_title('Fast Food')\n",
        "\n",
        "# Gráfico para Restaurantes Subway\n",
        "labels = ['Con Comentarios', 'Sin Comentarios']\n",
        "sizes = [total_total_subway_reseñas_con_comentarios, total_total_subway_reseñas_sin_comentarios]\n",
        "colors = ['lightblue', 'lightcoral']\n",
        "explode = (0.1, 0)  # Separación de las secciones\n",
        "\n",
        "axs[2].pie(sizes, explode=explode, labels=labels, colors=colors, autopct='%1.1f%%', shadow=True, startangle=140)\n",
        "axs[2].axis('equal')  # Asegurar que la torta sea circular\n",
        "axs[2].set_title('Subway')\n",
        "\n",
        "plt.show()\n",
        "\n",
        "print(f'\\nRestaurantes')\n",
        "print(f'Cantidad de Reseñas: {total_reseñas}')\n",
        "print(f'Cantidad de Reseñas sin comentarios: {total_reseñas_sin_comentarios}')\n",
        "print(f'Cantidad de Reseñas con comentarios: {total_reseñas_con_comentarios}')\n",
        "\n",
        "print(f'\\nFast Food')\n",
        "print(f'Cantidad de Reseñas: {total_fastfood_restaurants_reseñas}')\n",
        "print(f'Cantidad de Reseñas sin comentarios: {total_fastfood_restaurants_sin_comentarios}')\n",
        "print(f'Cantidad de Reseñas con comentarios: {total_fastfood_restaurants_con_comentarios}')\n",
        "\n",
        "print(f'\\nSubway')\n",
        "print(f'Cantidad de Reseñas: {total_subway_reseñas}')\n",
        "print(f'Cantidad de Reseñas sin comentarios: {total_total_subway_reseñas_sin_comentarios}')\n",
        "print(f'Cantidad de Reseñas con comentarios: {total_total_subway_reseñas_con_comentarios}')"
      ]
    },
    {
      "cell_type": "markdown",
      "metadata": {
        "id": "3QaUibMpDWGS"
      },
      "source": [
        "\n",
        "**Observaciones:**\n",
        "- Los restaurantes en general en la ciudad de Florida presentan un buen porcentaje de clientes que comenta, siendo casi un tercio del total. Con esto inferimos que gran cantidad de personas comentan y briandan informacion para mejoras de los establecimientos y datos para los otros usuarios.\n",
        "- La proporcion de los Fast Food, es menor que la anterior, teniendo una gran cantidad de reseñas. Esto nos brinda una posibilidad de mejora.\n",
        "\n",
        "- En cuanto a Subway la proporcion es casi optima, con un valor muy elevado, lo que significa que la mayoria de personas que ingresa al establecimiento genera informacion no solo con reseña, sino que tambien comenta.\n",
        "\n"
      ]
    },
    {
      "cell_type": "markdown",
      "metadata": {
        "id": "xIVa_1SDXBND"
      },
      "source": [
        "\n",
        "\n",
        "---\n",
        "\n",
        "\n",
        "\n",
        "---\n",
        "\n"
      ]
    },
    {
      "cell_type": "markdown",
      "metadata": {
        "id": "OmY3Bq5pF0ke"
      },
      "source": [
        "### **Evolución de la Cantidad de Comentarios por Año**"
      ]
    },
    {
      "cell_type": "code",
      "execution_count": 88,
      "metadata": {
        "colab": {
          "base_uri": "https://localhost:8080/",
          "height": 487
        },
        "id": "NTwk7-vXMhYV",
        "outputId": "91b74f37-a2fa-4eaa-845a-4c3164483b67"
      },
      "outputs": [
        {
          "data": {
            "image/png": "[encoded data removed]",
            "text/plain": [
              "<Figure size 640x480 with 1 Axes>"
            ]
          },
          "metadata": {},
          "output_type": "display_data"
        }
      ],
      "source": [
        "# Contar la cantidad de comentarios por año\n",
        "comentarios_restaurantes_por_año = restaurantes_fl.groupby('year').size()\n",
        "comentarios_fastfood_restaurants_reseñas_por_año = fastfood_restaurants_reseñas.groupby('year').size()\n",
        "comentarios_subway_reseñas_por_año = subway_reseñas.groupby('year').size()\n",
        "\n",
        "# Graficar los datos para cada tipo de restaurante\n",
        "comentarios_restaurantes_por_año.plot(color='skyblue', marker='o', linestyle='-', label='Total')\n",
        "comentarios_fastfood_restaurants_reseñas_por_año.plot(color='orange', marker='o', linestyle='-', label='Fast Food')\n",
        "comentarios_subway_reseñas_por_año.plot(color='green', marker='o', linestyle='-', label='Subway')\n",
        "\n",
        "# Etiquetas y título\n",
        "plt.title('Evolución de la Cantidad de Comentarios por Año')\n",
        "plt.xlabel('Año')\n",
        "plt.ylabel('Cantidad de Comentarios')\n",
        "\n",
        "# Leyenda\n",
        "plt.legend()\n",
        "\n",
        "# Personalización de los ejes\n",
        "plt.xticks(rotation=45, ha='right')\n",
        "plt.grid(True)  # Agregar rejilla al gráfico\n",
        "plt.tight_layout()\n",
        "\n",
        "# Mostrar el gráfico\n",
        "plt.show()\n"
      ]
    },
    {
      "cell_type": "markdown",
      "metadata": {
        "id": "AJIL4J09GLC_"
      },
      "source": [
        "**Observaciones:**\n",
        "- El grafico nos permite inferir que a medida que aumentaron los Años, con los avances de la tecnolgia y la interaccion de los usuarios con app que los coenctan con los establecimientos, se produjo un gran aumento entre el periodo del 2008 y 2020 de manera similar en las tres variables, teniendo en cuenta su proporcion. En el ultimo año se observa una caida brusca, debido al confinamiento por causa de la Pandemia producida por el COVID-19."
      ]
    },
    {
      "cell_type": "markdown",
      "metadata": {
        "id": "lLlT_QNmas6N"
      },
      "source": [
        "\n",
        "\n",
        "---\n",
        "\n",
        "### **Descripcion Estadistica de los Años y cantidad de reseñas:**"
      ]
    },
    {
      "cell_type": "code",
      "execution_count": 89,
      "metadata": {
        "colab": {
          "base_uri": "https://localhost:8080/"
        },
        "id": "wpUFA_vcYP1V",
        "outputId": "137bf8d5-5623-4c07-c5e9-766c6eac3ae3"
      },
      "outputs": [
        {
          "name": "stdout",
          "output_type": "stream",
          "text": [
            "count       952622.0\n",
            "mean     2018.787469\n",
            "std         1.359619\n",
            "min           2003.0\n",
            "25%           2018.0\n",
            "50%           2019.0\n",
            "75%           2020.0\n",
            "max           2021.0\n",
            "Name: year, dtype: Float64\n",
            "\n",
            "Cantidad de comentarios por Ano: year\n",
            "2019    300191\n",
            "2018    237872\n",
            "2020    164930\n",
            "2021    108148\n",
            "2017     99975\n",
            "2016     31285\n",
            "2015      5362\n",
            "2014      1729\n",
            "2013      1312\n",
            "2012       917\n",
            "2011       691\n",
            "2010       143\n",
            "2009        22\n",
            "2008        15\n",
            "2003        11\n",
            "2005        10\n",
            "2007         6\n",
            "2006         3\n",
            "Name: count, dtype: Int64\n"
          ]
        }
      ],
      "source": [
        "# Descricion del total de restaurantes\n",
        "restaurantes_fl['year'].describe()\n",
        "print(restaurantes_fl['year'].describe())\n",
        "print(f'\\nCantidad de comentarios por Ano: {restaurantes_fl[\"year\"].value_counts()}')"
      ]
    },
    {
      "cell_type": "markdown",
      "metadata": {
        "id": "OiP1mfnuIPFI"
      },
      "source": [
        "**Observaciones:**\n",
        "\n",
        "- La media del año de reseñas es aproximadamente 2018.55.\n",
        "\n",
        "- El rango de años va desde 1990 hasta 2021, lo que sugiere una amplia variedad en la antigüedad de los restaurantes en la región.\n",
        "\n",
        "- El 25% de las reseñas de restaurantes se producen en 2018 o antes, mientras que el 75% se establecieron en 2020 o antes, lo que indica una concentración relativamente alta de establecimientos más recientes.\n",
        "\n",
        "- El año con más reseñas parece ser 2019, ya que es el año en el que se encuentra la mediana (50% de las reseñas en 2019 o antes).\n",
        "\n",
        "- La distribución  sugiere una cierta tendencia hacia la mayor generacion de reseñas en los últimos años, especialmente alrededor de 2018 y 2019.\n",
        "\n",
        "\n"
      ]
    },
    {
      "cell_type": "code",
      "execution_count": 90,
      "metadata": {
        "colab": {
          "base_uri": "https://localhost:8080/"
        },
        "id": "bY2JewcIYKVX",
        "outputId": "18313c66-c526-4bcc-c3a4-19d5fcef3494"
      },
      "outputs": [
        {
          "name": "stdout",
          "output_type": "stream",
          "text": [
            "count       234209.0\n",
            "mean     2018.842367\n",
            "std         1.262665\n",
            "min           2008.0\n",
            "25%           2018.0\n",
            "50%           2019.0\n",
            "75%           2020.0\n",
            "max           2021.0\n",
            "Name: year, dtype: Float64\n",
            "\n",
            "Cantidad de comentarios por Ano: year\n",
            "2019    78465\n",
            "2018    58271\n",
            "2020    41867\n",
            "2021    25057\n",
            "2017    23439\n",
            "2016     5800\n",
            "2015      791\n",
            "2014      200\n",
            "2013      140\n",
            "2012       94\n",
            "2011       78\n",
            "2010        6\n",
            "2008        1\n",
            "Name: count, dtype: Int64\n"
          ]
        }
      ],
      "source": [
        "# Descricion del total de restaurantes Fast Food\n",
        "print(fastfood_restaurants_reseñas['year'].describe())\n",
        "print(f'\\nCantidad de comentarios por Ano: {fastfood_restaurants_reseñas[\"year\"].value_counts()}')"
      ]
    },
    {
      "cell_type": "code",
      "execution_count": 91,
      "metadata": {
        "colab": {
          "base_uri": "https://localhost:8080/"
        },
        "id": "iYGpdBezWcFP",
        "outputId": "261e6195-0dba-41d9-f33f-23948c562904"
      },
      "outputs": [
        {
          "name": "stdout",
          "output_type": "stream",
          "text": [
            "count         8381.0\n",
            "mean     2018.720916\n",
            "std          1.31397\n",
            "min           2010.0\n",
            "25%           2018.0\n",
            "50%           2019.0\n",
            "75%           2019.0\n",
            "max           2021.0\n",
            "Name: year, dtype: Float64\n",
            "\n",
            "Cantidad de comentarios por Ano: year\n",
            "2019    3251\n",
            "2018    1998\n",
            "2020    1202\n",
            "2017     784\n",
            "2021     741\n",
            "2016     291\n",
            "2015      54\n",
            "2014      25\n",
            "2013      13\n",
            "2012      12\n",
            "2011       9\n",
            "2010       1\n",
            "Name: count, dtype: Int64\n"
          ]
        }
      ],
      "source": [
        "# Descricion del total de restaurantes Subway\n",
        "print(subway_reseñas['year'].describe())\n",
        "print(f'\\nCantidad de comentarios por Ano: {subway_reseñas[\"year\"].value_counts()}')"
      ]
    },
    {
      "cell_type": "markdown",
      "metadata": {
        "id": "4F5ZAUlwbRoc"
      },
      "source": [
        "\n",
        "\n",
        "---\n",
        "### **Grafico de Caja para detallar los 'Outliers':**\n"
      ]
    },
    {
      "cell_type": "code",
      "execution_count": 92,
      "metadata": {
        "colab": {
          "base_uri": "https://localhost:8080/",
          "height": 683
        },
        "id": "1irzw7o8YAWK",
        "outputId": "3cb1c620-858d-4503-cc80-19ac392be153"
      },
      "outputs": [
        {
          "name": "stderr",
          "output_type": "stream",
          "text": [
            "C:\\Users\\flore\\AppData\\Local\\Temp\\ipykernel_24104\\2124061564.py:5: SettingWithCopyWarning: \n",
            "A value is trying to be set on a copy of a slice from a DataFrame.\n",
            "Try using .loc[row_indexer,col_indexer] = value instead\n",
            "\n",
            "See the caveats in the documentation: https://pandas.pydata.org/pandas-docs/stable/user_guide/indexing.html#returning-a-view-versus-a-copy\n",
            "  fastfood_restaurants_reseñas['year'] = fastfood_restaurants_reseñas['year'].astype('Int64')\n",
            "C:\\Users\\flore\\AppData\\Local\\Temp\\ipykernel_24104\\2124061564.py:8: SettingWithCopyWarning: \n",
            "A value is trying to be set on a copy of a slice from a DataFrame.\n",
            "Try using .loc[row_indexer,col_indexer] = value instead\n",
            "\n",
            "See the caveats in the documentation: https://pandas.pydata.org/pandas-docs/stable/user_guide/indexing.html#returning-a-view-versus-a-copy\n",
            "  subway_reseñas['year'] = subway_reseñas['year'].astype('Int64')\n"
          ]
        },
        {
          "data": {
            "image/png": "[encoded data removed]",
            "text/plain": [
              "<Figure size 1500x600 with 3 Axes>"
            ]
          },
          "metadata": {},
          "output_type": "display_data"
        }
      ],
      "source": [
        "# Convertir la columna 'year' a tipo 'Int64' si no lo está\n",
        "restaurantes_fl['year'] = restaurantes_fl['year'].astype('Int64')\n",
        "\n",
        "# Convertir la columna 'year' a tipo 'Int64' si no lo está\n",
        "fastfood_restaurants_reseñas['year'] = fastfood_restaurants_reseñas['year'].astype('Int64')\n",
        "\n",
        "# Convertir la columna 'year' a tipo 'Int64' si no lo está\n",
        "subway_reseñas['year'] = subway_reseñas['year'].astype('Int64')\n",
        "\n",
        "# Crear el gráfico de boxplots\n",
        "plt.figure(figsize=(15, 6))\n",
        "\n",
        "# Boxplot para restaurantes_fl\n",
        "plt.subplot(1, 3, 1)\n",
        "restaurantes_fl.boxplot(column='year')\n",
        "plt.title('Restaurantes')\n",
        "plt.xlabel('Años')\n",
        "plt.ylabel('Valores')\n",
        "plt.grid(True)\n",
        "\n",
        "# Boxplot para fastfood_restaurants_reseñas\n",
        "plt.subplot(1, 3, 2)\n",
        "fastfood_restaurants_reseñas.boxplot(column='year')\n",
        "plt.title('Restaurantes de Comida Rápida')\n",
        "plt.xlabel('Años')\n",
        "plt.ylabel('Valores')\n",
        "plt.grid(True)\n",
        "\n",
        "# Boxplot para subway_reseñas\n",
        "plt.subplot(1, 3, 3)\n",
        "subway_reseñas.boxplot(column='year')\n",
        "plt.title('Subway')\n",
        "plt.xlabel('Años')\n",
        "plt.ylabel('Valores')\n",
        "plt.grid(True)\n",
        "\n",
        "plt.tight_layout()\n",
        "plt.show()\n"
      ]
    },
    {
      "cell_type": "markdown",
      "metadata": {
        "id": "UgN2vNFFONhC"
      },
      "source": [
        "**Observaciones:**\n",
        "\n",
        "- En el primer grafico de restaurantes se puede observar una caja simetrica, en donde la mediana se ubica aproximadamente entre los años 2019 y la mayor concentracion de los datos entre 2018 y 2020. Se puede observar la presencia de Outliers, entre 1990 y 2014.\n",
        "\n",
        "- En el segundo grafico de Fast Food se puede observar una caja simetrica, en donde la mediana se ubica aproximadamente entre los años 2019 y la mayor concentracion de los datos entre 2018 y 2020. Se puede observar la presencia de Outliers, entre 2004 y 2014.\n",
        "\n",
        "- En el tercer grafico de Fast Food se puede observar una caja asimetrica, presenta un sesgo negativo, hacia la izquierda en donde la mediana se ubica aproximadamente en los años 2019 y es muy similar al tercer cuartil. La concentracion de los datos entre 2018 y 2019. Se puede observar la presencia de Outliers, entre 2008 y 2016, tambien se observan Outliers mayores al año 2020."
      ]
    },
    {
      "cell_type": "markdown",
      "metadata": {
        "id": "9xoEN4KveZiE"
      },
      "source": [
        "\n",
        "\n",
        "---\n",
        "### **Promedio de Clasificaciones:**\n"
      ]
    },
    {
      "cell_type": "code",
      "execution_count": 93,
      "metadata": {
        "colab": {
          "base_uri": "https://localhost:8080/",
          "height": 970
        },
        "id": "p435cEKPoiVI",
        "outputId": "974e7ea9-4125-4aab-b225-739d169787e2"
      },
      "outputs": [
        {
          "data": {
            "image/png": "[encoded data removed]",
            "text/plain": [
              "<Figure size 1500x500 with 3 Axes>"
            ]
          },
          "metadata": {},
          "output_type": "display_data"
        },
        {
          "name": "stdout",
          "output_type": "stream",
          "text": [
            "\n",
            "Descripcion Estadistica de Restaurantes:\n",
            "count    952622.000000\n",
            "mean          4.172588\n",
            "std           0.399393\n",
            "min           1.500000\n",
            "25%           4.000000\n",
            "50%           4.300000\n",
            "75%           4.500000\n",
            "max           5.000000\n",
            "Name: avg_rating, dtype: float64\n",
            "\n",
            "Descripcion Estadistica de Restaurantes Fast Food:\n",
            "count    234209.000000\n",
            "mean          3.799988\n",
            "std           0.443036\n",
            "min           1.800000\n",
            "25%           3.500000\n",
            "50%           3.700000\n",
            "75%           4.100000\n",
            "max           5.000000\n",
            "Name: avg_rating, dtype: float64\n",
            "\n",
            "Descripcion Estadistica de Restaurantes Subway:\n",
            "count    8381.000000\n",
            "mean        3.887555\n",
            "std         0.330034\n",
            "min         2.300000\n",
            "25%         3.700000\n",
            "50%         4.000000\n",
            "75%         4.100000\n",
            "max         4.600000\n",
            "Name: avg_rating, dtype: float64\n"
          ]
        }
      ],
      "source": [
        "# Variables con los valores Rating\n",
        "datos_ny = restaurantes_fl['avg_rating']\n",
        "datos_fastfood = fastfood_restaurants_reseñas['avg_rating']\n",
        "datos_subway = subway_reseñas['avg_rating']\n",
        "\n",
        "# Crear tres subgráficos uno al lado del otro\n",
        "fig, axes = plt.subplots(nrows=1, ncols=3, figsize=(15, 5))\n",
        "\n",
        "# Histograma para restaurantes en Florida\n",
        "axes[0].hist(datos_ny, bins=20, color='blue', alpha=0.7)\n",
        "axes[0].set_title('Restaurantes ')\n",
        "axes[0].set_xlabel('Calificación Promedio')\n",
        "axes[0].set_ylabel('Frecuencia')\n",
        "\n",
        "# Histograma para restaurantes de comida rápida\n",
        "axes[1].hist(datos_fastfood, bins=20, color='orange', alpha=0.7)\n",
        "axes[1].set_title('Restaurantes de Comida Rápida')\n",
        "axes[1].set_xlabel('Calificación Promedio')\n",
        "axes[1].set_ylabel('Frecuencia')\n",
        "\n",
        "# Histograma para Subway\n",
        "axes[2].hist(datos_subway, bins=20, color='green', alpha=0.7)\n",
        "axes[2].set_title('Subway')\n",
        "axes[2].set_xlabel('Calificación Promedio')\n",
        "axes[2].set_ylabel('Frecuencia')\n",
        "\n",
        "# Ajustar el diseño y mostrar el gráfico\n",
        "plt.tight_layout()\n",
        "plt.show()\n",
        "\n",
        "print(f'\\nDescripcion Estadistica de Restaurantes:\\n{restaurantes_fl[\"avg_rating\"].describe()}')\n",
        "print(f'\\nDescripcion Estadistica de Restaurantes Fast Food:\\n{fastfood_restaurants_reseñas[\"avg_rating\"].describe()}')\n",
        "print(f'\\nDescripcion Estadistica de Restaurantes Subway:\\n{subway_reseñas[\"avg_rating\"].describe()}')"
      ]
    },
    {
      "cell_type": "markdown",
      "metadata": {
        "id": "n_mKwuzVRv_0"
      },
      "source": [
        "**Observaciones:**\n",
        "\n",
        "- Restaurantes Generales:\n",
        "\n",
        "La media del promedio de rating para restaurantes generales es de aproximadamente 4.17, con una desviación estándar de 0.39. Esto indica que, en promedio, estos restaurantes son bien valorados por los clientes, con una variabilidad moderada en los ratings.\n",
        "La mediana es de 3.7, lo que sugiere que la mitad de los restaurantes tienen un rating igual o superior a este valor.\n",
        "La distribución de los ratings se encuentra en un rango amplio, desde 1.5 hasta 5.0, lo que indica una diversidad en las experiencias de los clientes.\n",
        "\n",
        "- Restaurantes de Comida Rápida:\n",
        "\n",
        "Los restaurantes de comida rápida tienen una media del promedio de rating de aproximadamente 3.79, con una desviación estándar de 0.33. Esto sugiere que, en promedio, estos restaurantes son valorados ligeramente menos que los restaurantes generales, con una menor variabilidad en los ratings.\n",
        "La mediana es de 4.0, indicando que la mitad de los restaurantes de comida rápida tienen un rating igual o inferior a este valor.\n",
        "El rango de ratings va desde 1.6 hasta 5.0, mostrando una amplia gama de experiencias de los clientes, aunque en promedio son ligeramente inferiores a los restaurantes generales.\n",
        "\n",
        "- Restaurantes Subway:\n",
        "\n",
        "Para los restaurantes Subway, la media del promedio de rating es de aproximadamente 3.80, con una desviación estándar de 0.33. Esto sugiere que estos restaurantes tienen una valoración similar a los de comida rápida, con una variabilidad similar en los ratings.\n",
        "La mediana es de 4.0, indicando que la mitad de los restaurantes Subway tienen un rating igual o inferior a este valor.\n",
        "El rango de ratings va desde 1.8 hasta 4.6, mostrando una menor dispersión en comparación con los restaurantes generales y de comida rápida.\n"
      ]
    },
    {
      "cell_type": "markdown",
      "metadata": {
        "id": "TPZgF-6oT6h8"
      },
      "source": [
        "\n",
        "\n",
        "---\n",
        "\n",
        "\n",
        "## **Calificación Promedio por Año y Tipo de Restaurante (Años Comunes)**"
      ]
    },
    {
      "cell_type": "code",
      "execution_count": 94,
      "metadata": {
        "id": "Z6ixPEX4ptOz"
      },
      "outputs": [],
      "source": [
        "# Agrupar por año y calcular la calificación promedio\n",
        "calificacion_promedio_por_año_estaurantes = restaurantes_fl.groupby('year')['avg_rating'].mean()\n",
        "calificacion_promedio_por_año_fastfood = fastfood_restaurants_reseñas.groupby('year')['avg_rating'].mean()\n",
        "calificacion_promedio_por_año_subway = subway_reseñas.groupby('year')['avg_rating'].mean()"
      ]
    },
    {
      "cell_type": "code",
      "execution_count": 95,
      "metadata": {
        "colab": {
          "base_uri": "https://localhost:8080/",
          "height": 607
        },
        "id": "kjtKiNpLqTr0",
        "outputId": "692d2f41-4969-4551-afdc-533402a7b0a9"
      },
      "outputs": [
        {
          "data": {
            "image/png": "[encoded data removed]",
            "text/plain": [
              "<Figure size 1000x600 with 1 Axes>"
            ]
          },
          "metadata": {},
          "output_type": "display_data"
        }
      ],
      "source": [
        "# Agrupar por año y calcular la calificación promedio\n",
        "calificacion_promedio_por_año_estaurantes = restaurantes_fl.groupby('year')['avg_rating'].mean()\n",
        "calificacion_promedio_por_año_fastfood = fastfood_restaurants_reseñas.groupby('year')['avg_rating'].mean()\n",
        "calificacion_promedio_por_año_subway = subway_reseñas.groupby('year')['avg_rating'].mean()\n",
        "\n",
        "# Obtener los años que están presentes en todos los conjuntos de datos\n",
        "años_comunes = set(calificacion_promedio_por_año_estaurantes.index) & set(calificacion_promedio_por_año_fastfood.index) & set(calificacion_promedio_por_año_subway.index)\n",
        "\n",
        "# Convertir los años comunes a una lista para mantener el orden\n",
        "años_comunes = list(años_comunes)\n",
        "\n",
        "# Filtrar los datos de calificación promedio por año para los años comunes\n",
        "calificacion_promedio_ny_comunes = [calificacion_promedio_por_año_estaurantes[year] for year in años_comunes]\n",
        "calificacion_promedio_fastfood_comunes = [calificacion_promedio_por_año_fastfood[year] for year in años_comunes]\n",
        "calificacion_promedio_subway_comunes = [calificacion_promedio_por_año_subway[year] for year in años_comunes]\n",
        "\n",
        "# Crear el gráfico de columnas apiladas\n",
        "plt.figure(figsize=(10, 6))\n",
        "\n",
        "# Plotear las calificaciones promedio por año para cada tipo de restaurante\n",
        "plt.bar(años_comunes, calificacion_promedio_ny_comunes, label='Restaurantes FL', color='blue')\n",
        "plt.bar(años_comunes, calificacion_promedio_fastfood_comunes, bottom=calificacion_promedio_ny_comunes, label='Fast Food', color='orange')\n",
        "plt.bar(años_comunes, calificacion_promedio_subway_comunes, bottom=[sum(x) for x in zip(calificacion_promedio_ny_comunes, calificacion_promedio_fastfood_comunes)], label='Subway', color='green')\n",
        "\n",
        "# Personalizar el gráfico\n",
        "plt.xlabel('Año')\n",
        "plt.ylabel('Calificación Promedio')\n",
        "plt.title('Calificación Promedio por Año y Tipo de Restaurante (Años Comunes)')\n",
        "plt.xticks(años_comunes)  # Mostrar solo los años comunes en el eje x\n",
        "plt.legend()\n",
        "\n",
        "# Mostrar el gráfico\n",
        "plt.grid(True)\n",
        "plt.tight_layout()\n",
        "plt.show()\n"
      ]
    },
    {
      "cell_type": "markdown",
      "metadata": {
        "id": "69mJUXVlUHpR"
      },
      "source": [
        "**Observaciones:**\n",
        "- Se puede observar que entre los años 2009 y 2021 entre las tres variables, el comportamiento de los clientes es similar. Se mantiene constanate en los años y el valor de la calificacion.\n",
        "A excepcion del entre el año 2009 y 2012 de las calificaciones de Subway hay una fluctuacion en menores las calificaciones."
      ]
    },
    {
      "cell_type": "markdown",
      "metadata": {
        "id": "iKB9-vwsU7sC"
      },
      "source": [
        "\n",
        "\n",
        "---\n",
        "\n",
        "\n",
        "\n",
        "---\n",
        "\n"
      ]
    },
    {
      "cell_type": "code",
      "execution_count": null,
      "metadata": {},
      "outputs": [],
      "source": [
        "restaurantes_fl.to_csv('sentimientofl.csv')"
      ]
    }
  ],
  "metadata": {
    "colab": {
      "provenance": []
    },
    "kernelspec": {
      "display_name": "Python 3",
      "name": "python3"
    },
    "language_info": {
      "codemirror_mode": {
        "name": "ipython",
        "version": 3
      },
      "file_extension": ".py",
      "mimetype": "text/x-python",
      "name": "python",
      "nbconvert_exporter": "python",
      "pygments_lexer": "ipython3",
      "version": "3.11.8"
    }
  },
  "nbformat": 4,
  "nbformat_minor": 0
}
